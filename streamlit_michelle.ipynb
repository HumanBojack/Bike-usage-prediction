{
 "cells": [
  {
   "cell_type": "code",
   "execution_count": 2,
   "id": "ee424023-4b31-42ed-a722-979c11742f92",
   "metadata": {},
   "outputs": [
    {
     "name": "stderr",
     "output_type": "stream",
     "text": [
      "2022-03-25 13:38:28.159 INFO    numexpr.utils: NumExpr defaulting to 8 threads.\n"
     ]
    }
   ],
   "source": [
    "import streamlit as st\n",
    "import pickle"
   ]
  },
  {
   "cell_type": "code",
   "execution_count": 3,
   "id": "eeb96bc1-52ce-4a10-aa09-fada920f338d",
   "metadata": {},
   "outputs": [],
   "source": [
    "# App configs\n",
    "st.set_page_config(\n",
    "page_title=\"Bike Sharing Demand Prediction\",\n",
    "layout=\"centered\",\n",
    "initial_sidebar_state=\"expanded\",\n",
    ")\n"
   ]
  },
  {
   "cell_type": "code",
   "execution_count": 4,
   "id": "31990ca5-3dc4-4c78-a886-a99ea093b1fa",
   "metadata": {},
   "outputs": [
    {
     "name": "stderr",
     "output_type": "stream",
     "text": [
      "2022-03-25 13:38:40.722 \n",
      "  \u001b[33m\u001b[1mWarning:\u001b[0m to view this Streamlit app on a browser, run it with the following\n",
      "  command:\n",
      "\n",
      "    streamlit run /home/michelle/anaconda3/envs/env_ml/lib/python3.9/site-packages/ipykernel_launcher.py [ARGUMENTS]\n"
     ]
    },
    {
     "data": {
      "text/plain": [
       "DeltaGenerator(_root_container=0, _provided_cursor=None, _parent=None, _block_type=None, _form_data=None)"
      ]
     },
     "execution_count": 4,
     "metadata": {},
     "output_type": "execute_result"
    }
   ],
   "source": [
    "# Heading\n",
    "st.markdown(\"<h1 style='text-align: center; background-color:deepskyblue'>🚴 Bike Rental Demand Prediction 🚴</h1>\", \n",
    "            unsafe_allow_html=True)\n"
   ]
  },
  {
   "cell_type": "code",
   "execution_count": null,
   "id": "6903e2b7-360e-42ab-959e-77108a19d67f",
   "metadata": {},
   "outputs": [],
   "source": [
    "# Sub heading\n",
    "st.markdown(\"<h4 style='text-align: center'><i>∞∞∞ A Machine Learning based web app to predict bike rental demand ∞∞∞</i></h4>\",\n",
    "            unsafe_allow_html=True)"
   ]
  },
  {
   "cell_type": "code",
   "execution_count": null,
   "id": "c57c3b4d-fc8f-408a-8caa-d70ec0b3192f",
   "metadata": {},
   "outputs": [],
   "source": [
    "# Image\n",
    "st.markdown(\"<h1 align='center'><img src='https://storage.googleapis.com/kaggle-competitions/kaggle/3948/media/bikes.png'></img></h1>\", \n",
    "            unsafe_allow_html=True)"
   ]
  },
  {
   "cell_type": "code",
   "execution_count": null,
   "id": "cf859a9b-89a1-4899-adab-ea78dda64602",
   "metadata": {},
   "outputs": [],
   "source": [
    "# About \n",
    "st.write(\"Bike sharing systems are a means of renting bicycles where the process of obtaining membership, rental, and bike return is automated via a network of kiosk locations throughout a city. Using these systems, people are able rent a bike from a one location and return it to a different place on an as-needed basis.\")\n",
    "st.write(\"This project is based on a Kaggle competition. Our task is to combine historical usage patterns with weather data in order to forecast bike rental demand in the Capital Bikeshare program in Washington, D.C.\")\n",
    "st.markdown(\"<i>For more details on this competition, [visit here](https://www.kaggle.com/c/bike-sharing-demand).</i>\", unsafe_allow_html=True)\n",
    "\n",
    "st.markdown(\"<br><h4><b> Please fill in the below details:</b></h4><br>\", unsafe_allow_html=True)\n",
    "\n"
   ]
  },
  {
   "cell_type": "code",
   "execution_count": null,
   "id": "020e4d96-d326-495b-bb81-6b53d908282d",
   "metadata": {},
   "outputs": [],
   "source": [
    "# User input features\n",
    "date = st.date_input(\"Enter date :\")\n",
    "time = st.time_input(\"Enter Time (HH24:MM):\")\n",
    "day = st.selectbox(\"What type of day is it?\", ['Holiday', 'Working day', 'Weekend'])\n",
    "weather = st.selectbox(\"What type of weather is it?\", \n",
    "             ['Clear/Few clouds', \n",
    "              'Mist/Cloudy', \n",
    "              'Light Rain/Light Snow/Scattered clouds',\n",
    "              'Heavy Rain/Snowfall/Foggy/Thunderstorm'])\n",
    "temp = st.text_input(\"Enter temperature (in °C):\")\n",
    "humidity = st.text_input(\"Enter humidity (in %):\")\n",
    "windspeed = st.text_input(\"Enter windspeed (in km/h):\")\n",
    "\n",
    "if st.button(\"Predict Rentals\"):\n",
    "    if ((date=='') | (time=='') | (day=='') | (weather=='') | \n",
    "        (temp=='') | (humidity=='') | (windspeed=='')):\n",
    "        st.error(\"Please fill all fields before proceeding.\")\n",
    "    else :\n",
    "        # You will have to create the model\n",
    "        savedmodel = open('tu_n_as_pas_encore_creer_le_modele_alors_forcement_ca_peut_pas_marcher.pkl', 'rb')\n",
    "        model = pickle.load(savedmodel)\n",
    "        savedmodel.close()\n",
    "    \n",
    "        prediction = int(model.predict(date, time, day, weather, temp, humidity, windspeed))   \n",
    "        st.success(\"There will be an approx. demand of \" + str(prediction) + \" bikes for above conditions.\")\n"
   ]
  }
 ],
 "metadata": {
  "kernelspec": {
   "display_name": "Python 3 (ipykernel)",
   "language": "python",
   "name": "python3"
  },
  "language_info": {
   "codemirror_mode": {
    "name": "ipython",
    "version": 3
   },
   "file_extension": ".py",
   "mimetype": "text/x-python",
   "name": "python",
   "nbconvert_exporter": "python",
   "pygments_lexer": "ipython3",
   "version": "3.9.7"
  }
 },
 "nbformat": 4,
 "nbformat_minor": 5
}
