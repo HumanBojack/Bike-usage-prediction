{
 "cells": [
  {
   "cell_type": "markdown",
   "metadata": {},
   "source": [
    "# Various imports"
   ]
  },
  {
   "cell_type": "code",
   "execution_count": 181,
   "metadata": {},
   "outputs": [],
   "source": [
    "import pandas as pd\n",
    "import numpy as np\n",
    "import seaborn as sns\n",
    "import plotly.express as px\n",
    "import matplotlib.pyplot as plt"
   ]
  },
  {
   "cell_type": "code",
   "execution_count": 182,
   "metadata": {},
   "outputs": [],
   "source": [
    "from sklearn.preprocessing import OneHotEncoder, FunctionTransformer\n",
    "from sklearn.compose import make_column_transformer\n",
    "from sklearn.model_selection import train_test_split\n",
    "from sklearn.pipeline import Pipeline\n",
    "from sklearn.metrics import mean_absolute_error, mean_squared_error, r2_score\n",
    "from sklearn.ensemble import StackingClassifier"
   ]
  },
  {
   "cell_type": "code",
   "execution_count": 183,
   "metadata": {},
   "outputs": [],
   "source": [
    "from lightgbm import LGBMRegressor"
   ]
  },
  {
   "cell_type": "code",
   "execution_count": 184,
   "metadata": {},
   "outputs": [],
   "source": [
    "import pickle # => Might want to use cPickle"
   ]
  },
  {
   "cell_type": "code",
   "execution_count": 185,
   "metadata": {},
   "outputs": [],
   "source": [
    "df = pd.read_csv(\"data/train.csv\")\n",
    "pd.set_option('display.max_columns', None)"
   ]
  },
  {
   "cell_type": "markdown",
   "metadata": {},
   "source": [
    "# Outliers removing"
   ]
  },
  {
   "cell_type": "code",
   "execution_count": 186,
   "metadata": {},
   "outputs": [],
   "source": [
    "df = df[(np.abs(df[\"temp\"] - df[\"atemp\"]) < 10)] # Removes values where the difference between real and felt temperature is too high"
   ]
  },
  {
   "cell_type": "markdown",
   "metadata": {},
   "source": [
    "# Split"
   ]
  },
  {
   "cell_type": "code",
   "execution_count": 187,
   "metadata": {},
   "outputs": [],
   "source": [
    "# X = df.drop([\"count\", \"registered\", \"casual\", \"season\", \"holiday\", \"workingday\"], axis=1) # , \"temp\", \"atemp\"\n",
    "# y = df[\"count\"]\n",
    "# X_train, X_test, y_train, y_test = train_test_split(X, y, test_size=0.2, random_state=42)"
   ]
  },
  {
   "cell_type": "code",
   "execution_count": 188,
   "metadata": {},
   "outputs": [],
   "source": [
    "date_mask = ((df[\"datetime\"] >= \"2012-09-01\") & (df[\"datetime\"] <= \"2012-12-31\"))\n",
    "X = df.drop([\"registered\", \"casual\", \"season\", \"holiday\", \"workingday\"], axis=1)\n",
    "\n",
    "X_train = X[~date_mask].drop([\"count\"], axis=1)\n",
    "y_train = X[~date_mask][\"count\"]\n",
    "\n",
    "X_test = X[date_mask].drop([\"count\"], axis=1)\n",
    "y_test = X[date_mask][\"count\"]"
   ]
  },
  {
   "cell_type": "markdown",
   "metadata": {},
   "source": [
    "# Pipeline"
   ]
  },
  {
   "cell_type": "markdown",
   "metadata": {},
   "source": [
    "## Custom Transformers"
   ]
  },
  {
   "cell_type": "code",
   "execution_count": 189,
   "metadata": {},
   "outputs": [
    {
     "name": "stdout",
     "output_type": "stream",
     "text": [
      "The autoreload extension is already loaded. To reload it, use:\n",
      "  %reload_ext autoreload\n"
     ]
    }
   ],
   "source": [
    "%load_ext autoreload\n",
    "%autoreload 2\n",
    "from model_api.app.custom_transformers import DateParser"
   ]
  },
  {
   "cell_type": "markdown",
   "metadata": {},
   "source": [
    "## Preprocessor"
   ]
  },
  {
   "cell_type": "code",
   "execution_count": 190,
   "metadata": {},
   "outputs": [],
   "source": [
    "preprocessor = make_column_transformer(\n",
    "    (DateParser(), [\"datetime\"]),\n",
    "    # (OneHotEncoder(), [\"season\"]),\n",
    "    remainder=\"passthrough\"\n",
    ")"
   ]
  },
  {
   "cell_type": "markdown",
   "metadata": {},
   "source": [
    "# Model"
   ]
  },
  {
   "cell_type": "code",
   "execution_count": 191,
   "metadata": {},
   "outputs": [],
   "source": [
    "def eval_metrics(actual, pred):\n",
    "    mae = mean_absolute_error(actual, pred)\n",
    "    mse = mean_squared_error(actual, pred)\n",
    "    r2 = r2_score(actual, pred)\n",
    "    return mae, np.sqrt(mse), r2"
   ]
  },
  {
   "cell_type": "code",
   "execution_count": 192,
   "metadata": {},
   "outputs": [
    {
     "data": {
      "text/plain": [
       "Pipeline(steps=[('preprocessor',\n",
       "                 ColumnTransformer(remainder='passthrough',\n",
       "                                   transformers=[('dateparser', DateParser(),\n",
       "                                                  ['datetime'])])),\n",
       "                ('model', LGBMRegressor())])"
      ]
     },
     "execution_count": 192,
     "metadata": {},
     "output_type": "execute_result"
    }
   ],
   "source": [
    "model = Pipeline([(\"preprocessor\", preprocessor), (\"model\", LGBMRegressor())])\n",
    "model.fit(X_train, y_train)"
   ]
  },
  {
   "cell_type": "code",
   "execution_count": 193,
   "metadata": {},
   "outputs": [
    {
     "name": "stdout",
     "output_type": "stream",
     "text": [
      "MAE: 44.02253031206944\n",
      "RMSE: 68.13303562399096\n",
      "R2: 0.90004843965176\n"
     ]
    }
   ],
   "source": [
    "y_pred = model.predict(X_test)\n",
    "mae, rmse, r2 = eval_metrics(y_test, y_pred)\n",
    "print(f\"MAE: {mae}\\nRMSE: {rmse}\\nR2: {r2}\")"
   ]
  },
  {
   "cell_type": "markdown",
   "metadata": {},
   "source": [
    "## Save as pickle file"
   ]
  },
  {
   "cell_type": "code",
   "execution_count": 194,
   "metadata": {},
   "outputs": [],
   "source": [
    "pickle.dump(model, open(\"data/lightgbm.pkl\", \"wb\"))"
   ]
  },
  {
   "cell_type": "markdown",
   "metadata": {},
   "source": [
    "# Double Model "
   ]
  },
  {
   "cell_type": "markdown",
   "metadata": {},
   "source": [
    "## Registered model"
   ]
  },
  {
   "cell_type": "code",
   "execution_count": 195,
   "metadata": {},
   "outputs": [],
   "source": [
    "X = df.drop([\"casual\", \"season\", \"holiday\", \"workingday\", \"count\"], axis=1)\n",
    "\n",
    "X_train = X[~date_mask].drop([\"registered\"], axis=1)\n",
    "y_train = X[~date_mask][\"registered\"]\n",
    "\n",
    "X_test = X[date_mask].drop([\"registered\"], axis=1)\n",
    "y_test = X[date_mask][\"registered\"]"
   ]
  },
  {
   "cell_type": "code",
   "execution_count": 196,
   "metadata": {},
   "outputs": [
    {
     "data": {
      "text/plain": [
       "Pipeline(steps=[('preprocessor',\n",
       "                 ColumnTransformer(remainder='passthrough',\n",
       "                                   transformers=[('dateparser', DateParser(),\n",
       "                                                  ['datetime'])])),\n",
       "                ('model', LGBMRegressor())])"
      ]
     },
     "execution_count": 196,
     "metadata": {},
     "output_type": "execute_result"
    }
   ],
   "source": [
    "model_re = Pipeline([(\"preprocessor\", preprocessor), (\"model\", LGBMRegressor())])\n",
    "model_re.fit(X_train, y_train)"
   ]
  },
  {
   "cell_type": "code",
   "execution_count": 197,
   "metadata": {},
   "outputs": [
    {
     "name": "stdout",
     "output_type": "stream",
     "text": [
      "MAE: 40.913355042278546\n",
      "RMSE: 62.54841451417858\n",
      "R2: 0.8865507044100843\n"
     ]
    }
   ],
   "source": [
    "y_pred = model_re.predict(X_test)\n",
    "mae, rmse, r2 = eval_metrics(y_test, y_pred)\n",
    "print(f\"MAE: {mae}\\nRMSE: {rmse}\\nR2: {r2}\")"
   ]
  },
  {
   "cell_type": "markdown",
   "metadata": {},
   "source": [
    "## Casual model"
   ]
  },
  {
   "cell_type": "code",
   "execution_count": 198,
   "metadata": {},
   "outputs": [],
   "source": [
    "X = df.drop([\"registered\", \"season\", \"holiday\", \"workingday\", \"count\"], axis=1)\n",
    "\n",
    "X_train = X[~date_mask].drop([\"casual\"], axis=1)\n",
    "y_train = X[~date_mask][\"casual\"]\n",
    "\n",
    "X_test = X[date_mask].drop([\"casual\"], axis=1)\n",
    "y_test = X[date_mask][\"casual\"]"
   ]
  },
  {
   "cell_type": "code",
   "execution_count": 199,
   "metadata": {},
   "outputs": [
    {
     "data": {
      "text/plain": [
       "Pipeline(steps=[('preprocessor',\n",
       "                 ColumnTransformer(remainder='passthrough',\n",
       "                                   transformers=[('dateparser', DateParser(),\n",
       "                                                  ['datetime'])])),\n",
       "                ('model', LGBMRegressor())])"
      ]
     },
     "execution_count": 199,
     "metadata": {},
     "output_type": "execute_result"
    }
   ],
   "source": [
    "model_ca = Pipeline([(\"preprocessor\", preprocessor), (\"model\", LGBMRegressor())])\n",
    "model_ca.fit(X_train, y_train)"
   ]
  },
  {
   "cell_type": "code",
   "execution_count": 200,
   "metadata": {},
   "outputs": [
    {
     "name": "stdout",
     "output_type": "stream",
     "text": [
      "MAE: 11.89284631614057\n",
      "RMSE: 20.410499100928064\n",
      "R2: 0.8616637994138227\n"
     ]
    }
   ],
   "source": [
    "y_pred = model_ca.predict(X_test)\n",
    "mae, rmse, r2 = eval_metrics(y_test, y_pred)\n",
    "print(f\"MAE: {mae}\\nRMSE: {rmse}\\nR2: {r2}\")"
   ]
  },
  {
   "cell_type": "markdown",
   "metadata": {},
   "source": [
    "## Combining both"
   ]
  },
  {
   "cell_type": "code",
   "execution_count": 201,
   "metadata": {},
   "outputs": [],
   "source": [
    "clf = make_column_transformer"
   ]
  },
  {
   "cell_type": "code",
   "execution_count": 202,
   "metadata": {},
   "outputs": [
    {
     "ename": "AttributeError",
     "evalue": "'function' object has no attribute 'predict'",
     "output_type": "error",
     "traceback": [
      "\u001b[0;31m---------------------------------------------------------------------------\u001b[0m",
      "\u001b[0;31mAttributeError\u001b[0m                            Traceback (most recent call last)",
      "\u001b[1;32m/Users/rom1/Documents/VSCode/cours/vlille-reg/model.ipynb Cell 34'\u001b[0m in \u001b[0;36m<module>\u001b[0;34m\u001b[0m\n\u001b[0;32m----> <a href='vscode-notebook-cell:/Users/rom1/Documents/VSCode/cours/vlille-reg/model.ipynb#ch0000031?line=0'>1</a>\u001b[0m y_pred \u001b[39m=\u001b[39m clf\u001b[39m.\u001b[39;49mpredict(X_test)\n\u001b[1;32m      <a href='vscode-notebook-cell:/Users/rom1/Documents/VSCode/cours/vlille-reg/model.ipynb#ch0000031?line=1'>2</a>\u001b[0m mae, rmse, r2 \u001b[39m=\u001b[39m eval_metrics(y_test, y_pred)\n\u001b[1;32m      <a href='vscode-notebook-cell:/Users/rom1/Documents/VSCode/cours/vlille-reg/model.ipynb#ch0000031?line=2'>3</a>\u001b[0m \u001b[39mprint\u001b[39m(\u001b[39mf\u001b[39m\u001b[39m\"\u001b[39m\u001b[39mMAE: \u001b[39m\u001b[39m{\u001b[39;00mmae\u001b[39m}\u001b[39;00m\u001b[39m\\n\u001b[39;00m\u001b[39mRMSE: \u001b[39m\u001b[39m{\u001b[39;00mrmse\u001b[39m}\u001b[39;00m\u001b[39m\\n\u001b[39;00m\u001b[39mR2: \u001b[39m\u001b[39m{\u001b[39;00mr2\u001b[39m}\u001b[39;00m\u001b[39m\"\u001b[39m)\n",
      "\u001b[0;31mAttributeError\u001b[0m: 'function' object has no attribute 'predict'"
     ]
    }
   ],
   "source": [
    "y_pred = clf.predict(X_test)\n",
    "mae, rmse, r2 = eval_metrics(y_test, y_pred)\n",
    "print(f\"MAE: {mae}\\nRMSE: {rmse}\\nR2: {r2}\")"
   ]
  },
  {
   "cell_type": "code",
   "execution_count": null,
   "metadata": {},
   "outputs": [],
   "source": []
  }
 ],
 "metadata": {
  "interpreter": {
   "hash": "b4f38127354bbbf11134e8c14cc17daac7b35e8faaf836cc12d7980bb5480b10"
  },
  "kernelspec": {
   "display_name": "Python 3.10.0 ('datascience')",
   "language": "python",
   "name": "python3"
  },
  "language_info": {
   "codemirror_mode": {
    "name": "ipython",
    "version": 3
   },
   "file_extension": ".py",
   "mimetype": "text/x-python",
   "name": "python",
   "nbconvert_exporter": "python",
   "pygments_lexer": "ipython3",
   "version": "3.10.0"
  },
  "orig_nbformat": 4
 },
 "nbformat": 4,
 "nbformat_minor": 2
}
