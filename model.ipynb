{
 "cells": [
  {
   "cell_type": "markdown",
   "metadata": {},
   "source": [
    "# Various imports"
   ]
  },
  {
   "cell_type": "code",
   "execution_count": 238,
   "metadata": {},
   "outputs": [],
   "source": [
    "import pandas as pd\n",
    "import numpy as np\n",
    "import seaborn as sns\n",
    "import plotly.express as px\n",
    "import matplotlib.pyplot as plt"
   ]
  },
  {
   "cell_type": "code",
   "execution_count": 239,
   "metadata": {},
   "outputs": [],
   "source": [
    "from sklearn.compose import make_column_transformer\n",
    "from sklearn.pipeline import Pipeline\n",
    "from sklearn.metrics import mean_absolute_error, mean_squared_error, r2_score\n",
    "from sklearn.inspection import permutation_importance"
   ]
  },
  {
   "cell_type": "code",
   "execution_count": 240,
   "metadata": {},
   "outputs": [],
   "source": [
    "from lightgbm import LGBMRegressor, plot_importance"
   ]
  },
  {
   "cell_type": "code",
   "execution_count": 241,
   "metadata": {},
   "outputs": [],
   "source": [
    "import pickle # => Might want to use cPickle"
   ]
  },
  {
   "cell_type": "code",
   "execution_count": 242,
   "metadata": {},
   "outputs": [],
   "source": [
    "df = pd.read_csv(\"data/train.csv\")\n",
    "pd.set_option('display.max_columns', None)"
   ]
  },
  {
   "cell_type": "markdown",
   "metadata": {},
   "source": [
    "# Outliers removing"
   ]
  },
  {
   "cell_type": "code",
   "execution_count": 243,
   "metadata": {},
   "outputs": [],
   "source": [
    "df = df[(np.abs(df[\"temp\"] - df[\"atemp\"]) < 10)] # Removes values where the difference between real and felt temperature is too high"
   ]
  },
  {
   "cell_type": "markdown",
   "metadata": {},
   "source": [
    "# Split"
   ]
  },
  {
   "cell_type": "code",
   "execution_count": 244,
   "metadata": {},
   "outputs": [],
   "source": [
    "# X = df.drop([\"count\", \"registered\", \"casual\", \"season\", \"holiday\", \"workingday\"], axis=1) # , \"temp\", \"atemp\"\n",
    "# y = df[\"count\"]\n",
    "# X_train, X_test, y_train, y_test = train_test_split(X, y, test_size=0.2, random_state=42)"
   ]
  },
  {
   "cell_type": "code",
   "execution_count": 245,
   "metadata": {},
   "outputs": [],
   "source": [
    "date_mask = ((df[\"datetime\"] >= \"2012-09-01\") & (df[\"datetime\"] <= \"2012-12-31\"))\n",
    "X = df.drop([\"registered\", \"casual\", \"season\", \"holiday\", \"workingday\"], axis=1)\n",
    "\n",
    "X_train = X[~date_mask].drop([\"count\"], axis=1)\n",
    "y_train = X[~date_mask][\"count\"]\n",
    "\n",
    "X_test = X[date_mask].drop([\"count\"], axis=1)\n",
    "y_test = X[date_mask][\"count\"]"
   ]
  },
  {
   "cell_type": "markdown",
   "metadata": {},
   "source": [
    "# Pipeline"
   ]
  },
  {
   "cell_type": "markdown",
   "metadata": {},
   "source": [
    "## Custom Transformers"
   ]
  },
  {
   "cell_type": "code",
   "execution_count": 246,
   "metadata": {},
   "outputs": [],
   "source": [
    "# %load_ext autoreload\n",
    "# %autoreload 2\n",
    "%reload_ext autoreload\n",
    "from model_api.app.custom_transformers import DateParser"
   ]
  },
  {
   "cell_type": "markdown",
   "metadata": {},
   "source": [
    "## Preprocessor"
   ]
  },
  {
   "cell_type": "code",
   "execution_count": 247,
   "metadata": {},
   "outputs": [],
   "source": [
    "preprocessor = make_column_transformer(\n",
    "    (DateParser(), [\"datetime\"]),\n",
    "    # (OneHotEncoder(), [\"season\"]),\n",
    "    remainder=\"passthrough\"\n",
    ")"
   ]
  },
  {
   "cell_type": "markdown",
   "metadata": {},
   "source": [
    "# Model"
   ]
  },
  {
   "cell_type": "code",
   "execution_count": 248,
   "metadata": {},
   "outputs": [],
   "source": [
    "def eval_metrics(actual, pred):\n",
    "    mae = mean_absolute_error(actual, pred)\n",
    "    mse = mean_squared_error(actual, pred)\n",
    "    r2 = r2_score(actual, pred)\n",
    "    return mae, np.sqrt(mse), r2"
   ]
  },
  {
   "cell_type": "code",
   "execution_count": 249,
   "metadata": {},
   "outputs": [
    {
     "data": {
      "text/plain": [
       "Pipeline(steps=[('preprocessor',\n",
       "                 ColumnTransformer(remainder='passthrough',\n",
       "                                   transformers=[('dateparser', DateParser(),\n",
       "                                                  ['datetime']),\n",
       "                                                 ('onehotencoder',\n",
       "                                                  OneHotEncoder(),\n",
       "                                                  ['season'])])),\n",
       "                ('model', LGBMRegressor())])"
      ]
     },
     "execution_count": 249,
     "metadata": {},
     "output_type": "execute_result"
    }
   ],
   "source": [
    "model = Pipeline([(\"preprocessor\", preprocessor), (\"model\", LGBMRegressor())])\n",
    "model.fit(X_train, y_train)"
   ]
  },
  {
   "cell_type": "code",
   "execution_count": 250,
   "metadata": {},
   "outputs": [
    {
     "name": "stdout",
     "output_type": "stream",
     "text": [
      "MAE: 49.66686930794539\n",
      "RMSE: 75.34647404099542\n",
      "R2: 0.8777637642565848\n"
     ]
    }
   ],
   "source": [
    "y_pred = model.predict(X_test)\n",
    "y_pred[y_pred < 0] = 0\n",
    "mae, rmse, r2 = eval_metrics(y_test, y_pred)\n",
    "print(f\"MAE: {mae}\\nRMSE: {rmse}\\nR2: {r2}\")"
   ]
  },
  {
   "cell_type": "code",
   "execution_count": 251,
   "metadata": {},
   "outputs": [],
   "source": [
    "# from xgboost import plot_importance\n",
    "# plot_importance(model[\"model\"], ax=model[\"preprocessor\"].get_feature_names_out())"
   ]
  },
  {
   "cell_type": "code",
   "execution_count": 252,
   "metadata": {},
   "outputs": [
    {
     "data": {
      "text/plain": [
       "array(['dateparser__datetime', 'onehotencoder__season_1',\n",
       "       'onehotencoder__season_2', 'onehotencoder__season_3',\n",
       "       'onehotencoder__season_4', 'remainder__holiday',\n",
       "       'remainder__workingday', 'remainder__weather', 'remainder__temp',\n",
       "       'remainder__atemp', 'remainder__humidity', 'remainder__windspeed'],\n",
       "      dtype=object)"
      ]
     },
     "execution_count": 252,
     "metadata": {},
     "output_type": "execute_result"
    }
   ],
   "source": [
    "# model[\"model\"].feature_importances_\n",
    "model[\"preprocessor\"].get_feature_names_out()"
   ]
  },
  {
   "cell_type": "code",
   "execution_count": 253,
   "metadata": {},
   "outputs": [
    {
     "data": {
      "text/plain": [
       "Index(['windspeed', 'holiday'], dtype='object')"
      ]
     },
     "execution_count": 253,
     "metadata": {},
     "output_type": "execute_result"
    }
   ],
   "source": [
    "df[[\"windspeed\", \"holiday\"]].columns"
   ]
  },
  {
   "cell_type": "code",
   "execution_count": 254,
   "metadata": {},
   "outputs": [
    {
     "ename": "RuntimeError",
     "evalue": "No active exception to reraise",
     "output_type": "error",
     "traceback": [
      "\u001b[0;31m---------------------------------------------------------------------------\u001b[0m",
      "\u001b[0;31mRuntimeError\u001b[0m                              Traceback (most recent call last)",
      "\u001b[1;32m/Users/rom1/Documents/VSCode/cours/vlille-reg/model.ipynb Cell 24'\u001b[0m in \u001b[0;36m<module>\u001b[0;34m\u001b[0m\n\u001b[0;32m----> <a href='vscode-notebook-cell:/Users/rom1/Documents/VSCode/cours/vlille-reg/model.ipynb#ch0000023?line=0'>1</a>\u001b[0m \u001b[39mraise\u001b[39;00m\n",
      "\u001b[0;31mRuntimeError\u001b[0m: No active exception to reraise"
     ]
    }
   ],
   "source": [
    "raise"
   ]
  },
  {
   "cell_type": "code",
   "execution_count": null,
   "metadata": {},
   "outputs": [],
   "source": [
    "result = permutation_importance(model, X_test, y_test, n_repeats=10)"
   ]
  },
  {
   "cell_type": "code",
   "execution_count": null,
   "metadata": {},
   "outputs": [
    {
     "data": {
      "image/png": "[encoded data removed]",
      "text/plain": [
       "<Figure size 432x288 with 1 Axes>"
      ]
     },
     "metadata": {
      "needs_background": "light"
     },
     "output_type": "display_data"
    }
   ],
   "source": [
    "sorted_idx = result.importances_mean.argsort()\n",
    "\n",
    "fig, ax = plt.subplots()\n",
    "ax.boxplot(\n",
    "    result.importances[sorted_idx].T, vert=False, labels=X_test.columns[sorted_idx]\n",
    ")\n",
    "ax.set_title(\"Permutation Importances\")\n",
    "plt.show()"
   ]
  },
  {
   "cell_type": "code",
   "execution_count": null,
   "metadata": {},
   "outputs": [
    {
     "data": {
      "text/html": [
       "<div>\n",
       "<style scoped>\n",
       "    .dataframe tbody tr th:only-of-type {\n",
       "        vertical-align: middle;\n",
       "    }\n",
       "\n",
       "    .dataframe tbody tr th {\n",
       "        vertical-align: top;\n",
       "    }\n",
       "\n",
       "    .dataframe thead th {\n",
       "        text-align: right;\n",
       "    }\n",
       "</style>\n",
       "<table border=\"1\" class=\"dataframe\">\n",
       "  <thead>\n",
       "    <tr style=\"text-align: right;\">\n",
       "      <th></th>\n",
       "      <th>datetime</th>\n",
       "      <th>season</th>\n",
       "      <th>holiday</th>\n",
       "      <th>workingday</th>\n",
       "      <th>weather</th>\n",
       "      <th>temp</th>\n",
       "      <th>atemp</th>\n",
       "      <th>humidity</th>\n",
       "      <th>windspeed</th>\n",
       "      <th>casual</th>\n",
       "      <th>registered</th>\n",
       "      <th>count</th>\n",
       "    </tr>\n",
       "  </thead>\n",
       "  <tbody>\n",
       "    <tr>\n",
       "      <th>0</th>\n",
       "      <td>2011-01-01 00:00:00</td>\n",
       "      <td>1</td>\n",
       "      <td>0</td>\n",
       "      <td>0</td>\n",
       "      <td>1</td>\n",
       "      <td>9.84</td>\n",
       "      <td>14.395</td>\n",
       "      <td>81</td>\n",
       "      <td>0.0000</td>\n",
       "      <td>3</td>\n",
       "      <td>13</td>\n",
       "      <td>16</td>\n",
       "    </tr>\n",
       "    <tr>\n",
       "      <th>1</th>\n",
       "      <td>2011-01-01 01:00:00</td>\n",
       "      <td>1</td>\n",
       "      <td>0</td>\n",
       "      <td>0</td>\n",
       "      <td>1</td>\n",
       "      <td>9.02</td>\n",
       "      <td>13.635</td>\n",
       "      <td>80</td>\n",
       "      <td>0.0000</td>\n",
       "      <td>8</td>\n",
       "      <td>32</td>\n",
       "      <td>40</td>\n",
       "    </tr>\n",
       "    <tr>\n",
       "      <th>2</th>\n",
       "      <td>2011-01-01 02:00:00</td>\n",
       "      <td>1</td>\n",
       "      <td>0</td>\n",
       "      <td>0</td>\n",
       "      <td>1</td>\n",
       "      <td>9.02</td>\n",
       "      <td>13.635</td>\n",
       "      <td>80</td>\n",
       "      <td>0.0000</td>\n",
       "      <td>5</td>\n",
       "      <td>27</td>\n",
       "      <td>32</td>\n",
       "    </tr>\n",
       "    <tr>\n",
       "      <th>3</th>\n",
       "      <td>2011-01-01 03:00:00</td>\n",
       "      <td>1</td>\n",
       "      <td>0</td>\n",
       "      <td>0</td>\n",
       "      <td>1</td>\n",
       "      <td>9.84</td>\n",
       "      <td>14.395</td>\n",
       "      <td>75</td>\n",
       "      <td>0.0000</td>\n",
       "      <td>3</td>\n",
       "      <td>10</td>\n",
       "      <td>13</td>\n",
       "    </tr>\n",
       "    <tr>\n",
       "      <th>4</th>\n",
       "      <td>2011-01-01 04:00:00</td>\n",
       "      <td>1</td>\n",
       "      <td>0</td>\n",
       "      <td>0</td>\n",
       "      <td>1</td>\n",
       "      <td>9.84</td>\n",
       "      <td>14.395</td>\n",
       "      <td>75</td>\n",
       "      <td>0.0000</td>\n",
       "      <td>0</td>\n",
       "      <td>1</td>\n",
       "      <td>1</td>\n",
       "    </tr>\n",
       "    <tr>\n",
       "      <th>...</th>\n",
       "      <td>...</td>\n",
       "      <td>...</td>\n",
       "      <td>...</td>\n",
       "      <td>...</td>\n",
       "      <td>...</td>\n",
       "      <td>...</td>\n",
       "      <td>...</td>\n",
       "      <td>...</td>\n",
       "      <td>...</td>\n",
       "      <td>...</td>\n",
       "      <td>...</td>\n",
       "      <td>...</td>\n",
       "    </tr>\n",
       "    <tr>\n",
       "      <th>10881</th>\n",
       "      <td>2012-12-19 19:00:00</td>\n",
       "      <td>4</td>\n",
       "      <td>0</td>\n",
       "      <td>1</td>\n",
       "      <td>1</td>\n",
       "      <td>15.58</td>\n",
       "      <td>19.695</td>\n",
       "      <td>50</td>\n",
       "      <td>26.0027</td>\n",
       "      <td>7</td>\n",
       "      <td>329</td>\n",
       "      <td>336</td>\n",
       "    </tr>\n",
       "    <tr>\n",
       "      <th>10882</th>\n",
       "      <td>2012-12-19 20:00:00</td>\n",
       "      <td>4</td>\n",
       "      <td>0</td>\n",
       "      <td>1</td>\n",
       "      <td>1</td>\n",
       "      <td>14.76</td>\n",
       "      <td>17.425</td>\n",
       "      <td>57</td>\n",
       "      <td>15.0013</td>\n",
       "      <td>10</td>\n",
       "      <td>231</td>\n",
       "      <td>241</td>\n",
       "    </tr>\n",
       "    <tr>\n",
       "      <th>10883</th>\n",
       "      <td>2012-12-19 21:00:00</td>\n",
       "      <td>4</td>\n",
       "      <td>0</td>\n",
       "      <td>1</td>\n",
       "      <td>1</td>\n",
       "      <td>13.94</td>\n",
       "      <td>15.910</td>\n",
       "      <td>61</td>\n",
       "      <td>15.0013</td>\n",
       "      <td>4</td>\n",
       "      <td>164</td>\n",
       "      <td>168</td>\n",
       "    </tr>\n",
       "    <tr>\n",
       "      <th>10884</th>\n",
       "      <td>2012-12-19 22:00:00</td>\n",
       "      <td>4</td>\n",
       "      <td>0</td>\n",
       "      <td>1</td>\n",
       "      <td>1</td>\n",
       "      <td>13.94</td>\n",
       "      <td>17.425</td>\n",
       "      <td>61</td>\n",
       "      <td>6.0032</td>\n",
       "      <td>12</td>\n",
       "      <td>117</td>\n",
       "      <td>129</td>\n",
       "    </tr>\n",
       "    <tr>\n",
       "      <th>10885</th>\n",
       "      <td>2012-12-19 23:00:00</td>\n",
       "      <td>4</td>\n",
       "      <td>0</td>\n",
       "      <td>1</td>\n",
       "      <td>1</td>\n",
       "      <td>13.12</td>\n",
       "      <td>16.665</td>\n",
       "      <td>66</td>\n",
       "      <td>8.9981</td>\n",
       "      <td>4</td>\n",
       "      <td>84</td>\n",
       "      <td>88</td>\n",
       "    </tr>\n",
       "  </tbody>\n",
       "</table>\n",
       "<p>10886 rows × 12 columns</p>\n",
       "</div>"
      ],
      "text/plain": [
       "                  datetime  season  holiday  workingday  weather   temp  \\\n",
       "0      2011-01-01 00:00:00       1        0           0        1   9.84   \n",
       "1      2011-01-01 01:00:00       1        0           0        1   9.02   \n",
       "2      2011-01-01 02:00:00       1        0           0        1   9.02   \n",
       "3      2011-01-01 03:00:00       1        0           0        1   9.84   \n",
       "4      2011-01-01 04:00:00       1        0           0        1   9.84   \n",
       "...                    ...     ...      ...         ...      ...    ...   \n",
       "10881  2012-12-19 19:00:00       4        0           1        1  15.58   \n",
       "10882  2012-12-19 20:00:00       4        0           1        1  14.76   \n",
       "10883  2012-12-19 21:00:00       4        0           1        1  13.94   \n",
       "10884  2012-12-19 22:00:00       4        0           1        1  13.94   \n",
       "10885  2012-12-19 23:00:00       4        0           1        1  13.12   \n",
       "\n",
       "        atemp  humidity  windspeed  casual  registered  count  \n",
       "0      14.395        81     0.0000       3          13     16  \n",
       "1      13.635        80     0.0000       8          32     40  \n",
       "2      13.635        80     0.0000       5          27     32  \n",
       "3      14.395        75     0.0000       3          10     13  \n",
       "4      14.395        75     0.0000       0           1      1  \n",
       "...       ...       ...        ...     ...         ...    ...  \n",
       "10881  19.695        50    26.0027       7         329    336  \n",
       "10882  17.425        57    15.0013      10         231    241  \n",
       "10883  15.910        61    15.0013       4         164    168  \n",
       "10884  17.425        61     6.0032      12         117    129  \n",
       "10885  16.665        66     8.9981       4          84     88  \n",
       "\n",
       "[10886 rows x 12 columns]"
      ]
     },
     "execution_count": 162,
     "metadata": {},
     "output_type": "execute_result"
    }
   ],
   "source": [
    "df"
   ]
  },
  {
   "cell_type": "code",
   "execution_count": null,
   "metadata": {},
   "outputs": [
    {
     "data": {
      "application/vnd.plotly.v1+json": {
       "config": {
        "plotlyServerURL": "https://plot.ly"
       },
       "data": [
        {
         "hovertemplate": "color=True<br>x=%{x}<br>y=%{y}<extra></extra>",
         "legendgroup": "True",
         "marker": {
          "color": "#636efa",
          "symbol": "circle"
         },
         "mode": "markers",
         "name": "True",
         "showlegend": true,
         "type": "scattergl",
         "x": [
          "2012-09-01 00:00:00",
          "2012-09-01 15:00:00",
          "2012-09-02 02:00:00",
          "2012-09-02 03:00:00",
          "2012-09-02 04:00:00",
          "2012-09-02 06:00:00",
          "2012-09-02 08:00:00",
          "2012-09-02 09:00:00",
          "2012-09-02 10:00:00",
          "2012-09-02 11:00:00",
          "2012-09-02 12:00:00",
          "2012-09-02 13:00:00",
          "2012-09-02 14:00:00",
          "2012-09-02 16:00:00",
          "2012-09-02 17:00:00",
          "2012-09-02 18:00:00",
          "2012-09-02 19:00:00",
          "2012-09-02 22:00:00",
          "2012-09-02 23:00:00",
          "2012-09-03 00:00:00",
          "2012-09-03 01:00:00",
          "2012-09-03 02:00:00",
          "2012-09-03 03:00:00",
          "2012-09-03 04:00:00",
          "2012-09-03 10:00:00",
          "2012-09-03 11:00:00",
          "2012-09-03 12:00:00",
          "2012-09-03 13:00:00",
          "2012-09-03 14:00:00",
          "2012-09-03 15:00:00",
          "2012-09-03 16:00:00",
          "2012-09-04 05:00:00",
          "2012-09-04 06:00:00",
          "2012-09-04 07:00:00",
          "2012-09-04 08:00:00",
          "2012-09-04 12:00:00",
          "2012-09-04 13:00:00",
          "2012-09-04 14:00:00",
          "2012-09-04 15:00:00",
          "2012-09-04 16:00:00",
          "2012-09-04 17:00:00",
          "2012-09-04 18:00:00",
          "2012-09-05 05:00:00",
          "2012-09-05 06:00:00",
          "2012-09-05 07:00:00",
          "2012-09-05 08:00:00",
          "2012-09-05 10:00:00",
          "2012-09-05 16:00:00",
          "2012-09-05 17:00:00",
          "2012-09-05 18:00:00",
          "2012-09-05 19:00:00",
          "2012-09-05 20:00:00",
          "2012-09-06 00:00:00",
          "2012-09-06 05:00:00",
          "2012-09-06 06:00:00",
          "2012-09-06 07:00:00",
          "2012-09-06 08:00:00",
          "2012-09-06 15:00:00",
          "2012-09-06 16:00:00",
          "2012-09-06 17:00:00",
          "2012-09-06 18:00:00",
          "2012-09-06 19:00:00",
          "2012-09-06 20:00:00",
          "2012-09-06 21:00:00",
          "2012-09-06 22:00:00",
          "2012-09-06 23:00:00",
          "2012-09-07 00:00:00",
          "2012-09-07 05:00:00",
          "2012-09-07 07:00:00",
          "2012-09-07 08:00:00",
          "2012-09-07 09:00:00",
          "2012-09-07 10:00:00",
          "2012-09-07 11:00:00",
          "2012-09-07 13:00:00",
          "2012-09-07 17:00:00",
          "2012-09-07 18:00:00",
          "2012-09-07 19:00:00",
          "2012-09-07 20:00:00",
          "2012-09-07 21:00:00",
          "2012-09-07 22:00:00",
          "2012-09-07 23:00:00",
          "2012-09-08 00:00:00",
          "2012-09-08 01:00:00",
          "2012-09-08 02:00:00",
          "2012-09-08 03:00:00",
          "2012-09-08 04:00:00",
          "2012-09-08 05:00:00",
          "2012-09-08 06:00:00",
          "2012-09-08 08:00:00",
          "2012-09-08 09:00:00",
          "2012-09-08 10:00:00",
          "2012-09-08 11:00:00",
          "2012-09-08 12:00:00",
          "2012-09-08 13:00:00",
          "2012-09-08 14:00:00",
          "2012-09-08 15:00:00",
          "2012-09-08 19:00:00",
          "2012-09-08 22:00:00",
          "2012-09-09 01:00:00",
          "2012-09-09 02:00:00",
          "2012-09-09 03:00:00",
          "2012-09-09 04:00:00",
          "2012-09-09 05:00:00",
          "2012-09-09 06:00:00",
          "2012-09-09 08:00:00",
          "2012-09-09 09:00:00",
          "2012-09-09 10:00:00",
          "2012-09-09 11:00:00",
          "2012-09-09 12:00:00",
          "2012-09-09 13:00:00",
          "2012-09-09 14:00:00",
          "2012-09-09 15:00:00",
          "2012-09-09 16:00:00",
          "2012-09-09 17:00:00",
          "2012-09-09 18:00:00",
          "2012-09-09 19:00:00",
          "2012-09-09 20:00:00",
          "2012-09-09 22:00:00",
          "2012-09-09 23:00:00",
          "2012-09-10 05:00:00",
          "2012-09-10 06:00:00",
          "2012-09-10 07:00:00",
          "2012-09-10 08:00:00",
          "2012-09-10 09:00:00",
          "2012-09-10 10:00:00",
          "2012-09-10 11:00:00",
          "2012-09-10 12:00:00",
          "2012-09-10 13:00:00",
          "2012-09-10 14:00:00",
          "2012-09-10 15:00:00",
          "2012-09-10 16:00:00",
          "2012-09-10 17:00:00",
          "2012-09-10 18:00:00",
          "2012-09-10 19:00:00",
          "2012-09-10 21:00:00",
          "2012-09-11 05:00:00",
          "2012-09-11 06:00:00",
          "2012-09-11 07:00:00",
          "2012-09-11 08:00:00",
          "2012-09-11 09:00:00",
          "2012-09-11 11:00:00",
          "2012-09-11 12:00:00",
          "2012-09-11 13:00:00",
          "2012-09-11 15:00:00",
          "2012-09-11 16:00:00",
          "2012-09-11 17:00:00",
          "2012-09-11 18:00:00",
          "2012-09-11 19:00:00",
          "2012-09-11 20:00:00",
          "2012-09-11 21:00:00",
          "2012-09-11 22:00:00",
          "2012-09-11 23:00:00",
          "2012-09-12 00:00:00",
          "2012-09-12 05:00:00",
          "2012-09-12 06:00:00",
          "2012-09-12 07:00:00",
          "2012-09-12 08:00:00",
          "2012-09-12 12:00:00",
          "2012-09-12 13:00:00",
          "2012-09-12 15:00:00",
          "2012-09-12 16:00:00",
          "2012-09-12 17:00:00",
          "2012-09-12 18:00:00",
          "2012-09-12 19:00:00",
          "2012-09-12 20:00:00",
          "2012-09-13 00:00:00",
          "2012-09-13 01:00:00",
          "2012-09-13 03:00:00",
          "2012-09-13 05:00:00",
          "2012-09-13 06:00:00",
          "2012-09-13 07:00:00",
          "2012-09-13 08:00:00",
          "2012-09-13 11:00:00",
          "2012-09-13 12:00:00",
          "2012-09-13 15:00:00",
          "2012-09-13 16:00:00",
          "2012-09-13 17:00:00",
          "2012-09-13 18:00:00",
          "2012-09-13 19:00:00",
          "2012-09-13 20:00:00",
          "2012-09-13 21:00:00",
          "2012-09-13 22:00:00",
          "2012-09-13 23:00:00",
          "2012-09-14 00:00:00",
          "2012-09-14 01:00:00",
          "2012-09-14 02:00:00",
          "2012-09-14 05:00:00",
          "2012-09-14 06:00:00",
          "2012-09-14 07:00:00",
          "2012-09-14 08:00:00",
          "2012-09-14 09:00:00",
          "2012-09-14 10:00:00",
          "2012-09-14 12:00:00",
          "2012-09-14 13:00:00",
          "2012-09-14 14:00:00",
          "2012-09-14 15:00:00",
          "2012-09-14 16:00:00",
          "2012-09-14 17:00:00",
          "2012-09-14 18:00:00",
          "2012-09-14 19:00:00",
          "2012-09-14 20:00:00",
          "2012-09-14 21:00:00",
          "2012-09-14 22:00:00",
          "2012-09-14 23:00:00",
          "2012-09-15 00:00:00",
          "2012-09-15 01:00:00",
          "2012-09-15 02:00:00",
          "2012-09-15 03:00:00",
          "2012-09-15 08:00:00",
          "2012-09-15 09:00:00",
          "2012-09-15 10:00:00",
          "2012-09-15 11:00:00",
          "2012-09-15 12:00:00",
          "2012-09-15 13:00:00",
          "2012-09-15 14:00:00",
          "2012-09-15 15:00:00",
          "2012-09-15 16:00:00",
          "2012-09-15 17:00:00",
          "2012-09-15 18:00:00",
          "2012-09-15 19:00:00",
          "2012-09-15 21:00:00",
          "2012-09-15 22:00:00",
          "2012-09-15 23:00:00",
          "2012-09-16 00:00:00",
          "2012-09-16 01:00:00",
          "2012-09-16 02:00:00",
          "2012-09-16 03:00:00",
          "2012-09-16 06:00:00",
          "2012-09-16 09:00:00",
          "2012-09-16 10:00:00",
          "2012-09-16 11:00:00",
          "2012-09-16 12:00:00",
          "2012-09-16 13:00:00",
          "2012-09-16 14:00:00",
          "2012-09-16 15:00:00",
          "2012-09-16 16:00:00",
          "2012-09-16 17:00:00",
          "2012-09-16 18:00:00",
          "2012-09-16 19:00:00",
          "2012-09-16 20:00:00",
          "2012-09-16 22:00:00",
          "2012-09-16 23:00:00",
          "2012-09-17 00:00:00",
          "2012-09-17 05:00:00",
          "2012-09-17 06:00:00",
          "2012-09-17 07:00:00",
          "2012-09-17 08:00:00",
          "2012-09-17 10:00:00",
          "2012-09-17 11:00:00",
          "2012-09-17 12:00:00",
          "2012-09-17 13:00:00",
          "2012-09-17 14:00:00",
          "2012-09-17 15:00:00",
          "2012-09-17 16:00:00",
          "2012-09-17 17:00:00",
          "2012-09-17 18:00:00",
          "2012-09-17 19:00:00",
          "2012-09-17 20:00:00",
          "2012-09-17 21:00:00",
          "2012-09-17 22:00:00",
          "2012-09-17 23:00:00",
          "2012-09-18 00:00:00",
          "2012-09-18 03:00:00",
          "2012-09-18 04:00:00",
          "2012-09-18 05:00:00",
          "2012-09-18 06:00:00",
          "2012-09-18 08:00:00",
          "2012-09-18 10:00:00",
          "2012-09-18 14:00:00",
          "2012-09-18 17:00:00",
          "2012-09-18 20:00:00",
          "2012-09-18 21:00:00",
          "2012-09-18 22:00:00",
          "2012-09-19 05:00:00",
          "2012-09-19 06:00:00",
          "2012-09-19 07:00:00",
          "2012-09-19 08:00:00",
          "2012-09-19 09:00:00",
          "2012-09-19 11:00:00",
          "2012-09-19 12:00:00",
          "2012-09-19 14:00:00",
          "2012-09-19 15:00:00",
          "2012-09-19 16:00:00",
          "2012-09-19 17:00:00",
          "2012-09-19 18:00:00",
          "2012-09-19 19:00:00",
          "2012-09-19 20:00:00",
          "2012-09-19 21:00:00",
          "2012-09-19 22:00:00",
          "2012-09-19 23:00:00",
          "2012-10-01 00:00:00",
          "2012-10-01 05:00:00",
          "2012-10-01 06:00:00",
          "2012-10-01 07:00:00",
          "2012-10-01 08:00:00",
          "2012-10-01 09:00:00",
          "2012-10-01 11:00:00",
          "2012-10-01 12:00:00",
          "2012-10-01 13:00:00",
          "2012-10-01 15:00:00",
          "2012-10-01 16:00:00",
          "2012-10-01 17:00:00",
          "2012-10-01 18:00:00",
          "2012-10-01 19:00:00",
          "2012-10-01 20:00:00",
          "2012-10-01 22:00:00",
          "2012-10-01 23:00:00",
          "2012-10-02 05:00:00",
          "2012-10-02 06:00:00",
          "2012-10-02 07:00:00",
          "2012-10-02 14:00:00",
          "2012-10-02 15:00:00",
          "2012-10-02 16:00:00",
          "2012-10-02 17:00:00",
          "2012-10-02 18:00:00",
          "2012-10-02 19:00:00",
          "2012-10-02 20:00:00",
          "2012-10-02 21:00:00",
          "2012-10-02 22:00:00",
          "2012-10-02 23:00:00",
          "2012-10-03 00:00:00",
          "2012-10-03 01:00:00",
          "2012-10-03 05:00:00",
          "2012-10-03 06:00:00",
          "2012-10-03 07:00:00",
          "2012-10-03 08:00:00",
          "2012-10-03 09:00:00",
          "2012-10-03 11:00:00",
          "2012-10-03 12:00:00",
          "2012-10-03 13:00:00",
          "2012-10-03 15:00:00",
          "2012-10-03 16:00:00",
          "2012-10-03 17:00:00",
          "2012-10-03 18:00:00",
          "2012-10-03 19:00:00",
          "2012-10-03 20:00:00",
          "2012-10-03 23:00:00",
          "2012-10-04 00:00:00",
          "2012-10-04 01:00:00",
          "2012-10-04 05:00:00",
          "2012-10-04 06:00:00",
          "2012-10-04 08:00:00",
          "2012-10-04 09:00:00",
          "2012-10-04 12:00:00",
          "2012-10-04 13:00:00",
          "2012-10-04 15:00:00",
          "2012-10-04 16:00:00",
          "2012-10-04 17:00:00",
          "2012-10-04 18:00:00",
          "2012-10-04 20:00:00",
          "2012-10-04 21:00:00",
          "2012-10-05 00:00:00",
          "2012-10-05 01:00:00",
          "2012-10-05 05:00:00",
          "2012-10-05 07:00:00",
          "2012-10-05 08:00:00",
          "2012-10-05 09:00:00",
          "2012-10-05 11:00:00",
          "2012-10-05 12:00:00",
          "2012-10-05 13:00:00",
          "2012-10-05 14:00:00",
          "2012-10-05 15:00:00",
          "2012-10-05 16:00:00",
          "2012-10-05 17:00:00",
          "2012-10-05 18:00:00",
          "2012-10-05 19:00:00",
          "2012-10-05 20:00:00",
          "2012-10-05 21:00:00",
          "2012-10-05 22:00:00",
          "2012-10-05 23:00:00",
          "2012-10-06 00:00:00",
          "2012-10-06 01:00:00",
          "2012-10-06 02:00:00",
          "2012-10-06 03:00:00",
          "2012-10-06 06:00:00",
          "2012-10-06 08:00:00",
          "2012-10-06 09:00:00",
          "2012-10-06 10:00:00",
          "2012-10-06 11:00:00",
          "2012-10-06 12:00:00",
          "2012-10-06 13:00:00",
          "2012-10-06 14:00:00",
          "2012-10-06 15:00:00",
          "2012-10-06 16:00:00",
          "2012-10-06 17:00:00",
          "2012-10-06 18:00:00",
          "2012-10-06 21:00:00",
          "2012-10-06 22:00:00",
          "2012-10-06 23:00:00",
          "2012-10-07 00:00:00",
          "2012-10-07 01:00:00",
          "2012-10-07 02:00:00",
          "2012-10-07 06:00:00",
          "2012-10-07 07:00:00",
          "2012-10-07 08:00:00",
          "2012-10-07 12:00:00",
          "2012-10-07 15:00:00",
          "2012-10-07 16:00:00",
          "2012-10-07 17:00:00",
          "2012-10-07 20:00:00",
          "2012-10-07 21:00:00",
          "2012-10-07 22:00:00",
          "2012-10-07 23:00:00",
          "2012-10-08 01:00:00",
          "2012-10-08 06:00:00",
          "2012-10-08 08:00:00",
          "2012-10-08 09:00:00",
          "2012-10-08 10:00:00",
          "2012-10-08 11:00:00",
          "2012-10-08 12:00:00",
          "2012-10-08 13:00:00",
          "2012-10-08 14:00:00",
          "2012-10-08 15:00:00",
          "2012-10-08 16:00:00",
          "2012-10-08 17:00:00",
          "2012-10-08 18:00:00",
          "2012-10-08 19:00:00",
          "2012-10-08 20:00:00",
          "2012-10-08 22:00:00",
          "2012-10-08 23:00:00",
          "2012-10-09 01:00:00",
          "2012-10-09 02:00:00",
          "2012-10-09 03:00:00",
          "2012-10-09 04:00:00",
          "2012-10-09 06:00:00",
          "2012-10-09 07:00:00",
          "2012-10-09 08:00:00",
          "2012-10-09 09:00:00",
          "2012-10-09 12:00:00",
          "2012-10-09 15:00:00",
          "2012-10-09 16:00:00",
          "2012-10-09 17:00:00",
          "2012-10-09 18:00:00",
          "2012-10-09 19:00:00",
          "2012-10-09 20:00:00",
          "2012-10-09 21:00:00",
          "2012-10-09 22:00:00",
          "2012-10-10 05:00:00",
          "2012-10-10 06:00:00",
          "2012-10-10 07:00:00",
          "2012-10-10 08:00:00",
          "2012-10-10 09:00:00",
          "2012-10-10 11:00:00",
          "2012-10-10 12:00:00",
          "2012-10-10 13:00:00",
          "2012-10-10 15:00:00",
          "2012-10-10 16:00:00",
          "2012-10-10 17:00:00",
          "2012-10-10 18:00:00",
          "2012-10-10 19:00:00",
          "2012-10-10 20:00:00",
          "2012-10-10 21:00:00",
          "2012-10-10 22:00:00",
          "2012-10-10 23:00:00",
          "2012-10-11 05:00:00",
          "2012-10-11 06:00:00",
          "2012-10-11 07:00:00",
          "2012-10-11 08:00:00",
          "2012-10-11 09:00:00",
          "2012-10-11 11:00:00",
          "2012-10-11 12:00:00",
          "2012-10-11 14:00:00",
          "2012-10-11 15:00:00",
          "2012-10-11 16:00:00",
          "2012-10-11 17:00:00",
          "2012-10-11 18:00:00",
          "2012-10-11 19:00:00",
          "2012-10-11 20:00:00",
          "2012-10-11 21:00:00",
          "2012-10-11 22:00:00",
          "2012-10-11 23:00:00",
          "2012-10-12 00:00:00",
          "2012-10-12 01:00:00",
          "2012-10-12 05:00:00",
          "2012-10-12 06:00:00",
          "2012-10-12 07:00:00",
          "2012-10-12 08:00:00",
          "2012-10-12 09:00:00",
          "2012-10-12 10:00:00",
          "2012-10-12 11:00:00",
          "2012-10-12 12:00:00",
          "2012-10-12 13:00:00",
          "2012-10-12 14:00:00",
          "2012-10-12 15:00:00",
          "2012-10-12 16:00:00",
          "2012-10-12 17:00:00",
          "2012-10-12 18:00:00",
          "2012-10-12 19:00:00",
          "2012-10-12 20:00:00",
          "2012-10-12 21:00:00",
          "2012-10-12 22:00:00",
          "2012-10-13 00:00:00",
          "2012-10-13 01:00:00",
          "2012-10-13 02:00:00",
          "2012-10-13 07:00:00",
          "2012-10-13 08:00:00",
          "2012-10-13 10:00:00",
          "2012-10-13 11:00:00",
          "2012-10-13 12:00:00",
          "2012-10-13 13:00:00",
          "2012-10-13 14:00:00",
          "2012-10-13 15:00:00",
          "2012-10-13 16:00:00",
          "2012-10-13 17:00:00",
          "2012-10-13 18:00:00",
          "2012-10-13 19:00:00",
          "2012-10-13 20:00:00",
          "2012-10-13 21:00:00",
          "2012-10-13 22:00:00",
          "2012-10-13 23:00:00",
          "2012-10-14 00:00:00",
          "2012-10-14 01:00:00",
          "2012-10-14 02:00:00",
          "2012-10-14 06:00:00",
          "2012-10-14 08:00:00",
          "2012-10-14 10:00:00",
          "2012-10-14 11:00:00",
          "2012-10-14 12:00:00",
          "2012-10-14 13:00:00",
          "2012-10-14 14:00:00",
          "2012-10-14 15:00:00",
          "2012-10-14 16:00:00",
          "2012-10-14 17:00:00",
          "2012-10-14 18:00:00",
          "2012-10-14 19:00:00",
          "2012-10-14 20:00:00",
          "2012-10-14 21:00:00",
          "2012-10-14 22:00:00",
          "2012-10-14 23:00:00",
          "2012-10-15 00:00:00",
          "2012-10-15 01:00:00",
          "2012-10-15 05:00:00",
          "2012-10-15 06:00:00",
          "2012-10-15 07:00:00",
          "2012-10-15 08:00:00",
          "2012-10-15 09:00:00",
          "2012-10-15 11:00:00",
          "2012-10-15 12:00:00",
          "2012-10-15 15:00:00",
          "2012-10-15 16:00:00",
          "2012-10-15 17:00:00",
          "2012-10-15 18:00:00",
          "2012-10-15 19:00:00",
          "2012-10-15 23:00:00",
          "2012-10-16 00:00:00",
          "2012-10-16 05:00:00",
          "2012-10-16 06:00:00",
          "2012-10-16 07:00:00",
          "2012-10-16 08:00:00",
          "2012-10-16 09:00:00",
          "2012-10-16 10:00:00",
          "2012-10-16 11:00:00",
          "2012-10-16 12:00:00",
          "2012-10-16 13:00:00",
          "2012-10-16 14:00:00",
          "2012-10-16 15:00:00",
          "2012-10-16 16:00:00",
          "2012-10-16 17:00:00",
          "2012-10-16 18:00:00",
          "2012-10-16 19:00:00",
          "2012-10-16 20:00:00",
          "2012-10-16 22:00:00",
          "2012-10-16 23:00:00",
          "2012-10-17 00:00:00",
          "2012-10-17 02:00:00",
          "2012-10-17 05:00:00",
          "2012-10-17 06:00:00",
          "2012-10-17 07:00:00",
          "2012-10-17 08:00:00",
          "2012-10-17 09:00:00",
          "2012-10-17 10:00:00",
          "2012-10-17 12:00:00",
          "2012-10-17 13:00:00",
          "2012-10-17 14:00:00",
          "2012-10-17 15:00:00",
          "2012-10-17 16:00:00",
          "2012-10-17 17:00:00",
          "2012-10-17 18:00:00",
          "2012-10-17 19:00:00",
          "2012-10-17 20:00:00",
          "2012-10-17 21:00:00",
          "2012-10-17 22:00:00",
          "2012-10-17 23:00:00",
          "2012-10-18 00:00:00",
          "2012-10-18 05:00:00",
          "2012-10-18 06:00:00",
          "2012-10-18 07:00:00",
          "2012-10-18 08:00:00",
          "2012-10-18 09:00:00",
          "2012-10-18 11:00:00",
          "2012-10-18 12:00:00",
          "2012-10-18 13:00:00",
          "2012-10-18 14:00:00",
          "2012-10-18 15:00:00",
          "2012-10-18 16:00:00",
          "2012-10-18 17:00:00",
          "2012-10-18 18:00:00",
          "2012-10-18 19:00:00",
          "2012-10-18 20:00:00",
          "2012-10-18 21:00:00",
          "2012-10-18 22:00:00",
          "2012-10-19 00:00:00",
          "2012-10-19 05:00:00",
          "2012-10-19 06:00:00",
          "2012-10-19 09:00:00",
          "2012-10-19 10:00:00",
          "2012-10-19 11:00:00",
          "2012-10-19 12:00:00",
          "2012-10-19 13:00:00",
          "2012-10-19 14:00:00",
          "2012-10-19 15:00:00",
          "2012-10-19 16:00:00",
          "2012-10-19 22:00:00",
          "2012-10-19 23:00:00",
          "2012-11-01 00:00:00",
          "2012-11-01 01:00:00",
          "2012-11-01 02:00:00",
          "2012-11-01 03:00:00",
          "2012-11-01 05:00:00",
          "2012-11-01 06:00:00",
          "2012-11-01 07:00:00",
          "2012-11-01 08:00:00",
          "2012-11-01 09:00:00",
          "2012-11-01 10:00:00",
          "2012-11-01 11:00:00",
          "2012-11-01 12:00:00",
          "2012-11-01 13:00:00",
          "2012-11-01 15:00:00",
          "2012-11-01 16:00:00",
          "2012-11-01 17:00:00",
          "2012-11-01 18:00:00",
          "2012-11-01 19:00:00",
          "2012-11-01 20:00:00",
          "2012-11-01 21:00:00",
          "2012-11-01 22:00:00",
          "2012-11-01 23:00:00",
          "2012-11-02 07:00:00",
          "2012-11-02 08:00:00",
          "2012-11-02 09:00:00",
          "2012-11-02 10:00:00",
          "2012-11-02 13:00:00",
          "2012-11-02 14:00:00",
          "2012-11-02 15:00:00",
          "2012-11-02 16:00:00",
          "2012-11-02 17:00:00",
          "2012-11-02 18:00:00",
          "2012-11-02 19:00:00",
          "2012-11-02 20:00:00",
          "2012-11-02 22:00:00",
          "2012-11-02 23:00:00",
          "2012-11-03 00:00:00",
          "2012-11-03 01:00:00",
          "2012-11-03 03:00:00",
          "2012-11-03 08:00:00",
          "2012-11-03 10:00:00",
          "2012-11-03 11:00:00",
          "2012-11-03 12:00:00",
          "2012-11-03 13:00:00",
          "2012-11-03 14:00:00",
          "2012-11-03 15:00:00",
          "2012-11-03 16:00:00",
          "2012-11-03 17:00:00",
          "2012-11-03 18:00:00",
          "2012-11-03 21:00:00",
          "2012-11-03 22:00:00",
          "2012-11-03 23:00:00",
          "2012-11-04 00:00:00",
          "2012-11-04 01:00:00",
          "2012-11-04 06:00:00",
          "2012-11-04 07:00:00",
          "2012-11-04 08:00:00",
          "2012-11-04 09:00:00",
          "2012-11-04 10:00:00",
          "2012-11-04 11:00:00",
          "2012-11-04 12:00:00",
          "2012-11-04 13:00:00",
          "2012-11-04 14:00:00",
          "2012-11-04 15:00:00",
          "2012-11-04 16:00:00",
          "2012-11-04 17:00:00",
          "2012-11-04 19:00:00",
          "2012-11-04 20:00:00",
          "2012-11-04 21:00:00",
          "2012-11-04 22:00:00",
          "2012-11-04 23:00:00",
          "2012-11-05 04:00:00",
          "2012-11-05 05:00:00",
          "2012-11-05 06:00:00",
          "2012-11-05 07:00:00",
          "2012-11-05 08:00:00",
          "2012-11-05 09:00:00",
          "2012-11-05 10:00:00",
          "2012-11-05 12:00:00",
          "2012-11-05 13:00:00",
          "2012-11-05 15:00:00",
          "2012-11-05 16:00:00",
          "2012-11-05 17:00:00",
          "2012-11-05 18:00:00",
          "2012-11-05 19:00:00",
          "2012-11-05 20:00:00",
          "2012-11-05 22:00:00",
          "2012-11-05 23:00:00",
          "2012-11-06 05:00:00",
          "2012-11-06 06:00:00",
          "2012-11-06 07:00:00",
          "2012-11-06 08:00:00",
          "2012-11-06 09:00:00",
          "2012-11-06 10:00:00",
          "2012-11-06 11:00:00",
          "2012-11-06 12:00:00",
          "2012-11-06 13:00:00",
          "2012-11-06 14:00:00",
          "2012-11-06 15:00:00",
          "2012-11-06 16:00:00",
          "2012-11-06 17:00:00",
          "2012-11-06 18:00:00",
          "2012-11-06 19:00:00",
          "2012-11-06 20:00:00",
          "2012-11-06 22:00:00",
          "2012-11-06 23:00:00",
          "2012-11-07 00:00:00",
          "2012-11-07 01:00:00",
          "2012-11-07 02:00:00",
          "2012-11-07 06:00:00",
          "2012-11-07 07:00:00",
          "2012-11-07 08:00:00",
          "2012-11-07 09:00:00",
          "2012-11-07 10:00:00",
          "2012-11-07 12:00:00",
          "2012-11-07 15:00:00",
          "2012-11-07 16:00:00",
          "2012-11-07 17:00:00",
          "2012-11-07 18:00:00",
          "2012-11-07 19:00:00",
          "2012-11-07 20:00:00",
          "2012-11-08 05:00:00",
          "2012-11-08 07:00:00",
          "2012-11-08 08:00:00",
          "2012-11-08 17:00:00",
          "2012-11-08 21:00:00",
          "2012-11-08 22:00:00",
          "2012-11-09 06:00:00",
          "2012-11-09 07:00:00",
          "2012-11-09 08:00:00",
          "2012-11-09 09:00:00",
          "2012-11-09 10:00:00",
          "2012-11-09 11:00:00",
          "2012-11-09 15:00:00",
          "2012-11-09 16:00:00",
          "2012-11-09 17:00:00",
          "2012-11-09 19:00:00",
          "2012-11-09 20:00:00",
          "2012-11-09 21:00:00",
          "2012-11-09 22:00:00",
          "2012-11-09 23:00:00",
          "2012-11-10 00:00:00",
          "2012-11-10 01:00:00",
          "2012-11-10 08:00:00",
          "2012-11-10 10:00:00",
          "2012-11-10 11:00:00",
          "2012-11-10 12:00:00",
          "2012-11-10 13:00:00",
          "2012-11-10 14:00:00",
          "2012-11-10 15:00:00",
          "2012-11-10 16:00:00",
          "2012-11-10 17:00:00",
          "2012-11-10 21:00:00",
          "2012-11-10 22:00:00",
          "2012-11-10 23:00:00",
          "2012-11-11 00:00:00",
          "2012-11-11 01:00:00",
          "2012-11-11 02:00:00",
          "2012-11-11 03:00:00",
          "2012-11-11 06:00:00",
          "2012-11-11 07:00:00",
          "2012-11-11 08:00:00",
          "2012-11-11 09:00:00",
          "2012-11-11 10:00:00",
          "2012-11-11 11:00:00",
          "2012-11-11 12:00:00",
          "2012-11-11 13:00:00",
          "2012-11-11 14:00:00",
          "2012-11-11 15:00:00",
          "2012-11-11 16:00:00",
          "2012-11-11 17:00:00",
          "2012-11-11 18:00:00",
          "2012-11-11 20:00:00",
          "2012-11-11 21:00:00",
          "2012-11-11 22:00:00",
          "2012-11-11 23:00:00",
          "2012-11-12 05:00:00",
          "2012-11-12 06:00:00",
          "2012-11-12 07:00:00",
          "2012-11-12 08:00:00",
          "2012-11-12 09:00:00",
          "2012-11-12 10:00:00",
          "2012-11-12 11:00:00",
          "2012-11-12 12:00:00",
          "2012-11-12 13:00:00",
          "2012-11-12 14:00:00",
          "2012-11-12 15:00:00",
          "2012-11-12 16:00:00",
          "2012-11-12 17:00:00",
          "2012-11-12 18:00:00",
          "2012-11-12 20:00:00",
          "2012-11-12 21:00:00",
          "2012-11-13 01:00:00",
          "2012-11-13 02:00:00",
          "2012-11-13 03:00:00",
          "2012-11-13 04:00:00",
          "2012-11-13 10:00:00",
          "2012-11-13 11:00:00",
          "2012-11-13 12:00:00",
          "2012-11-13 13:00:00",
          "2012-11-13 14:00:00",
          "2012-11-13 15:00:00",
          "2012-11-13 16:00:00",
          "2012-11-13 17:00:00",
          "2012-11-13 18:00:00",
          "2012-11-13 19:00:00",
          "2012-11-13 20:00:00",
          "2012-11-13 21:00:00",
          "2012-11-13 22:00:00",
          "2012-11-13 23:00:00",
          "2012-11-14 05:00:00",
          "2012-11-14 06:00:00",
          "2012-11-14 07:00:00",
          "2012-11-14 08:00:00",
          "2012-11-14 09:00:00",
          "2012-11-14 10:00:00",
          "2012-11-14 12:00:00",
          "2012-11-14 15:00:00",
          "2012-11-14 16:00:00",
          "2012-11-14 17:00:00",
          "2012-11-14 18:00:00",
          "2012-11-14 19:00:00",
          "2012-11-14 20:00:00",
          "2012-11-14 21:00:00",
          "2012-11-14 22:00:00",
          "2012-11-14 23:00:00",
          "2012-11-15 05:00:00",
          "2012-11-15 06:00:00",
          "2012-11-15 07:00:00",
          "2012-11-15 08:00:00",
          "2012-11-15 09:00:00",
          "2012-11-15 15:00:00",
          "2012-11-15 16:00:00",
          "2012-11-15 17:00:00",
          "2012-11-15 18:00:00",
          "2012-11-15 19:00:00",
          "2012-11-15 20:00:00",
          "2012-11-15 21:00:00",
          "2012-11-15 22:00:00",
          "2012-11-15 23:00:00",
          "2012-11-16 00:00:00",
          "2012-11-16 05:00:00",
          "2012-11-16 06:00:00",
          "2012-11-16 07:00:00",
          "2012-11-16 08:00:00",
          "2012-11-16 09:00:00",
          "2012-11-16 10:00:00",
          "2012-11-16 12:00:00",
          "2012-11-16 16:00:00",
          "2012-11-16 17:00:00",
          "2012-11-16 18:00:00",
          "2012-11-16 19:00:00",
          "2012-11-16 20:00:00",
          "2012-11-16 21:00:00",
          "2012-11-16 22:00:00",
          "2012-11-16 23:00:00",
          "2012-11-17 00:00:00",
          "2012-11-17 01:00:00",
          "2012-11-17 08:00:00",
          "2012-11-17 09:00:00",
          "2012-11-17 10:00:00",
          "2012-11-17 11:00:00",
          "2012-11-17 12:00:00",
          "2012-11-17 13:00:00",
          "2012-11-17 14:00:00",
          "2012-11-17 15:00:00",
          "2012-11-17 16:00:00",
          "2012-11-17 17:00:00",
          "2012-11-17 21:00:00",
          "2012-11-17 22:00:00",
          "2012-11-17 23:00:00",
          "2012-11-18 00:00:00",
          "2012-11-18 01:00:00",
          "2012-11-18 02:00:00",
          "2012-11-18 03:00:00",
          "2012-11-18 06:00:00",
          "2012-11-18 07:00:00",
          "2012-11-18 08:00:00",
          "2012-11-18 09:00:00",
          "2012-11-18 10:00:00",
          "2012-11-18 11:00:00",
          "2012-11-18 12:00:00",
          "2012-11-18 13:00:00",
          "2012-11-18 14:00:00",
          "2012-11-18 15:00:00",
          "2012-11-18 16:00:00",
          "2012-11-18 17:00:00",
          "2012-11-18 18:00:00",
          "2012-11-18 19:00:00",
          "2012-11-18 20:00:00",
          "2012-11-18 21:00:00",
          "2012-11-18 22:00:00",
          "2012-11-18 23:00:00",
          "2012-11-19 01:00:00",
          "2012-11-19 05:00:00",
          "2012-11-19 06:00:00",
          "2012-11-19 07:00:00",
          "2012-11-19 08:00:00",
          "2012-11-19 11:00:00",
          "2012-11-19 12:00:00",
          "2012-11-19 13:00:00",
          "2012-11-19 15:00:00",
          "2012-11-19 16:00:00",
          "2012-11-19 17:00:00",
          "2012-11-19 18:00:00",
          "2012-11-19 19:00:00",
          "2012-11-19 20:00:00",
          "2012-11-19 21:00:00",
          "2012-11-19 22:00:00",
          "2012-11-19 23:00:00",
          "2012-12-01 00:00:00",
          "2012-12-01 01:00:00",
          "2012-12-01 06:00:00",
          "2012-12-01 08:00:00",
          "2012-12-01 09:00:00",
          "2012-12-01 10:00:00",
          "2012-12-01 11:00:00",
          "2012-12-01 12:00:00",
          "2012-12-01 13:00:00",
          "2012-12-01 14:00:00",
          "2012-12-01 15:00:00",
          "2012-12-01 16:00:00",
          "2012-12-01 17:00:00",
          "2012-12-01 18:00:00",
          "2012-12-01 19:00:00",
          "2012-12-01 20:00:00",
          "2012-12-01 21:00:00",
          "2012-12-01 22:00:00",
          "2012-12-01 23:00:00",
          "2012-12-02 00:00:00",
          "2012-12-02 01:00:00",
          "2012-12-02 02:00:00",
          "2012-12-02 03:00:00",
          "2012-12-02 06:00:00",
          "2012-12-02 08:00:00",
          "2012-12-02 09:00:00",
          "2012-12-02 10:00:00",
          "2012-12-02 11:00:00",
          "2012-12-02 12:00:00",
          "2012-12-02 13:00:00",
          "2012-12-02 14:00:00",
          "2012-12-02 15:00:00",
          "2012-12-02 16:00:00",
          "2012-12-02 17:00:00",
          "2012-12-02 19:00:00",
          "2012-12-02 20:00:00",
          "2012-12-02 21:00:00",
          "2012-12-02 22:00:00",
          "2012-12-02 23:00:00",
          "2012-12-03 05:00:00",
          "2012-12-03 06:00:00",
          "2012-12-03 07:00:00",
          "2012-12-03 08:00:00",
          "2012-12-03 09:00:00",
          "2012-12-03 11:00:00",
          "2012-12-03 12:00:00",
          "2012-12-03 13:00:00",
          "2012-12-03 14:00:00",
          "2012-12-03 15:00:00",
          "2012-12-03 16:00:00",
          "2012-12-03 17:00:00",
          "2012-12-03 18:00:00",
          "2012-12-03 19:00:00",
          "2012-12-03 20:00:00",
          "2012-12-03 21:00:00",
          "2012-12-03 22:00:00",
          "2012-12-03 23:00:00",
          "2012-12-04 00:00:00",
          "2012-12-04 01:00:00",
          "2012-12-04 05:00:00",
          "2012-12-04 06:00:00",
          "2012-12-04 07:00:00",
          "2012-12-04 08:00:00",
          "2012-12-04 09:00:00",
          "2012-12-04 11:00:00",
          "2012-12-04 12:00:00",
          "2012-12-04 13:00:00",
          "2012-12-04 14:00:00",
          "2012-12-04 15:00:00",
          "2012-12-04 16:00:00",
          "2012-12-04 17:00:00",
          "2012-12-04 18:00:00",
          "2012-12-04 19:00:00",
          "2012-12-04 21:00:00",
          "2012-12-04 22:00:00",
          "2012-12-04 23:00:00",
          "2012-12-05 05:00:00",
          "2012-12-05 06:00:00",
          "2012-12-05 07:00:00",
          "2012-12-05 08:00:00",
          "2012-12-05 09:00:00",
          "2012-12-05 15:00:00",
          "2012-12-05 16:00:00",
          "2012-12-05 17:00:00",
          "2012-12-05 18:00:00",
          "2012-12-05 19:00:00",
          "2012-12-05 20:00:00",
          "2012-12-05 21:00:00",
          "2012-12-06 00:00:00",
          "2012-12-06 05:00:00",
          "2012-12-06 06:00:00",
          "2012-12-06 07:00:00",
          "2012-12-06 08:00:00",
          "2012-12-06 09:00:00",
          "2012-12-06 10:00:00",
          "2012-12-06 11:00:00",
          "2012-12-06 12:00:00",
          "2012-12-06 13:00:00",
          "2012-12-06 14:00:00",
          "2012-12-06 15:00:00",
          "2012-12-06 16:00:00",
          "2012-12-06 17:00:00",
          "2012-12-06 18:00:00",
          "2012-12-06 19:00:00",
          "2012-12-06 20:00:00",
          "2012-12-06 21:00:00",
          "2012-12-06 22:00:00",
          "2012-12-06 23:00:00",
          "2012-12-07 00:00:00",
          "2012-12-07 01:00:00",
          "2012-12-07 07:00:00",
          "2012-12-07 09:00:00",
          "2012-12-07 10:00:00",
          "2012-12-07 11:00:00",
          "2012-12-07 12:00:00",
          "2012-12-07 14:00:00",
          "2012-12-07 15:00:00",
          "2012-12-07 16:00:00",
          "2012-12-07 17:00:00",
          "2012-12-07 18:00:00",
          "2012-12-07 19:00:00",
          "2012-12-07 20:00:00",
          "2012-12-07 21:00:00",
          "2012-12-07 22:00:00",
          "2012-12-07 23:00:00",
          "2012-12-08 00:00:00",
          "2012-12-08 01:00:00",
          "2012-12-08 02:00:00",
          "2012-12-08 03:00:00",
          "2012-12-08 08:00:00",
          "2012-12-08 10:00:00",
          "2012-12-08 11:00:00",
          "2012-12-08 12:00:00",
          "2012-12-08 13:00:00",
          "2012-12-08 14:00:00",
          "2012-12-08 15:00:00",
          "2012-12-08 16:00:00",
          "2012-12-08 17:00:00",
          "2012-12-08 18:00:00",
          "2012-12-08 19:00:00",
          "2012-12-08 20:00:00",
          "2012-12-08 21:00:00",
          "2012-12-08 22:00:00",
          "2012-12-08 23:00:00",
          "2012-12-09 00:00:00",
          "2012-12-09 01:00:00",
          "2012-12-09 02:00:00",
          "2012-12-09 03:00:00",
          "2012-12-09 06:00:00",
          "2012-12-09 07:00:00",
          "2012-12-09 08:00:00",
          "2012-12-09 10:00:00",
          "2012-12-09 11:00:00",
          "2012-12-09 12:00:00",
          "2012-12-09 13:00:00",
          "2012-12-09 14:00:00",
          "2012-12-09 15:00:00",
          "2012-12-09 16:00:00",
          "2012-12-09 17:00:00",
          "2012-12-09 18:00:00",
          "2012-12-09 19:00:00",
          "2012-12-09 20:00:00",
          "2012-12-09 21:00:00",
          "2012-12-09 22:00:00",
          "2012-12-09 23:00:00",
          "2012-12-10 04:00:00",
          "2012-12-10 05:00:00",
          "2012-12-10 06:00:00",
          "2012-12-10 08:00:00",
          "2012-12-10 09:00:00",
          "2012-12-10 11:00:00",
          "2012-12-10 12:00:00",
          "2012-12-10 13:00:00",
          "2012-12-10 14:00:00",
          "2012-12-10 15:00:00",
          "2012-12-10 16:00:00",
          "2012-12-10 17:00:00",
          "2012-12-10 18:00:00",
          "2012-12-10 19:00:00",
          "2012-12-10 20:00:00",
          "2012-12-10 21:00:00",
          "2012-12-10 22:00:00",
          "2012-12-10 23:00:00",
          "2012-12-11 00:00:00",
          "2012-12-11 03:00:00",
          "2012-12-11 05:00:00",
          "2012-12-11 07:00:00",
          "2012-12-11 08:00:00",
          "2012-12-11 09:00:00",
          "2012-12-11 12:00:00",
          "2012-12-11 13:00:00",
          "2012-12-11 14:00:00",
          "2012-12-11 15:00:00",
          "2012-12-11 16:00:00",
          "2012-12-11 17:00:00",
          "2012-12-11 18:00:00",
          "2012-12-11 19:00:00",
          "2012-12-11 20:00:00",
          "2012-12-11 21:00:00",
          "2012-12-11 22:00:00",
          "2012-12-11 23:00:00",
          "2012-12-12 01:00:00",
          "2012-12-12 05:00:00",
          "2012-12-12 06:00:00",
          "2012-12-12 07:00:00",
          "2012-12-12 08:00:00",
          "2012-12-12 09:00:00",
          "2012-12-12 11:00:00",
          "2012-12-12 12:00:00",
          "2012-12-12 13:00:00",
          "2012-12-12 14:00:00",
          "2012-12-12 15:00:00",
          "2012-12-12 16:00:00",
          "2012-12-12 17:00:00",
          "2012-12-12 18:00:00",
          "2012-12-12 19:00:00",
          "2012-12-12 20:00:00",
          "2012-12-12 21:00:00",
          "2012-12-12 23:00:00",
          "2012-12-13 01:00:00",
          "2012-12-13 05:00:00",
          "2012-12-13 07:00:00",
          "2012-12-13 08:00:00",
          "2012-12-13 09:00:00",
          "2012-12-13 10:00:00",
          "2012-12-13 11:00:00",
          "2012-12-13 12:00:00",
          "2012-12-13 13:00:00",
          "2012-12-13 14:00:00",
          "2012-12-13 15:00:00",
          "2012-12-13 16:00:00",
          "2012-12-13 17:00:00",
          "2012-12-13 18:00:00",
          "2012-12-13 19:00:00",
          "2012-12-13 21:00:00",
          "2012-12-13 22:00:00",
          "2012-12-13 23:00:00",
          "2012-12-14 00:00:00",
          "2012-12-14 01:00:00",
          "2012-12-14 05:00:00",
          "2012-12-14 07:00:00",
          "2012-12-14 08:00:00",
          "2012-12-14 09:00:00",
          "2012-12-14 10:00:00",
          "2012-12-14 11:00:00",
          "2012-12-14 12:00:00",
          "2012-12-14 13:00:00",
          "2012-12-14 14:00:00",
          "2012-12-14 15:00:00",
          "2012-12-14 16:00:00",
          "2012-12-14 17:00:00",
          "2012-12-14 18:00:00",
          "2012-12-14 19:00:00",
          "2012-12-14 20:00:00",
          "2012-12-14 21:00:00",
          "2012-12-14 22:00:00",
          "2012-12-14 23:00:00",
          "2012-12-15 01:00:00",
          "2012-12-15 02:00:00",
          "2012-12-15 08:00:00",
          "2012-12-15 09:00:00",
          "2012-12-15 10:00:00",
          "2012-12-15 11:00:00",
          "2012-12-15 12:00:00",
          "2012-12-15 13:00:00",
          "2012-12-15 14:00:00",
          "2012-12-15 15:00:00",
          "2012-12-15 16:00:00",
          "2012-12-15 18:00:00",
          "2012-12-15 19:00:00",
          "2012-12-15 20:00:00",
          "2012-12-15 21:00:00",
          "2012-12-15 22:00:00",
          "2012-12-15 23:00:00",
          "2012-12-16 00:00:00",
          "2012-12-16 01:00:00",
          "2012-12-16 02:00:00",
          "2012-12-16 03:00:00",
          "2012-12-16 06:00:00",
          "2012-12-16 08:00:00",
          "2012-12-16 10:00:00",
          "2012-12-16 11:00:00",
          "2012-12-16 12:00:00",
          "2012-12-16 13:00:00",
          "2012-12-16 14:00:00",
          "2012-12-16 15:00:00",
          "2012-12-16 16:00:00",
          "2012-12-16 17:00:00",
          "2012-12-16 18:00:00",
          "2012-12-16 20:00:00",
          "2012-12-16 21:00:00",
          "2012-12-16 22:00:00",
          "2012-12-16 23:00:00",
          "2012-12-17 07:00:00",
          "2012-12-17 08:00:00",
          "2012-12-17 09:00:00",
          "2012-12-17 11:00:00",
          "2012-12-17 12:00:00",
          "2012-12-17 13:00:00",
          "2012-12-17 14:00:00",
          "2012-12-17 15:00:00",
          "2012-12-17 16:00:00",
          "2012-12-17 17:00:00",
          "2012-12-17 18:00:00",
          "2012-12-17 19:00:00",
          "2012-12-17 23:00:00",
          "2012-12-18 05:00:00",
          "2012-12-18 06:00:00",
          "2012-12-18 07:00:00",
          "2012-12-18 08:00:00",
          "2012-12-18 09:00:00",
          "2012-12-18 10:00:00",
          "2012-12-18 11:00:00",
          "2012-12-18 12:00:00",
          "2012-12-18 13:00:00",
          "2012-12-18 14:00:00",
          "2012-12-18 15:00:00",
          "2012-12-18 16:00:00",
          "2012-12-18 17:00:00",
          "2012-12-18 18:00:00",
          "2012-12-18 20:00:00",
          "2012-12-18 22:00:00",
          "2012-12-18 23:00:00",
          "2012-12-19 00:00:00",
          "2012-12-19 07:00:00",
          "2012-12-19 08:00:00",
          "2012-12-19 09:00:00",
          "2012-12-19 10:00:00",
          "2012-12-19 11:00:00",
          "2012-12-19 12:00:00",
          "2012-12-19 15:00:00",
          "2012-12-19 16:00:00",
          "2012-12-19 17:00:00",
          "2012-12-19 18:00:00",
          "2012-12-19 23:00:00"
         ],
         "xaxis": "x",
         "y": [
          30.090051449451693,
          51.47963842444426,
          16.127915304915433,
          4.4068355103813985,
          4.381415615987137,
          14.216460219290317,
          13.263440786609863,
          49.640145399017456,
          34.878483261984115,
          51.70755830030373,
          163.316751794808,
          123.45247998942739,
          119.98275824371967,
          61.82235854601032,
          90.83011288979844,
          161.5514046414221,
          15.849598925615226,
          45.819500015313906,
          63.7770359012823,
          55.928365332212124,
          15.021928074186846,
          22.68454766463615,
          15.819397700619042,
          6.854647840928643,
          68.08448514602838,
          176.15824334025933,
          223.12776046449687,
          233.24878195093868,
          199.3168902891851,
          122.50839190929372,
          72.90623934801255,
          4.784706000663242,
          33.498535740016564,
          50.38046764153057,
          0.4748734164459165,
          28.948196011880157,
          6.051436604696903,
          10.11251564187421,
          41.625089236801784,
          80.48136029604461,
          94.21025573676593,
          115.5151784592938,
          3.8797103072796375,
          55.24566165129332,
          33.507311706131986,
          33.034099121835425,
          8.139376854967736,
          40.99804985498099,
          50.23569451512151,
          122.98254195119148,
          95.99270567547535,
          41.375278002380526,
          19.30217539334732,
          1.8651832426255481,
          58.04640228600471,
          29.660554421708298,
          130.06612666938963,
          3.47143039502987,
          31.662228750551776,
          63.035423437392296,
          106.21657888949937,
          27.25074059859594,
          17.207511444780096,
          31.08807682337681,
          25.12144683121906,
          31.901442841801497,
          36.05979967538186,
          10.132345042107598,
          102.28614983640637,
          131.65491049820707,
          11.512213581898209,
          3.957891799008621,
          12.638392262675097,
          4.383971226014069,
          54.57176801680771,
          101.6568604396274,
          80.28110893207048,
          21.78287570507115,
          1.6691179875993498,
          52.23795726464175,
          92.8975111716762,
          23.048245293645437,
          26.860218105239525,
          15.374546271690583,
          13.086670606682631,
          0.15629896678345823,
          2.6808933205177414,
          10.983566724084397,
          53.19594186380988,
          98.47355941542335,
          7.150955109362144,
          83.62117701346205,
          149.15737624966175,
          139.62602434046198,
          100.34240818284786,
          306.6143460382475,
          10.481537583847086,
          22.194369473064,
          22.338339605513326,
          23.35747193132167,
          7.525999759250254,
          7.156405068018216,
          35.65922022817094,
          33.1707413362413,
          70.3041258328716,
          66.48710956176657,
          97.57061725768295,
          93.34288559536077,
          201.86110477478644,
          154.46961330708768,
          93.23618268489054,
          142.41954492091588,
          151.5328925720289,
          154.72625553982812,
          99.13522108697435,
          111.02329422961719,
          68.63723066877156,
          54.48729353827912,
          4.035278566690906,
          8.310401453817047,
          31.975180529921317,
          17.33845033487495,
          92.86303020542141,
          30.09230113058902,
          16.261522130145067,
          15.645222061756897,
          66.33885554054712,
          49.15346206049492,
          71.8217107556643,
          70.8718742501988,
          53.27740005453575,
          37.1166385529624,
          160.35072838393103,
          44.0363212470495,
          28.79840919803877,
          7.289990807029113,
          57.35628975530096,
          149.35605685501588,
          84.68327682988536,
          15.001223762685527,
          19.396639358939296,
          34.148974703069314,
          39.60546269856985,
          41.82639175077827,
          91.2326934392081,
          132.6851238510386,
          51.56201784573352,
          5.421842153043485,
          80.9023891419912,
          42.73104752510153,
          20.536645961363263,
          8.454527175012373,
          1.6892138787631055,
          11.411380657103429,
          50.01935214668811,
          110.29008637921186,
          90.25306417777358,
          50.49826714300963,
          21.498267143009627,
          22.257851654308354,
          52.6718747597663,
          98.48087499196458,
          152.82542007709458,
          39.16758610905379,
          29.56712023932016,
          8.238225745909808,
          4.561559954466851,
          0.8953703450871711,
          25.42712499274649,
          40.58660622945763,
          124.27262540988721,
          78.81935349390812,
          12.410484616452834,
          4.646230923203632,
          58.4114379317063,
          34.22144283895335,
          50.22888495981465,
          43.55308501475952,
          117.33257264798942,
          70.31937697109322,
          1.1321710062198918,
          39.480701909147626,
          18.877044680562648,
          24.632731795595745,
          9.026252136296378,
          11.315779665288531,
          11.878173181086115,
          9.747405277025535,
          69.4981225707719,
          166.05375928051274,
          3.3331565218871333,
          2.304379887891514,
          39.53599568604017,
          38.53599568604017,
          15.04546286388154,
          2.150793969830204,
          81.82742452399555,
          123.85035069189837,
          75.18442146553787,
          73.0224453527776,
          30.72752949888485,
          25.751110914096444,
          38.42686181493514,
          25.327298066536684,
          76.69436605876564,
          10.02053455874723,
          24.423829249303893,
          2.743205644894573,
          4.041194913415069,
          70.35569686749056,
          7.265138284445925,
          98.57406859822777,
          83.90568340905372,
          79.092897164345,
          94.02271353892138,
          70.98232686787526,
          213.49347106331095,
          167.32038008210338,
          114.03309633471332,
          15.106005314758022,
          40.93700140119327,
          59.9643661414718,
          60.522292144429855,
          21.528533659066255,
          19.13333146703839,
          16.745844317156227,
          10.804725063067892,
          35,
          39.41833907654819,
          91.14745786869531,
          77.11556012809348,
          94.66703905400891,
          138.15413824558527,
          65.04795794582628,
          7.856463896812215,
          69.63752506994456,
          67.21550631818627,
          51.598122458642024,
          35.19220967317199,
          44.284925623912784,
          7.791720843566452,
          24.137328078439182,
          1.5864844362892185,
          10.92194805933805,
          16.192485428862796,
          58.796580624421836,
          59.27858351079044,
          8.523576618711871,
          47.35841471760193,
          59.87462341696235,
          104.20591218804495,
          110.93706031386358,
          109.99505257599216,
          112.46878538428791,
          77.30154331914639,
          128.66949816022623,
          22.666768261950324,
          10.741137173380423,
          108.65292830899864,
          33.531889460794204,
          34.951552206901205,
          2.093391277370346,
          3.7470528766162334,
          4.1491688872216645,
          16.91042661998694,
          27.5182352526042,
          67.32837565149646,
          16.355039232892153,
          76.84961972689632,
          14.567492480803708,
          27.088979687326287,
          5.168069945242735,
          59.20107448301749,
          24.470166830402082,
          21.412701851514726,
          97.82613633334319,
          121.60662059530705,
          6.760568728629778,
          5.9190078373232495,
          23.248756995745396,
          6.968856098972992,
          21.809085075835924,
          17.195098390254543,
          60.59881868607681,
          181.5434740168356,
          78.56666714109895,
          37.01965498800644,
          88.17774460456525,
          25.619222721102858,
          8.922239585635978,
          0.3194892516187551,
          1.0943871696172138,
          7.474885271801526,
          80.4834763720545,
          188.63758391665647,
          3.89797213860993,
          50.076395126041916,
          51.56733054795279,
          33.56733054795279,
          61.997498124707704,
          35.487850051939574,
          294.8437142696433,
          59.25677684119523,
          78.39522630328048,
          70.53673032216096,
          102.06255134527204,
          49.66261069928798,
          11.016637519094509,
          77.893942704697,
          22.26559044193226,
          53.12547441951682,
          83.20282648973776,
          181.95648334141998,
          399.7168401311705,
          411.0243095463383,
          186.06551114878138,
          176.0933821458367,
          183.65418357204226,
          110.86000919617595,
          6.870691212430032,
          23.457483517784304,
          0.278195400457907,
          4.057144299630842,
          47.57989698903742,
          115.69995701896221,
          198.16443572024218,
          55.711266495799805,
          10.694312172274238,
          86.71473866172988,
          22.71921799254426,
          51.15141398858236,
          68.39940378231444,
          116.43226842710146,
          17.042258687968456,
          14.790125050056076,
          62.01917904826115,
          63.77474480126105,
          42.13123358722491,
          4.346873698844149,
          18.680657115164212,
          50.64561758645537,
          116.57749068524265,
          52.680196302796446,
          2.989912801855155,
          36.38262983734319,
          38.54718013503759,
          50.093393167318425,
          66.65934120647546,
          72.0513082714748,
          30.82192336847038,
          11.457071809523654,
          40.13147496426595,
          13.830435504193652,
          6.198398379228465,
          28.76275457547331,
          166.3998647500796,
          25.646320616753144,
          3.6923393016220984,
          78.23078816030068,
          39.575393444699614,
          14.95365352060054,
          77.114425099617,
          122.29841648797884,
          116.9375178035965,
          41.814747627459724,
          58.83592487712434,
          76.62050045089251,
          23.923724693601258,
          57.32844090681749,
          3.2689123639482034,
          65.95142836427371,
          49.903497107879204,
          9.261197494283806,
          25.087408826055054,
          6.700132870019392,
          48.209877306641346,
          99.98522184976753,
          119.8836561316084,
          120.17091199652953,
          136.266110264659,
          179.0561583174234,
          23.732017078936792,
          21.10992079613584,
          80.26152631160971,
          100.86639586228233,
          46.43293528374761,
          40.39626185360632,
          34.373789455241905,
          47.15684944240866,
          12.200328542892464,
          20.66676671322135,
          8.010198855516862,
          14.387857764228531,
          13.812340431461376,
          46.11562694164397,
          46.40627700486601,
          121.23902233771364,
          181.2025271055872,
          33.16128806550236,
          24.58957070021131,
          56.90226322222359,
          40.33525375856544,
          56.30101857843573,
          8.034623072763896,
          0.30303137820521897,
          110.02339824963138,
          55.39539692391014,
          72.36964849592846,
          70.70042198764031,
          60.131481696744515,
          127.61962425089774,
          146.76849521694237,
          202.4186500931999,
          170.08448406030075,
          77.87938426581098,
          63.15875859306948,
          71.06772654048143,
          99.78761243067473,
          37.32547351558814,
          18.951148170534815,
          13,
          7,
          3,
          4.884005903160221,
          10.049349413513397,
          17.507500725997488,
          102.25184634721188,
          44.033079214745385,
          15.643363671709125,
          4.640529716869821,
          93.35984215472581,
          195.48473026684985,
          198.64268842486865,
          83.41154429057059,
          49.39272327204219,
          18.56250190613295,
          9.40089454650871,
          6.77843649547502,
          31.927917669405048,
          90.44151606489078,
          167.10355608323118,
          10.426109190589557,
          52.09177278940825,
          109.63013447242099,
          15.419878054733147,
          26.702712088922112,
          107.76594935004954,
          213.76065998016657,
          148.77134856333896,
          83.69541963910444,
          30.634830842451663,
          17.317457161674696,
          18.85480259417099,
          36.41408457744164,
          9.072521905167648,
          23.330594772209025,
          125.675430723641,
          179.58243185981314,
          31.911387664819983,
          7.892093775470045,
          44.199129516620076,
          64.54929003209458,
          173.96583608772232,
          79.58081647273343,
          167.6267517144454,
          99.82613739347573,
          330.93907894811895,
          120.13853078238787,
          41.09595337134999,
          27.279378382165817,
          70.44120077415194,
          10.633076236396718,
          6.987693977064705,
          1.1675149021955633,
          6.290737931682628,
          55.79374232778059,
          89.7973640194059,
          35.055888532583936,
          18.055443130542642,
          21.395741323666357,
          31.816001923432907,
          15.139094907423612,
          22.622429923884795,
          101.22584035637601,
          138.09164832636418,
          255.52052918335335,
          114.09759770831135,
          125.39696867352234,
          45.58817546320512,
          9.353201903361253,
          14.28109507474096,
          142.76461774670008,
          68.17724271497424,
          4.54168650352441,
          8.290196039080207,
          55.18628778939437,
          16.095968497000285,
          118.14045445761928,
          103.39804623928865,
          191.79334715131404,
          66.60612243014884,
          71.80269695500647,
          120.44463054258722,
          77.5578171031787,
          68.15838366035746,
          21.952510086806,
          42.72260760329337,
          52.82630296870488,
          48.17253922587983,
          0.09776942722071169,
          5.157889544198326,
          33.150716286680506,
          0.48127263691492317,
          21.060661837951706,
          70.58158480169465,
          58.186091762253284,
          51.877930381212366,
          18.97079816739108,
          65.59499426513332,
          48.300807095500204,
          1.3754746313879878,
          46.76927902726379,
          36.96974925510466,
          65.27682593826063,
          21.231096230942796,
          42.27125097178521,
          46.682608550263666,
          15.602391716434369,
          33.32374330137387,
          9.509003158915164,
          4.576948457083656,
          10.399272526485532,
          3.3053678271755302,
          45.608530264182605,
          108.52454567459404,
          182.12357133510977,
          49.716482285920875,
          159.38388903210642,
          19.32439193035262,
          81.95448494935567,
          58.18621907904469,
          205.6095981878974,
          19.72166894561167,
          15.953608096141636,
          2.451147248391564,
          16.78431912451127,
          28.771411258124516,
          122.57287150488759,
          176.9601775016398,
          2.9833363106282604,
          16.80922828637739,
          6.160826290665369,
          73.34574097916556,
          61.783783247263955,
          44.55820775610812,
          75.8743945162555,
          59.97578273022026,
          253.27485948097092,
          158.4125816560561,
          64.69894475293688,
          117.41012054732488,
          51.65426882010786,
          134.98918284631947,
          8.717191630075384,
          1.521796116121802,
          4.896512139031714,
          33.44694452162773,
          108.9570411047718,
          208.54401117591226,
          45.968940028600684,
          18.7120084249199,
          60.3226582283213,
          36.704028948350015,
          1.9377484490771053,
          19.830604037748685,
          52.545914721960685,
          204.78691804444009,
          227.70908840583536,
          69.67952373566521,
          80.13899771864567,
          144.8394386583714,
          63.05293854298665,
          7.505817449328617,
          16.542361165854544,
          2.165776553007369,
          9.76473869632008,
          112.24830209873329,
          196.33902988034106,
          50.30497966106935,
          24.34318533452037,
          99.05557450979688,
          52.01216321022787,
          26.485657483801674,
          96.73226118820799,
          9.220130184082734,
          232.60744637233586,
          146.4339176688834,
          57.0788640450678,
          60.949578032136515,
          46.15959291354656,
          63.817140934505915,
          10.280206185118196,
          5.597446581020478,
          56.312903233968484,
          115.04372720421804,
          16.41577773358142,
          12.693431320544562,
          14.91258160984205,
          68.94239576381949,
          9.95302120751927,
          68.93010650176734,
          319.07028242198044,
          2.0826591619605495,
          6.214275676172676,
          16.232604189230344,
          11.162814840942975,
          5.468531473670065,
          0.7822284389110248,
          5.295810076466644,
          10.553882943508029,
          70.79224670406103,
          58.34797506857035,
          133.32580011945282,
          26.442381229066797,
          34.76061811218352,
          73.87191661368149,
          36.27424383686352,
          2.434946282984413,
          62.22082897629042,
          334.3713888407507,
          196.89065019589566,
          88.54009199186254,
          52.99558531393629,
          73.3386728141804,
          49.535335332694274,
          23.69461870837118,
          66.0828412391918,
          64.34572581374857,
          67.5711101545889,
          11.29773484532484,
          29.630437174705207,
          30.01688054816057,
          63.07590247487107,
          94.09079668040397,
          125.44129329949749,
          69.06521665821367,
          54.36626362626015,
          13.7087241862219,
          9.078531915617418,
          19.215682677016304,
          5.007552824209299,
          17.01945638573413,
          0.458171620637593,
          38.30193067348419,
          20.06068201220495,
          1.1276521161528308,
          56.51169515026987,
          91.67587365666066,
          103.79660615675908,
          112.46532873497932,
          68.93346095984549,
          97.62372641793547,
          15.79154680072196,
          11.633492134461846,
          8.621109423490026,
          37.68194096322608,
          1.3888265605159233,
          95.94339871288524,
          14.576981885528445,
          7.267866774444023,
          111.13125372264986,
          39.634494627780555,
          92.7057012918325,
          119.68726459024094,
          144.63739353767852,
          114.39263082043249,
          133.52061968824245,
          79.9336913275452,
          86.16098015426292,
          24.43430424137972,
          20.486208778440528,
          60.46428734279465,
          30.94039263004742,
          39.316270349237804,
          24.219154770890146,
          1.4481334878461603,
          15.78818421182251,
          20.513770395569736,
          170.93191337753558,
          83.56728406047421,
          7.054598276120515,
          20.364010496817073,
          27.70411023334529,
          6.101895918895195,
          21.09191692659556,
          74.81178615835535,
          165.85735674286173,
          80.83729027352166,
          50.02942576012754,
          14.696880038625494,
          17.140322882711573,
          8.562815217056581,
          9.266125451651021,
          27.40613342020059,
          105.3005098231946,
          50.53705411330054,
          97.94856500213422,
          104.8320933799786,
          57.86239767181732,
          57.42726217524634,
          79.05703049234194,
          30.246428855000374,
          91.99220201533743,
          135.25839559099813,
          183.31490397653,
          79.46283166634936,
          57.50551918097534,
          11.407811840752174,
          54.16678722949749,
          153.2361669488936,
          247.81094090296406,
          75.66970407166173,
          58.494679957866616,
          0.7993372555653764,
          47.92433184609945,
          83.28876483117949,
          112.53254208247188,
          48.57091244974666,
          32.40345231992288,
          23.28725039011576,
          44.09540703848478,
          119.74588889657292,
          76.34333769233217,
          35.88890095415417,
          45.48757528635318,
          5.2357673943747365,
          139.9030300369722,
          65.36815111799467,
          64.23091906520563,
          31.365399884523328,
          13.330911037727901,
          9.061775449163648,
          77.57205312676012,
          83.40322936048096,
          31.55547147773467,
          9.288096896745884,
          41.394237240967726,
          38.632432628267,
          61.146262875395735,
          82.56050256242713,
          67.6439508409066,
          37.26450816300098,
          30.24022367469854,
          21.982148565128824,
          51.68055966293471,
          19.85069458333723,
          0.07863599477406069,
          57.10676259466986,
          37.61361133734175,
          109.57324101143405,
          109.70961796142473,
          105.8162035484122,
          82.65746315481044,
          34.366179583244275,
          98.33541627060288,
          16.315592169574757,
          67.51936542151205,
          54.111450689747414,
          34.565724645461614,
          21.084715933805015,
          29.95454192449887,
          12.990239377386736,
          14.945173329568227,
          19,
          50.3589697164164,
          80.82743383128822,
          82.66922130020032,
          127.27991756647418,
          150.39230163074876,
          113.8643232942643,
          201.73055731097725,
          87.50885219914153,
          220.03153939073468,
          191.56772413157364,
          45.292210902359614,
          26.559032937206496,
          55.7295029048764,
          87.92447861597668,
          68.84290501911846,
          66.67283379447511,
          1.1573182998762839,
          14.210204546691301,
          78.11239456998348,
          175.89964652076787,
          115.74463236092885,
          2.5813587343764652,
          90.28380174409307,
          112.20170771790663,
          128.56422348060846,
          150.50415913363588,
          91.25643221709657,
          47.14617245095144,
          41.091992922309714,
          57.24355051126463,
          18.60215620447309,
          13.554575210159385,
          5,
          11,
          5,
          0.06023826601037641,
          26.040858296093987,
          14.523205020659276,
          13.967925400488838,
          33.108403945144545,
          9.003223322323294,
          2.3483241569451536,
          23.63468456707318,
          136.26311126662353,
          100.48338880284388,
          40.221925098771464,
          5.371320735123618,
          12.611189284425564,
          22.256160476273052,
          27.70191859486355,
          8.503244827949992,
          22.709778792799213,
          132.73184555805523,
          143.00607145623258,
          65.5343775067139,
          36.3783577226192,
          27.957556353809792,
          29.54114575811255,
          41.15892145246602,
          147.31369587478156,
          139.97412519154688,
          71.28591053194742,
          31.232161556532873,
          15.349802834220583,
          30.172223120247253,
          9.781530583351085,
          2.714016554455611,
          20.818952374766653,
          103.71720548252728,
          47.75595505645765,
          55.18506480925299,
          12.90305464121019,
          73.9719556927929,
          90.50741244240595,
          109.79415774074516,
          56.6580208271277,
          25.249109269676865,
          40.415010114319244,
          20.85367255005997,
          40.42447434893981,
          17.00828682144052,
          3.993176266064573,
          2.44351702933308,
          76.0828412391918,
          98.58996640230976,
          36.571110154588894,
          12.99619390483494,
          25.724384063916943,
          16.442212100440827,
          92.10516022404897,
          76.68549859567986,
          14.189506531159452,
          6.253392881821725,
          6.801306596150596,
          30.129628059674218,
          29.528884937004406,
          5.208963312993262,
          20.90405441308262,
          61.289276381775096,
          3.1072719731650977,
          11.636552622011664,
          49.23680097327315,
          46.208302002560345,
          66.23627842532005,
          94.96465170067228,
          91.6948886525081,
          73.59923547179193,
          37.99502478984738,
          1.3782682258924694,
          17.23176639894554,
          38.72533051125288,
          33.511030220123516,
          17.630424517583933,
          10.947146282636872,
          12.50758250170793,
          13.474281747601504,
          7.042594290985562,
          104.2150631126947,
          54.3664887470986,
          78.6096004058835,
          42.44820852440455,
          103.1215714590748,
          109.69963996474627,
          108.71845512918685,
          41.47456531443345,
          116.10280925119577,
          53.600522945080826,
          68.65177179037198,
          33.27070291909658,
          16.608293172066695,
          45.02574084328198,
          30.11279702116925,
          36.99313692641572,
          0.018041420792343388,
          8.254387261956705,
          4.654237485765364,
          46.32554708899471,
          88.66403475158904,
          29.09882465249683,
          51.5400569293015,
          20.608138255510113,
          28.58730486237303,
          100.91829074420349,
          80.69368617475402,
          114.92660805284316,
          73.98993605122666,
          24.023724017564348,
          24.71948434090615,
          1.037526444608659,
          23.200692557575174,
          19.844058400438115,
          2.992472055953158,
          0.3709293523980328,
          54.00594132574156,
          57.5074021224209,
          62.39704835675141,
          118.1487314522285,
          167.5821742509758,
          193.0152636999726,
          159.4094200903698,
          151.09024984634596,
          149.66529976445042,
          75.8050869617058,
          69.16171443145271,
          53.85107979714388,
          30.28543080246331,
          42.82612678195419,
          40.06876166625128,
          20.06970881253261,
          28.96846492109286,
          25.358096927247544,
          17.951690563861263,
          1.0848054827637021,
          16,
          62.50890636419996,
          63.31785119145874,
          103.03683369547613,
          136.36866082615668,
          272.2730637024674,
          122.67775662447343,
          153.64989413387718,
          98.46967010718527,
          168.31567938711368,
          182.80928207202726,
          32.322990938095785,
          28.72764345341251,
          22.228003257812446,
          34.49493971655859,
          2.7657728755236093,
          11.45241284534428,
          23.45340573638056,
          96.681055920831,
          195.74993730326344,
          38.51374406868513,
          27.199216600704148,
          30.06332522679631,
          71.7814658722099,
          19.699425103981156,
          21.89775017472175,
          34.97138282855906,
          91.47389619614057,
          112.34305967577689,
          42.43670906795893,
          34.82879337854661,
          59.107926195566534,
          32.99728691003382,
          36.12837112703957,
          18.877392504963794,
          7.395710935552206,
          14.97275126778839,
          38.44106388075768,
          108.21919307324737,
          124.03929791823816,
          21.86474568848638,
          2.4268324730826407,
          80.08204495500007,
          32.686336286659554,
          40.7747247868725,
          65.41845717038555,
          69.34736674201662,
          129.59335398066082,
          124.98916721176101,
          70.62389708667905,
          69.03632479393778,
          44.13966775621566,
          21.513217828605192,
          15.852209346693009,
          9.501663881791572,
          164.1772467784972,
          127.22230728616705,
          63.46123859404565,
          17.253678220721667,
          48.84010132552635,
          57.14823542231113,
          67.90192852698885,
          49.98829292467764,
          62.70806069346648,
          5.849554277000379,
          8.360257246996447,
          5.860673133989806,
          7.530078638359782,
          114.62766153302397,
          136.65911950496957,
          20.928335010019254,
          11.547084952286355,
          26.88843333736523,
          42.62086099232715,
          39.801153119335794,
          31.467297936274605,
          71.61505524097305,
          60.657744798807016,
          194.26264510468388,
          166.78859969164614,
          104.188804848919,
          37.27684278633774,
          25.541343485176895,
          0.5234846186394577,
          3.5475833812633084,
          3.5383309247866634,
          2.0071119563891777,
          46.50305968642459,
          54.00022488316648,
          17.450091568559372,
          40.10087631244485,
          25.42142168337878,
          0.34086913642804006,
          84.19158198696104,
          108.08090931760086,
          138.28628616682965,
          98.14403974388188,
          70.14843284254272,
          143.24254004256096,
          32.535413355933,
          53.67666382004718,
          26.667883899129848,
          20.867065379817348,
          38.0944244066485,
          21.204950090417782,
          6.168028380862037,
          11.602585951976522,
          39.38129305637676,
          125.94101791985872,
          209.77027275052268,
          250.48577873592603,
          297.39790690673203,
          199.6339751552183,
          192.27929243636873,
          92.03465436260103,
          71.01753147503734,
          31.709661375795633,
          37.68449558460523,
          107.2812820957368,
          56.81169146676582,
          58.2555201559247,
          21.82509877628418,
          28.256963157167746,
          20.62998579702706,
          19.43498114288951,
          6,
          18.272318652180942,
          46.313807773250666,
          18.334431979032615,
          30.266325660706002,
          88.33966444222071,
          62.3294656623344,
          1.403058533130718,
          113.78558623995846,
          153.5612546494902,
          139.68381858997822,
          110.06666629008636,
          35.25903124166287,
          81.73675384765107,
          50.77367385463874,
          69.59778939824753,
          51,
          2.246306031220133,
          2.7984331608182202,
          11.120095794006161,
          36.194350526721564,
          13.954617567896037,
          60.115752866738404,
          92.19851716765001,
          140.84148959673908,
          11.000926144770574,
          15.241854393432305,
          65.8183614752648,
          200.68435742277433,
          191.71236640229688,
          32.9402758461282,
          68.85715185956502,
          101.36850864286131,
          4.170191254500992,
          21.7108587452353,
          8.135302985605257,
          3,
          40.29736352217096,
          56.01145623835589,
          126.96115020289562,
          49.90614832737964,
          49.78687477174364,
          57.91853182048925,
          19.467298763836055,
          81.55738196347741,
          96.09445286956583,
          177.9629492430231,
          131.38361610404445,
          120.64148245815073,
          32.530900299068264,
          27.03431470478202,
          0.03723385873672669,
          6.6352750837054515,
          3.3209227778006465,
          5.8199074570814275,
          7.89038061995349,
          98.37973476560916,
          168.64708790866553,
          29.759232434065638,
          12.771530645648028,
          15.606883760927474,
          21.606883760927474,
          35.692572438898054,
          32.441648155556095,
          63.59855161487127,
          155.37949409818822,
          141.32383192479494,
          104.30176513645262,
          49.13235076660263,
          29.314507386531943,
          5.827480523905251,
          4.396952031315227,
          3.5977562743989893,
          104.95920870938318,
          146.4515049951125,
          60.354447752715146,
          28.087453252241687,
          7.585478751279851,
          58.31434640641186,
          44.0207531250154,
          30.89462331588902,
          59.319195602490026,
          123.68563081229786,
          104.0301603881357,
          24.729693382697462,
          32.68265951411581,
          24.132819349220398,
          19.0639413605179,
          28.885554834412602,
          3.7405252447844504,
          2.779056366055144,
          6.222167407655419,
          41.74878237083948,
          122.8749833955493,
          91.93870738459225,
          52.80219228571033,
          31.539495355004732,
          32.2416655208647,
          77.15770939485694,
          49.310781095479854,
          71.96734483585618,
          109.96878628164274,
          187.36511132865888,
          20.477985059790456,
          12.384455701958814,
          13.258739637563139,
          17.131270035490985,
          16.95377897269563,
          31.738027009913637,
          26.98858028084959,
          16.10299773972242,
          55.419448949351256,
          47.214947133123246,
          26.653054730570602,
          52.649726218297815,
          66.0799337683664,
          77.58239441354135,
          42.64283623121611,
          33.93395545914626,
          55.638926026455806,
          8.76306152109504,
          15.351346876908053,
          16.653591744208768,
          41.438742573558955,
          34.435215542312505,
          11.915705390871608,
          13.75824502771286,
          36.8838856111332,
          30.609906586294798,
          9.711262736392737,
          4.905360774423017,
          31.027415691679707,
          35.08567007417008,
          44.04433912304924,
          158.5011136834363,
          61.86858142560345,
          35.634263206539515,
          94.71463074888277,
          178.18462618531854,
          49.138371322695434,
          10.107330692037834,
          27.158997813223692,
          53.63911279323076,
          56.89685486927478,
          0.5331313410291969,
          0.9804668200275728,
          45.71112511361821,
          16.974059542750922,
          7.783202105307453,
          52.916600743104965,
          28.30629103393312,
          13.207449247896733,
          12.388702843446566,
          226.02339022743652,
          189.82584227238573,
          177.2665625290502,
          31.125118672271583,
          26.711070447440544,
          6.385523398221029,
          0.5530659508509359,
          26.485360193970223,
          102.72819971567446,
          45.21441397979049,
          6.71006706971437,
          54.857240993193955,
          174.06300752269647,
          27.372102453750017,
          27.374522251219275,
          6.714458687434984,
          56.291729944001645,
          95.72466565025468,
          38.203536355068536,
          15.151878557442899,
          10.43497100234427,
          13.298737407014329,
          4.526944370818313,
          85.6025736232287,
          179.01777970824605,
          50.840420022091735,
          14.638748237249615,
          11.090941892210992,
          26.588304584200074,
          3.819677961936179,
          24.484488136281527,
          78.66990107184535,
          88.95420489388647,
          2.9504633776782185
         ],
         "yaxis": "y"
        },
        {
         "hovertemplate": "color=False<br>x=%{x}<br>y=%{y}<extra></extra>",
         "legendgroup": "False",
         "marker": {
          "color": "#EF553B",
          "symbol": "circle"
         },
         "mode": "markers",
         "name": "False",
         "showlegend": true,
         "type": "scattergl",
         "x": [
          "2012-09-01 01:00:00",
          "2012-09-01 02:00:00",
          "2012-09-01 03:00:00",
          "2012-09-01 04:00:00",
          "2012-09-01 05:00:00",
          "2012-09-01 06:00:00",
          "2012-09-01 07:00:00",
          "2012-09-01 08:00:00",
          "2012-09-01 09:00:00",
          "2012-09-01 10:00:00",
          "2012-09-01 11:00:00",
          "2012-09-01 12:00:00",
          "2012-09-01 13:00:00",
          "2012-09-01 14:00:00",
          "2012-09-01 16:00:00",
          "2012-09-01 17:00:00",
          "2012-09-01 18:00:00",
          "2012-09-01 19:00:00",
          "2012-09-01 20:00:00",
          "2012-09-01 21:00:00",
          "2012-09-01 22:00:00",
          "2012-09-01 23:00:00",
          "2012-09-02 00:00:00",
          "2012-09-02 01:00:00",
          "2012-09-02 05:00:00",
          "2012-09-02 07:00:00",
          "2012-09-02 15:00:00",
          "2012-09-02 20:00:00",
          "2012-09-02 21:00:00",
          "2012-09-03 05:00:00",
          "2012-09-03 06:00:00",
          "2012-09-03 07:00:00",
          "2012-09-03 08:00:00",
          "2012-09-03 09:00:00",
          "2012-09-03 17:00:00",
          "2012-09-03 18:00:00",
          "2012-09-03 19:00:00",
          "2012-09-03 20:00:00",
          "2012-09-03 21:00:00",
          "2012-09-03 22:00:00",
          "2012-09-03 23:00:00",
          "2012-09-04 00:00:00",
          "2012-09-04 01:00:00",
          "2012-09-04 02:00:00",
          "2012-09-04 03:00:00",
          "2012-09-04 04:00:00",
          "2012-09-04 09:00:00",
          "2012-09-04 10:00:00",
          "2012-09-04 11:00:00",
          "2012-09-04 19:00:00",
          "2012-09-04 20:00:00",
          "2012-09-04 21:00:00",
          "2012-09-04 22:00:00",
          "2012-09-04 23:00:00",
          "2012-09-05 00:00:00",
          "2012-09-05 01:00:00",
          "2012-09-05 02:00:00",
          "2012-09-05 03:00:00",
          "2012-09-05 04:00:00",
          "2012-09-05 09:00:00",
          "2012-09-05 11:00:00",
          "2012-09-05 12:00:00",
          "2012-09-05 13:00:00",
          "2012-09-05 14:00:00",
          "2012-09-05 15:00:00",
          "2012-09-05 21:00:00",
          "2012-09-05 22:00:00",
          "2012-09-05 23:00:00",
          "2012-09-06 01:00:00",
          "2012-09-06 02:00:00",
          "2012-09-06 03:00:00",
          "2012-09-06 04:00:00",
          "2012-09-06 09:00:00",
          "2012-09-06 10:00:00",
          "2012-09-06 11:00:00",
          "2012-09-06 12:00:00",
          "2012-09-06 13:00:00",
          "2012-09-06 14:00:00",
          "2012-09-07 01:00:00",
          "2012-09-07 02:00:00",
          "2012-09-07 03:00:00",
          "2012-09-07 04:00:00",
          "2012-09-07 06:00:00",
          "2012-09-07 12:00:00",
          "2012-09-07 14:00:00",
          "2012-09-07 15:00:00",
          "2012-09-07 16:00:00",
          "2012-09-08 07:00:00",
          "2012-09-08 16:00:00",
          "2012-09-08 17:00:00",
          "2012-09-08 18:00:00",
          "2012-09-08 20:00:00",
          "2012-09-08 21:00:00",
          "2012-09-08 23:00:00",
          "2012-09-09 00:00:00",
          "2012-09-09 07:00:00",
          "2012-09-09 21:00:00",
          "2012-09-10 00:00:00",
          "2012-09-10 01:00:00",
          "2012-09-10 02:00:00",
          "2012-09-10 03:00:00",
          "2012-09-10 04:00:00",
          "2012-09-10 20:00:00",
          "2012-09-10 22:00:00",
          "2012-09-10 23:00:00",
          "2012-09-11 00:00:00",
          "2012-09-11 01:00:00",
          "2012-09-11 02:00:00",
          "2012-09-11 03:00:00",
          "2012-09-11 04:00:00",
          "2012-09-11 10:00:00",
          "2012-09-11 14:00:00",
          "2012-09-12 01:00:00",
          "2012-09-12 02:00:00",
          "2012-09-12 03:00:00",
          "2012-09-12 04:00:00",
          "2012-09-12 09:00:00",
          "2012-09-12 10:00:00",
          "2012-09-12 11:00:00",
          "2012-09-12 14:00:00",
          "2012-09-12 21:00:00",
          "2012-09-12 22:00:00",
          "2012-09-12 23:00:00",
          "2012-09-13 02:00:00",
          "2012-09-13 04:00:00",
          "2012-09-13 09:00:00",
          "2012-09-13 10:00:00",
          "2012-09-13 13:00:00",
          "2012-09-13 14:00:00",
          "2012-09-14 03:00:00",
          "2012-09-14 04:00:00",
          "2012-09-14 11:00:00",
          "2012-09-15 04:00:00",
          "2012-09-15 05:00:00",
          "2012-09-15 06:00:00",
          "2012-09-15 07:00:00",
          "2012-09-15 20:00:00",
          "2012-09-16 04:00:00",
          "2012-09-16 05:00:00",
          "2012-09-16 07:00:00",
          "2012-09-16 08:00:00",
          "2012-09-16 21:00:00",
          "2012-09-17 01:00:00",
          "2012-09-17 02:00:00",
          "2012-09-17 03:00:00",
          "2012-09-17 04:00:00",
          "2012-09-17 09:00:00",
          "2012-09-18 01:00:00",
          "2012-09-18 02:00:00",
          "2012-09-18 07:00:00",
          "2012-09-18 09:00:00",
          "2012-09-18 11:00:00",
          "2012-09-18 12:00:00",
          "2012-09-18 13:00:00",
          "2012-09-18 15:00:00",
          "2012-09-18 16:00:00",
          "2012-09-18 18:00:00",
          "2012-09-18 19:00:00",
          "2012-09-18 23:00:00",
          "2012-09-19 00:00:00",
          "2012-09-19 01:00:00",
          "2012-09-19 02:00:00",
          "2012-09-19 03:00:00",
          "2012-09-19 04:00:00",
          "2012-09-19 10:00:00",
          "2012-09-19 13:00:00",
          "2012-10-01 01:00:00",
          "2012-10-01 02:00:00",
          "2012-10-01 03:00:00",
          "2012-10-01 04:00:00",
          "2012-10-01 10:00:00",
          "2012-10-01 14:00:00",
          "2012-10-01 21:00:00",
          "2012-10-02 00:00:00",
          "2012-10-02 01:00:00",
          "2012-10-02 02:00:00",
          "2012-10-02 03:00:00",
          "2012-10-02 04:00:00",
          "2012-10-02 08:00:00",
          "2012-10-02 09:00:00",
          "2012-10-02 10:00:00",
          "2012-10-02 11:00:00",
          "2012-10-02 12:00:00",
          "2012-10-02 13:00:00",
          "2012-10-03 02:00:00",
          "2012-10-03 03:00:00",
          "2012-10-03 04:00:00",
          "2012-10-03 10:00:00",
          "2012-10-03 14:00:00",
          "2012-10-03 21:00:00",
          "2012-10-03 22:00:00",
          "2012-10-04 02:00:00",
          "2012-10-04 03:00:00",
          "2012-10-04 04:00:00",
          "2012-10-04 07:00:00",
          "2012-10-04 10:00:00",
          "2012-10-04 11:00:00",
          "2012-10-04 14:00:00",
          "2012-10-04 19:00:00",
          "2012-10-04 22:00:00",
          "2012-10-04 23:00:00",
          "2012-10-05 02:00:00",
          "2012-10-05 03:00:00",
          "2012-10-05 04:00:00",
          "2012-10-05 06:00:00",
          "2012-10-05 10:00:00",
          "2012-10-06 04:00:00",
          "2012-10-06 05:00:00",
          "2012-10-06 07:00:00",
          "2012-10-06 19:00:00",
          "2012-10-06 20:00:00",
          "2012-10-07 03:00:00",
          "2012-10-07 04:00:00",
          "2012-10-07 05:00:00",
          "2012-10-07 09:00:00",
          "2012-10-07 10:00:00",
          "2012-10-07 11:00:00",
          "2012-10-07 13:00:00",
          "2012-10-07 14:00:00",
          "2012-10-07 18:00:00",
          "2012-10-07 19:00:00",
          "2012-10-08 00:00:00",
          "2012-10-08 02:00:00",
          "2012-10-08 03:00:00",
          "2012-10-08 04:00:00",
          "2012-10-08 05:00:00",
          "2012-10-08 07:00:00",
          "2012-10-08 21:00:00",
          "2012-10-09 00:00:00",
          "2012-10-09 05:00:00",
          "2012-10-09 10:00:00",
          "2012-10-09 11:00:00",
          "2012-10-09 13:00:00",
          "2012-10-09 14:00:00",
          "2012-10-09 23:00:00",
          "2012-10-10 00:00:00",
          "2012-10-10 01:00:00",
          "2012-10-10 02:00:00",
          "2012-10-10 03:00:00",
          "2012-10-10 04:00:00",
          "2012-10-10 10:00:00",
          "2012-10-10 14:00:00",
          "2012-10-11 00:00:00",
          "2012-10-11 01:00:00",
          "2012-10-11 02:00:00",
          "2012-10-11 03:00:00",
          "2012-10-11 04:00:00",
          "2012-10-11 10:00:00",
          "2012-10-11 13:00:00",
          "2012-10-12 02:00:00",
          "2012-10-12 03:00:00",
          "2012-10-12 04:00:00",
          "2012-10-12 23:00:00",
          "2012-10-13 03:00:00",
          "2012-10-13 04:00:00",
          "2012-10-13 05:00:00",
          "2012-10-13 06:00:00",
          "2012-10-13 09:00:00",
          "2012-10-14 03:00:00",
          "2012-10-14 04:00:00",
          "2012-10-14 05:00:00",
          "2012-10-14 07:00:00",
          "2012-10-14 09:00:00",
          "2012-10-15 02:00:00",
          "2012-10-15 03:00:00",
          "2012-10-15 04:00:00",
          "2012-10-15 10:00:00",
          "2012-10-15 13:00:00",
          "2012-10-15 14:00:00",
          "2012-10-15 20:00:00",
          "2012-10-15 21:00:00",
          "2012-10-15 22:00:00",
          "2012-10-16 01:00:00",
          "2012-10-16 02:00:00",
          "2012-10-16 03:00:00",
          "2012-10-16 04:00:00",
          "2012-10-16 21:00:00",
          "2012-10-17 01:00:00",
          "2012-10-17 03:00:00",
          "2012-10-17 04:00:00",
          "2012-10-17 11:00:00",
          "2012-10-18 01:00:00",
          "2012-10-18 02:00:00",
          "2012-10-18 03:00:00",
          "2012-10-18 04:00:00",
          "2012-10-18 10:00:00",
          "2012-10-18 23:00:00",
          "2012-10-19 01:00:00",
          "2012-10-19 02:00:00",
          "2012-10-19 03:00:00",
          "2012-10-19 04:00:00",
          "2012-10-19 07:00:00",
          "2012-10-19 08:00:00",
          "2012-10-19 17:00:00",
          "2012-10-19 18:00:00",
          "2012-10-19 19:00:00",
          "2012-10-19 20:00:00",
          "2012-10-19 21:00:00",
          "2012-11-01 04:00:00",
          "2012-11-01 14:00:00",
          "2012-11-02 00:00:00",
          "2012-11-02 01:00:00",
          "2012-11-02 02:00:00",
          "2012-11-02 03:00:00",
          "2012-11-02 04:00:00",
          "2012-11-02 05:00:00",
          "2012-11-02 06:00:00",
          "2012-11-02 11:00:00",
          "2012-11-02 12:00:00",
          "2012-11-02 21:00:00",
          "2012-11-03 02:00:00",
          "2012-11-03 04:00:00",
          "2012-11-03 05:00:00",
          "2012-11-03 06:00:00",
          "2012-11-03 07:00:00",
          "2012-11-03 09:00:00",
          "2012-11-03 19:00:00",
          "2012-11-03 20:00:00",
          "2012-11-04 02:00:00",
          "2012-11-04 03:00:00",
          "2012-11-04 04:00:00",
          "2012-11-04 05:00:00",
          "2012-11-04 18:00:00",
          "2012-11-05 00:00:00",
          "2012-11-05 01:00:00",
          "2012-11-05 02:00:00",
          "2012-11-05 03:00:00",
          "2012-11-05 11:00:00",
          "2012-11-05 14:00:00",
          "2012-11-05 21:00:00",
          "2012-11-06 00:00:00",
          "2012-11-06 01:00:00",
          "2012-11-06 02:00:00",
          "2012-11-06 03:00:00",
          "2012-11-06 04:00:00",
          "2012-11-06 21:00:00",
          "2012-11-07 03:00:00",
          "2012-11-07 04:00:00",
          "2012-11-07 05:00:00",
          "2012-11-07 11:00:00",
          "2012-11-07 13:00:00",
          "2012-11-07 14:00:00",
          "2012-11-07 21:00:00",
          "2012-11-07 22:00:00",
          "2012-11-07 23:00:00",
          "2012-11-08 00:00:00",
          "2012-11-08 01:00:00",
          "2012-11-08 02:00:00",
          "2012-11-08 04:00:00",
          "2012-11-08 06:00:00",
          "2012-11-08 09:00:00",
          "2012-11-08 10:00:00",
          "2012-11-08 11:00:00",
          "2012-11-08 12:00:00",
          "2012-11-08 13:00:00",
          "2012-11-08 14:00:00",
          "2012-11-08 15:00:00",
          "2012-11-08 16:00:00",
          "2012-11-08 18:00:00",
          "2012-11-08 19:00:00",
          "2012-11-08 20:00:00",
          "2012-11-08 23:00:00",
          "2012-11-09 00:00:00",
          "2012-11-09 01:00:00",
          "2012-11-09 02:00:00",
          "2012-11-09 03:00:00",
          "2012-11-09 04:00:00",
          "2012-11-09 05:00:00",
          "2012-11-09 12:00:00",
          "2012-11-09 13:00:00",
          "2012-11-09 14:00:00",
          "2012-11-09 18:00:00",
          "2012-11-10 02:00:00",
          "2012-11-10 03:00:00",
          "2012-11-10 04:00:00",
          "2012-11-10 05:00:00",
          "2012-11-10 06:00:00",
          "2012-11-10 07:00:00",
          "2012-11-10 09:00:00",
          "2012-11-10 18:00:00",
          "2012-11-10 19:00:00",
          "2012-11-10 20:00:00",
          "2012-11-11 04:00:00",
          "2012-11-11 05:00:00",
          "2012-11-11 19:00:00",
          "2012-11-12 00:00:00",
          "2012-11-12 01:00:00",
          "2012-11-12 02:00:00",
          "2012-11-12 03:00:00",
          "2012-11-12 04:00:00",
          "2012-11-12 19:00:00",
          "2012-11-12 22:00:00",
          "2012-11-12 23:00:00",
          "2012-11-13 00:00:00",
          "2012-11-13 05:00:00",
          "2012-11-13 06:00:00",
          "2012-11-13 07:00:00",
          "2012-11-13 08:00:00",
          "2012-11-13 09:00:00",
          "2012-11-14 00:00:00",
          "2012-11-14 01:00:00",
          "2012-11-14 02:00:00",
          "2012-11-14 03:00:00",
          "2012-11-14 04:00:00",
          "2012-11-14 11:00:00",
          "2012-11-14 13:00:00",
          "2012-11-14 14:00:00",
          "2012-11-15 00:00:00",
          "2012-11-15 01:00:00",
          "2012-11-15 02:00:00",
          "2012-11-15 03:00:00",
          "2012-11-15 04:00:00",
          "2012-11-15 10:00:00",
          "2012-11-15 11:00:00",
          "2012-11-15 12:00:00",
          "2012-11-15 13:00:00",
          "2012-11-15 14:00:00",
          "2012-11-16 01:00:00",
          "2012-11-16 02:00:00",
          "2012-11-16 03:00:00",
          "2012-11-16 04:00:00",
          "2012-11-16 11:00:00",
          "2012-11-16 13:00:00",
          "2012-11-16 14:00:00",
          "2012-11-16 15:00:00",
          "2012-11-17 02:00:00",
          "2012-11-17 03:00:00",
          "2012-11-17 04:00:00",
          "2012-11-17 05:00:00",
          "2012-11-17 06:00:00",
          "2012-11-17 07:00:00",
          "2012-11-17 18:00:00",
          "2012-11-17 19:00:00",
          "2012-11-17 20:00:00",
          "2012-11-18 04:00:00",
          "2012-11-18 05:00:00",
          "2012-11-19 00:00:00",
          "2012-11-19 02:00:00",
          "2012-11-19 03:00:00",
          "2012-11-19 04:00:00",
          "2012-11-19 09:00:00",
          "2012-11-19 10:00:00",
          "2012-11-19 14:00:00",
          "2012-12-01 02:00:00",
          "2012-12-01 03:00:00",
          "2012-12-01 04:00:00",
          "2012-12-01 05:00:00",
          "2012-12-01 07:00:00",
          "2012-12-02 04:00:00",
          "2012-12-02 05:00:00",
          "2012-12-02 07:00:00",
          "2012-12-02 18:00:00",
          "2012-12-03 00:00:00",
          "2012-12-03 01:00:00",
          "2012-12-03 02:00:00",
          "2012-12-03 03:00:00",
          "2012-12-03 04:00:00",
          "2012-12-03 10:00:00",
          "2012-12-04 02:00:00",
          "2012-12-04 03:00:00",
          "2012-12-04 04:00:00",
          "2012-12-04 10:00:00",
          "2012-12-04 20:00:00",
          "2012-12-05 00:00:00",
          "2012-12-05 01:00:00",
          "2012-12-05 02:00:00",
          "2012-12-05 03:00:00",
          "2012-12-05 04:00:00",
          "2012-12-05 10:00:00",
          "2012-12-05 11:00:00",
          "2012-12-05 12:00:00",
          "2012-12-05 13:00:00",
          "2012-12-05 14:00:00",
          "2012-12-05 22:00:00",
          "2012-12-05 23:00:00",
          "2012-12-06 01:00:00",
          "2012-12-06 02:00:00",
          "2012-12-06 03:00:00",
          "2012-12-06 04:00:00",
          "2012-12-07 02:00:00",
          "2012-12-07 03:00:00",
          "2012-12-07 04:00:00",
          "2012-12-07 05:00:00",
          "2012-12-07 06:00:00",
          "2012-12-07 08:00:00",
          "2012-12-07 13:00:00",
          "2012-12-08 04:00:00",
          "2012-12-08 05:00:00",
          "2012-12-08 06:00:00",
          "2012-12-08 07:00:00",
          "2012-12-08 09:00:00",
          "2012-12-09 04:00:00",
          "2012-12-09 05:00:00",
          "2012-12-09 09:00:00",
          "2012-12-10 00:00:00",
          "2012-12-10 01:00:00",
          "2012-12-10 02:00:00",
          "2012-12-10 03:00:00",
          "2012-12-10 07:00:00",
          "2012-12-10 10:00:00",
          "2012-12-11 01:00:00",
          "2012-12-11 02:00:00",
          "2012-12-11 04:00:00",
          "2012-12-11 06:00:00",
          "2012-12-11 10:00:00",
          "2012-12-11 11:00:00",
          "2012-12-12 00:00:00",
          "2012-12-12 02:00:00",
          "2012-12-12 03:00:00",
          "2012-12-12 04:00:00",
          "2012-12-12 10:00:00",
          "2012-12-12 22:00:00",
          "2012-12-13 00:00:00",
          "2012-12-13 02:00:00",
          "2012-12-13 03:00:00",
          "2012-12-13 04:00:00",
          "2012-12-13 06:00:00",
          "2012-12-13 20:00:00",
          "2012-12-14 02:00:00",
          "2012-12-14 03:00:00",
          "2012-12-14 04:00:00",
          "2012-12-14 06:00:00",
          "2012-12-15 00:00:00",
          "2012-12-15 03:00:00",
          "2012-12-15 04:00:00",
          "2012-12-15 05:00:00",
          "2012-12-15 06:00:00",
          "2012-12-15 07:00:00",
          "2012-12-15 17:00:00",
          "2012-12-16 04:00:00",
          "2012-12-16 05:00:00",
          "2012-12-16 07:00:00",
          "2012-12-16 09:00:00",
          "2012-12-16 19:00:00",
          "2012-12-17 00:00:00",
          "2012-12-17 01:00:00",
          "2012-12-17 02:00:00",
          "2012-12-17 03:00:00",
          "2012-12-17 04:00:00",
          "2012-12-17 05:00:00",
          "2012-12-17 06:00:00",
          "2012-12-17 10:00:00",
          "2012-12-17 20:00:00",
          "2012-12-17 21:00:00",
          "2012-12-17 22:00:00",
          "2012-12-18 00:00:00",
          "2012-12-18 01:00:00",
          "2012-12-18 02:00:00",
          "2012-12-18 03:00:00",
          "2012-12-18 04:00:00",
          "2012-12-18 19:00:00",
          "2012-12-18 21:00:00",
          "2012-12-19 01:00:00",
          "2012-12-19 02:00:00",
          "2012-12-19 03:00:00",
          "2012-12-19 04:00:00",
          "2012-12-19 05:00:00",
          "2012-12-19 06:00:00",
          "2012-12-19 13:00:00",
          "2012-12-19 14:00:00",
          "2012-12-19 19:00:00",
          "2012-12-19 20:00:00",
          "2012-12-19 21:00:00",
          "2012-12-19 22:00:00"
         ],
         "xaxis": "x",
         "y": [
          23.687393716432695,
          1.8921220673849035,
          1.0599255449435105,
          11.329197912693797,
          1.9463390834287502,
          1.0019928853463114,
          68.66729831955996,
          57.00628959321787,
          38.11994163020461,
          6.029776863934444,
          13.795095589655773,
          86.44022038387698,
          29.598868146201312,
          2.8666737423595805,
          25.515330032087263,
          55.13234205960555,
          42.86237028877912,
          13.294293898770206,
          62.08853786676775,
          7.686070168145818,
          83.34849573519745,
          20.561359015541882,
          24.93178315187457,
          27.93208497782618,
          4.658838236419641,
          30.827702388829096,
          21.090141586989773,
          126.5821959430582,
          28.58398246229956,
          11.032111254007678,
          13.949819773519746,
          248.44196623077897,
          345.6274233580546,
          48.951538754071635,
          143.0105611915302,
          196.90938139726939,
          146.70158952036354,
          164.21187093414903,
          144.88894959473055,
          82.04343354706288,
          42.92259942305216,
          7.586545015849225,
          0.44047076333993473,
          12.778318348953956,
          3.8897495101756228,
          5.452419107273455,
          11.538476319771974,
          28.132567213219943,
          11.28831410733514,
          12.825758783039987,
          40.00104119302762,
          70.58950237055211,
          68.81893792124976,
          48.68599412968865,
          15.291601135871431,
          7.232750748492123,
          4.570598334106142,
          12.185324906267635,
          11.185324906267635,
          49.93232876053054,
          31.943221717205915,
          7.1576133379409725,
          40.77005468043376,
          67.62390979422389,
          16.907903198517147,
          21.608347505088375,
          29.951791478540997,
          4.302317892208293,
          2.573220284592338,
          9.195142336504436,
          3.766985080908494,
          7.045969443726703,
          21.67599636179787,
          47.430912044673505,
          133.1473894340773,
          112.1381856386007,
          48.54380447667535,
          31.641469909872683,
          0.9691089725462199,
          5.131245718847136,
          2.9263798077136585,
          3.769615817324926,
          3.1551868523417,
          37.67253210346712,
          85.60437017409043,
          28.655160410603173,
          0.9900479079004754,
          23.606124756087397,
          100.98839239550378,
          87.1225617391242,
          66.07712668479033,
          51.37549286850526,
          22.289365892416498,
          30.42012873749681,
          2.3979166086006813,
          8.154731442959118,
          5.3891969403038615,
          6.67767723415794,
          2.312020703785368,
          0.5385893761115206,
          2.526322851300959,
          9.526322851300959,
          46.26501680525706,
          12.491925749740005,
          6.237007636366329,
          15.33389525307436,
          11.107263483325418,
          9.342431326113543,
          7.028734360872582,
          6.120373990555903,
          13.95356327399179,
          19.95721670909876,
          0.9874519126798482,
          4.65193455245991,
          8.120373990555903,
          10.120373990555903,
          22.599000534491893,
          2.5235115313477365,
          10.03046302308789,
          9.205625346591205,
          10.12703903897983,
          8.662379254946472,
          3.0446227498301255,
          6.304953452949704,
          4.104629654912829,
          14.852278483236319,
          3.1229317601350033,
          16.7422330480195,
          15.071447421392293,
          1.6801069399801172,
          3.680106939980117,
          10.435166881974396,
          12.940404633552195,
          6.255804399468964,
          7.502610451586484,
          76.38948487303313,
          51.30303858665462,
          11.722809065675378,
          2.9015141504688042,
          3.387989641583019,
          2.0953016955999146,
          14.77828736095347,
          0.2885712156274174,
          2.0693586039803726,
          9.11788623876907,
          4.753444169934241,
          22.94882731270502,
          4.8823542045809525,
          0.8051416551964534,
          55.149816087960744,
          4.480184639332947,
          37.02162774913256,
          76.69549507810103,
          98.26556743959856,
          63.405356347340756,
          14.919904586175733,
          208.64513390576553,
          33.33523768486481,
          21.266858370430725,
          13.388434560941114,
          5.703588184352633,
          11.288286285535635,
          9.258149638948101,
          1.2515603576460315,
          25.25664109862123,
          4.327251411426175,
          5.169412176753156,
          5.314641633940944,
          10.000944668699987,
          4.451320839466371,
          23.909404061103174,
          13.947734770057878,
          15.08863826777116,
          14.297089182458599,
          11.416659647026087,
          14.561889104213876,
          7.62815421761794,
          3.2247059260108806,
          233.72792082504822,
          85.00989911349353,
          58.275348959060864,
          2.173627255084682,
          109.61517355587202,
          61.723521279140925,
          4.31795699599158,
          6.888892925048475,
          2.4096229112197562,
          29.528460711038434,
          1.5539639896129245,
          105.21681632231832,
          20.999811651762855,
          0.7959205006677905,
          3.3642802507435956,
          4.364280250743596,
          35.05009243195383,
          20.7349876743894,
          26.84184065129321,
          1.1536461739192418,
          59.54559591506495,
          37.718488481717145,
          25.65029440324082,
          10.318244720751771,
          0.9793330036734247,
          5.979333003673425,
          11.947135377620583,
          4.228302501885025,
          3.1160359139073783,
          5.064918062283285,
          20.098372307582295,
          15.233284508056386,
          33.28516111323967,
          11.74020494393568,
          9.719415565949351,
          15.408972546757436,
          60.29805278963326,
          127.0678072977816,
          3.336982569537952,
          31.209617650921246,
          8.38110778700377,
          10.172818582515902,
          47.512392070551925,
          6.237650453670874,
          12.102153593350206,
          11.760047563581153,
          7.232314155044945,
          9.31499182229025,
          1.0457570884955487,
          8.334390469168596,
          7.247928004668026,
          16.040120283808896,
          24.335423296941485,
          25.81345303510159,
          8.575622050159268,
          1.2827421763105633,
          6.885686761546808,
          6.132952627827713,
          11.554267786447507,
          5.699497243635298,
          7.385800278394338,
          5.709212042714091,
          2.084532826982496,
          12.760764911977446,
          8.119415997476594,
          16.05564324873773,
          9.506067932636594,
          15.290541417021927,
          8.290541417021927,
          10.79864217403346,
          7.687107950883444,
          3.7506298408633896,
          9.631745819310016,
          4.1686982917284485,
          13.323610945545639,
          15.207901259230763,
          8.538295448103462,
          9.775497732493086,
          6.159815374718612,
          2.789113893830006,
          1.9036348330103259,
          5.288624680850084,
          6.3691378833504615,
          2.118328687029809,
          0.5906667279612066,
          13.345838993531856,
          6.637682956443177,
          6.587842099254651,
          33.413027729775564,
          50.030234622652415,
          34.346850857780765,
          51.111392535627374,
          31.01897577384696,
          34.818263551629514,
          8.994695455807566,
          12.798280714228005,
          12.353865181037747,
          7.353865181037747,
          18.443824946072112,
          2.5838391295413814,
          4.183236361239022,
          11.182785730118871,
          10.19568888941717,
          8.251445604446982,
          3.128080987627218,
          1.9791744034238663,
          1.9791744034238663,
          2.8545096030765933,
          8.895742317057966,
          2.726275128165632,
          7.0139981334207775,
          8.569432013116778,
          7.569432013116778,
          18.03216800287447,
          33.14778866079456,
          67.3832253205008,
          259.534731949623,
          136.92117136796753,
          64.20180972726604,
          28.114879980455584,
          5.929492210778635,
          21.695102547166243,
          6.306987082235857,
          3.394853596735878,
          7.9107354080917,
          11.884261393851967,
          7.884261393851967,
          6.079276484539392,
          8.38992913367278,
          31.873779063662624,
          1.1372786664681485,
          3.7562911144129885,
          11.99963913367182,
          4.087509940151765,
          13.341360685865347,
          16.204420645166984,
          4.371202890099923,
          20.89733693156697,
          31.79226285161792,
          20.12929018061874,
          26.38757666730588,
          20.492342825126762,
          7.482838508519993,
          10.628896687799267,
          13.034173785117133,
          14.077008336043043,
          13.728892507317994,
          11.881562072490262,
          13.192044117133598,
          0.3595429124406735,
          9.447184635802529,
          7.972383324092476,
          16.008602499845658,
          10.464845634511008,
          11.942007690444289,
          9.101623914444529,
          5.736761582912486,
          8.310895841098954,
          3.9080627582390086,
          6.191623076892432,
          0.4138929665313462,
          3.1357917101282453,
          1.5933496611273767,
          2.725639579681257,
          47.44662612674361,
          41.25402664981928,
          18.842522152888215,
          24.52710689354565,
          12.515469239776014,
          11.980268464886198,
          5.28444523859169,
          4.492852119757799,
          4.8366050590366285,
          1.5574230231041213,
          39.18351774965862,
          15.539440230611405,
          56.54419593329993,
          91.40444628449171,
          48.38305064382848,
          12.553559167433662,
          13.908481397685023,
          10.775760601846287,
          19.473573007311757,
          3.0778410079093703,
          0.4288168146016389,
          8.789282645250065,
          7.30516445660588,
          7.017490743221103,
          2.017490743221103,
          0.5846715508129599,
          31.13727866646815,
          16.96030982622915,
          33.11603534720496,
          28.417111629393276,
          16.449487811325433,
          9.969316437507658,
          5.354769133162593,
          5.585936061624205,
          11.944417670114408,
          5.464529153618855,
          5.373031646494269,
          4.486772560277927,
          36.434757369951285,
          46.882742886386865,
          9.70871216177066,
          3.277136849640744,
          11.733473854157069,
          13.188357945133717,
          8.414449108425913,
          9.029228726173432,
          16.316134318331894,
          12.706605430573664,
          71.44585791089492,
          38.259660562427655,
          19.474444416388593,
          9.827368080847918,
          6.807682890706136,
          17.246715889553954,
          60.0398328717726,
          180.5128033515714,
          8.916559661798019,
          12.377291381683278,
          6.264369181414629,
          13.417038746586897,
          8.927997244326614,
          6.758747118574771,
          6.777538187175651,
          21.23314873190813,
          42.486236108084796,
          0.7741640861893515,
          3.595315338290259,
          8.798077034558125,
          13.43428793822156,
          10.95722372236586,
          1.7684138643980702,
          14.209028168490306,
          2.570436343542127,
          0.24158918033509735,
          3.5476900797555686,
          5.969398140776697,
          10.650187569368583,
          10.646074174637231,
          11.595982043541632,
          6.012116333277618,
          15.984315417168432,
          38.627854028718616,
          25.353855980834396,
          3.985419903148113,
          4.38117707368778,
          8.0703814418366,
          5.943847313596905,
          11.152724967984923,
          1.3643514868152664,
          38.63072475084306,
          11.146115020095806,
          11.788303827041858,
          6.69806711954681,
          6.1260909901727345,
          9.788784141418198,
          6.865569548280323,
          12.820931179138967,
          2.8209311791389666,
          14.380378149968578,
          15.045516113508171,
          3.0937428457968963,
          4.078104980978473,
          12.34674333701641,
          9.744703457410129,
          0.11087720197801332,
          12.85285870434086,
          4.300184365076072,
          3.59636669328461,
          12.539727467369396,
          36.63814646812051,
          19.84700966629041,
          6.428591280078177,
          3.3192786767133953,
          2.0041806374734605,
          5.394343823976422,
          42.793192596498415,
          2.271351988550128,
          8.004902081176297,
          5.004902081176297,
          24.237213038953143,
          4.581214434674109,
          6.624525230217699,
          3.5250641534744496,
          4.573874846523834,
          7.305795567412412,
          1.3924446693369799,
          54.92772343547722,
          50.993602939273785,
          20.9536268029363,
          53.78674396963453,
          39.44490949393003,
          32.6486283421296,
          4.798258713064058,
          5.037528052381134,
          6.706746890159293,
          12.763633377272358,
          5.908374107644761,
          7.601599805444835,
          8.520846322055407,
          4.049721856707571,
          5.060936107938627,
          43.03083099088745,
          124.96396268341402,
          11.913642738653692,
          0.6117082577521575,
          9.524300745910445,
          6.796832629703854,
          39.4240806457713,
          24.1200116952659,
          3.1977724335021342,
          6.623623223273855,
          35.237096332972556,
          5.326668322124124,
          17.91825691844833,
          5.0673909340208265,
          5.753693968779867,
          8.51614685793146,
          35.922459153572134,
          7.1590148898860395,
          10.394810611683367,
          2.352607234017565,
          10.234701109710585,
          0.8914293628026257,
          1.1116130465516676,
          5.056026386353352,
          7.309791717251265,
          3.0525666143282724,
          9.052566614328272,
          8.75171239321756,
          3.8390569590780927,
          5.079634193739338,
          6.958381390047334,
          12.644684424806373,
          8.474729144967117,
          3.6721156816380187,
          12.359870453014224,
          6.582745287942014,
          1.4100307506425462,
          3.4100307506425462,
          5.190248514032248,
          5.103255173504621,
          3.473862151518155,
          6.3291343830850355,
          14.589944270346198,
          21.156453865084373,
          32.16026563167044,
          14.63797083262233,
          4.829056454518167,
          5.502670972841765,
          18.74974218344373,
          28.989397646864546,
          41.78339133040461,
          4.014935397173332,
          1.086185928938896,
          4.994502599953492,
          8.464875387878113,
          4.045183893791817,
          2.7675561590443287,
          5.663973959159421,
          13.552720985712625,
          11.685401324044534,
          30.542412569129795,
          47.4462518566729,
          15.198663263376417,
          0.9954223699230837,
          2.160502424740285,
          4.410449571575979,
          4.184956853543651,
          1.874941485975853,
          21.83873841636239,
          2.9531362580740463,
          10.726820960079593,
          8.363211792035212,
          7.038719301274195,
          1.1442596942022192,
          10.474854189832257,
          22.31469933157507,
          5.765932388228265,
          20.5216639682846,
          12.558793256770201,
          20.806350266297642,
          13.605656532182508
         ],
         "yaxis": "y"
        }
       ],
       "layout": {
        "legend": {
         "title": {
          "text": "Prédiction trop basse"
         },
         "tracegroupgap": 0
        },
        "margin": {
         "t": 60
        },
        "paper_bgcolor": "rgba(0,0,0,0)",
        "plot_bgcolor": "rgba(0,0,0,0)",
        "template": {
         "data": {
          "bar": [
           {
            "error_x": {
             "color": "#2a3f5f"
            },
            "error_y": {
             "color": "#2a3f5f"
            },
            "marker": {
             "line": {
              "color": "#E5ECF6",
              "width": 0.5
             },
             "pattern": {
              "fillmode": "overlay",
              "size": 10,
              "solidity": 0.2
             }
            },
            "type": "bar"
           }
          ],
          "barpolar": [
           {
            "marker": {
             "line": {
              "color": "#E5ECF6",
              "width": 0.5
             },
             "pattern": {
              "fillmode": "overlay",
              "size": 10,
              "solidity": 0.2
             }
            },
            "type": "barpolar"
           }
          ],
          "carpet": [
           {
            "aaxis": {
             "endlinecolor": "#2a3f5f",
             "gridcolor": "white",
             "linecolor": "white",
             "minorgridcolor": "white",
             "startlinecolor": "#2a3f5f"
            },
            "baxis": {
             "endlinecolor": "#2a3f5f",
             "gridcolor": "white",
             "linecolor": "white",
             "minorgridcolor": "white",
             "startlinecolor": "#2a3f5f"
            },
            "type": "carpet"
           }
          ],
          "choropleth": [
           {
            "colorbar": {
             "outlinewidth": 0,
             "ticks": ""
            },
            "type": "choropleth"
           }
          ],
          "contour": [
           {
            "colorbar": {
             "outlinewidth": 0,
             "ticks": ""
            },
            "colorscale": [
             [
              0,
              "#0d0887"
             ],
             [
              0.1111111111111111,
              "#46039f"
             ],
             [
              0.2222222222222222,
              "#7201a8"
             ],
             [
              0.3333333333333333,
              "#9c179e"
             ],
             [
              0.4444444444444444,
              "#bd3786"
             ],
             [
              0.5555555555555556,
              "#d8576b"
             ],
             [
              0.6666666666666666,
              "#ed7953"
             ],
             [
              0.7777777777777778,
              "#fb9f3a"
             ],
             [
              0.8888888888888888,
              "#fdca26"
             ],
             [
              1,
              "#f0f921"
             ]
            ],
            "type": "contour"
           }
          ],
          "contourcarpet": [
           {
            "colorbar": {
             "outlinewidth": 0,
             "ticks": ""
            },
            "type": "contourcarpet"
           }
          ],
          "heatmap": [
           {
            "colorbar": {
             "outlinewidth": 0,
             "ticks": ""
            },
            "colorscale": [
             [
              0,
              "#0d0887"
             ],
             [
              0.1111111111111111,
              "#46039f"
             ],
             [
              0.2222222222222222,
              "#7201a8"
             ],
             [
              0.3333333333333333,
              "#9c179e"
             ],
             [
              0.4444444444444444,
              "#bd3786"
             ],
             [
              0.5555555555555556,
              "#d8576b"
             ],
             [
              0.6666666666666666,
              "#ed7953"
             ],
             [
              0.7777777777777778,
              "#fb9f3a"
             ],
             [
              0.8888888888888888,
              "#fdca26"
             ],
             [
              1,
              "#f0f921"
             ]
            ],
            "type": "heatmap"
           }
          ],
          "heatmapgl": [
           {
            "colorbar": {
             "outlinewidth": 0,
             "ticks": ""
            },
            "colorscale": [
             [
              0,
              "#0d0887"
             ],
             [
              0.1111111111111111,
              "#46039f"
             ],
             [
              0.2222222222222222,
              "#7201a8"
             ],
             [
              0.3333333333333333,
              "#9c179e"
             ],
             [
              0.4444444444444444,
              "#bd3786"
             ],
             [
              0.5555555555555556,
              "#d8576b"
             ],
             [
              0.6666666666666666,
              "#ed7953"
             ],
             [
              0.7777777777777778,
              "#fb9f3a"
             ],
             [
              0.8888888888888888,
              "#fdca26"
             ],
             [
              1,
              "#f0f921"
             ]
            ],
            "type": "heatmapgl"
           }
          ],
          "histogram": [
           {
            "marker": {
             "pattern": {
              "fillmode": "overlay",
              "size": 10,
              "solidity": 0.2
             }
            },
            "type": "histogram"
           }
          ],
          "histogram2d": [
           {
            "colorbar": {
             "outlinewidth": 0,
             "ticks": ""
            },
            "colorscale": [
             [
              0,
              "#0d0887"
             ],
             [
              0.1111111111111111,
              "#46039f"
             ],
             [
              0.2222222222222222,
              "#7201a8"
             ],
             [
              0.3333333333333333,
              "#9c179e"
             ],
             [
              0.4444444444444444,
              "#bd3786"
             ],
             [
              0.5555555555555556,
              "#d8576b"
             ],
             [
              0.6666666666666666,
              "#ed7953"
             ],
             [
              0.7777777777777778,
              "#fb9f3a"
             ],
             [
              0.8888888888888888,
              "#fdca26"
             ],
             [
              1,
              "#f0f921"
             ]
            ],
            "type": "histogram2d"
           }
          ],
          "histogram2dcontour": [
           {
            "colorbar": {
             "outlinewidth": 0,
             "ticks": ""
            },
            "colorscale": [
             [
              0,
              "#0d0887"
             ],
             [
              0.1111111111111111,
              "#46039f"
             ],
             [
              0.2222222222222222,
              "#7201a8"
             ],
             [
              0.3333333333333333,
              "#9c179e"
             ],
             [
              0.4444444444444444,
              "#bd3786"
             ],
             [
              0.5555555555555556,
              "#d8576b"
             ],
             [
              0.6666666666666666,
              "#ed7953"
             ],
             [
              0.7777777777777778,
              "#fb9f3a"
             ],
             [
              0.8888888888888888,
              "#fdca26"
             ],
             [
              1,
              "#f0f921"
             ]
            ],
            "type": "histogram2dcontour"
           }
          ],
          "mesh3d": [
           {
            "colorbar": {
             "outlinewidth": 0,
             "ticks": ""
            },
            "type": "mesh3d"
           }
          ],
          "parcoords": [
           {
            "line": {
             "colorbar": {
              "outlinewidth": 0,
              "ticks": ""
             }
            },
            "type": "parcoords"
           }
          ],
          "pie": [
           {
            "automargin": true,
            "type": "pie"
           }
          ],
          "scatter": [
           {
            "marker": {
             "colorbar": {
              "outlinewidth": 0,
              "ticks": ""
             }
            },
            "type": "scatter"
           }
          ],
          "scatter3d": [
           {
            "line": {
             "colorbar": {
              "outlinewidth": 0,
              "ticks": ""
             }
            },
            "marker": {
             "colorbar": {
              "outlinewidth": 0,
              "ticks": ""
             }
            },
            "type": "scatter3d"
           }
          ],
          "scattercarpet": [
           {
            "marker": {
             "colorbar": {
              "outlinewidth": 0,
              "ticks": ""
             }
            },
            "type": "scattercarpet"
           }
          ],
          "scattergeo": [
           {
            "marker": {
             "colorbar": {
              "outlinewidth": 0,
              "ticks": ""
             }
            },
            "type": "scattergeo"
           }
          ],
          "scattergl": [
           {
            "marker": {
             "colorbar": {
              "outlinewidth": 0,
              "ticks": ""
             }
            },
            "type": "scattergl"
           }
          ],
          "scattermapbox": [
           {
            "marker": {
             "colorbar": {
              "outlinewidth": 0,
              "ticks": ""
             }
            },
            "type": "scattermapbox"
           }
          ],
          "scatterpolar": [
           {
            "marker": {
             "colorbar": {
              "outlinewidth": 0,
              "ticks": ""
             }
            },
            "type": "scatterpolar"
           }
          ],
          "scatterpolargl": [
           {
            "marker": {
             "colorbar": {
              "outlinewidth": 0,
              "ticks": ""
             }
            },
            "type": "scatterpolargl"
           }
          ],
          "scatterternary": [
           {
            "marker": {
             "colorbar": {
              "outlinewidth": 0,
              "ticks": ""
             }
            },
            "type": "scatterternary"
           }
          ],
          "surface": [
           {
            "colorbar": {
             "outlinewidth": 0,
             "ticks": ""
            },
            "colorscale": [
             [
              0,
              "#0d0887"
             ],
             [
              0.1111111111111111,
              "#46039f"
             ],
             [
              0.2222222222222222,
              "#7201a8"
             ],
             [
              0.3333333333333333,
              "#9c179e"
             ],
             [
              0.4444444444444444,
              "#bd3786"
             ],
             [
              0.5555555555555556,
              "#d8576b"
             ],
             [
              0.6666666666666666,
              "#ed7953"
             ],
             [
              0.7777777777777778,
              "#fb9f3a"
             ],
             [
              0.8888888888888888,
              "#fdca26"
             ],
             [
              1,
              "#f0f921"
             ]
            ],
            "type": "surface"
           }
          ],
          "table": [
           {
            "cells": {
             "fill": {
              "color": "#EBF0F8"
             },
             "line": {
              "color": "white"
             }
            },
            "header": {
             "fill": {
              "color": "#C8D4E3"
             },
             "line": {
              "color": "white"
             }
            },
            "type": "table"
           }
          ]
         },
         "layout": {
          "annotationdefaults": {
           "arrowcolor": "#2a3f5f",
           "arrowhead": 0,
           "arrowwidth": 1
          },
          "autotypenumbers": "strict",
          "coloraxis": {
           "colorbar": {
            "outlinewidth": 0,
            "ticks": ""
           }
          },
          "colorscale": {
           "diverging": [
            [
             0,
             "#8e0152"
            ],
            [
             0.1,
             "#c51b7d"
            ],
            [
             0.2,
             "#de77ae"
            ],
            [
             0.3,
             "#f1b6da"
            ],
            [
             0.4,
             "#fde0ef"
            ],
            [
             0.5,
             "#f7f7f7"
            ],
            [
             0.6,
             "#e6f5d0"
            ],
            [
             0.7,
             "#b8e186"
            ],
            [
             0.8,
             "#7fbc41"
            ],
            [
             0.9,
             "#4d9221"
            ],
            [
             1,
             "#276419"
            ]
           ],
           "sequential": [
            [
             0,
             "#0d0887"
            ],
            [
             0.1111111111111111,
             "#46039f"
            ],
            [
             0.2222222222222222,
             "#7201a8"
            ],
            [
             0.3333333333333333,
             "#9c179e"
            ],
            [
             0.4444444444444444,
             "#bd3786"
            ],
            [
             0.5555555555555556,
             "#d8576b"
            ],
            [
             0.6666666666666666,
             "#ed7953"
            ],
            [
             0.7777777777777778,
             "#fb9f3a"
            ],
            [
             0.8888888888888888,
             "#fdca26"
            ],
            [
             1,
             "#f0f921"
            ]
           ],
           "sequentialminus": [
            [
             0,
             "#0d0887"
            ],
            [
             0.1111111111111111,
             "#46039f"
            ],
            [
             0.2222222222222222,
             "#7201a8"
            ],
            [
             0.3333333333333333,
             "#9c179e"
            ],
            [
             0.4444444444444444,
             "#bd3786"
            ],
            [
             0.5555555555555556,
             "#d8576b"
            ],
            [
             0.6666666666666666,
             "#ed7953"
            ],
            [
             0.7777777777777778,
             "#fb9f3a"
            ],
            [
             0.8888888888888888,
             "#fdca26"
            ],
            [
             1,
             "#f0f921"
            ]
           ]
          },
          "colorway": [
           "#636efa",
           "#EF553B",
           "#00cc96",
           "#ab63fa",
           "#FFA15A",
           "#19d3f3",
           "#FF6692",
           "#B6E880",
           "#FF97FF",
           "#FECB52"
          ],
          "font": {
           "color": "#2a3f5f"
          },
          "geo": {
           "bgcolor": "white",
           "lakecolor": "white",
           "landcolor": "#E5ECF6",
           "showlakes": true,
           "showland": true,
           "subunitcolor": "white"
          },
          "hoverlabel": {
           "align": "left"
          },
          "hovermode": "closest",
          "mapbox": {
           "style": "light"
          },
          "paper_bgcolor": "white",
          "plot_bgcolor": "#E5ECF6",
          "polar": {
           "angularaxis": {
            "gridcolor": "white",
            "linecolor": "white",
            "ticks": ""
           },
           "bgcolor": "#E5ECF6",
           "radialaxis": {
            "gridcolor": "white",
            "linecolor": "white",
            "ticks": ""
           }
          },
          "scene": {
           "xaxis": {
            "backgroundcolor": "#E5ECF6",
            "gridcolor": "white",
            "gridwidth": 2,
            "linecolor": "white",
            "showbackground": true,
            "ticks": "",
            "zerolinecolor": "white"
           },
           "yaxis": {
            "backgroundcolor": "#E5ECF6",
            "gridcolor": "white",
            "gridwidth": 2,
            "linecolor": "white",
            "showbackground": true,
            "ticks": "",
            "zerolinecolor": "white"
           },
           "zaxis": {
            "backgroundcolor": "#E5ECF6",
            "gridcolor": "white",
            "gridwidth": 2,
            "linecolor": "white",
            "showbackground": true,
            "ticks": "",
            "zerolinecolor": "white"
           }
          },
          "shapedefaults": {
           "line": {
            "color": "#2a3f5f"
           }
          },
          "ternary": {
           "aaxis": {
            "gridcolor": "white",
            "linecolor": "white",
            "ticks": ""
           },
           "baxis": {
            "gridcolor": "white",
            "linecolor": "white",
            "ticks": ""
           },
           "bgcolor": "#E5ECF6",
           "caxis": {
            "gridcolor": "white",
            "linecolor": "white",
            "ticks": ""
           }
          },
          "title": {
           "x": 0.05
          },
          "xaxis": {
           "automargin": true,
           "gridcolor": "white",
           "linecolor": "white",
           "ticks": "",
           "title": {
            "standoff": 15
           },
           "zerolinecolor": "white",
           "zerolinewidth": 2
          },
          "yaxis": {
           "automargin": true,
           "gridcolor": "white",
           "linecolor": "white",
           "ticks": "",
           "title": {
            "standoff": 15
           },
           "zerolinecolor": "white",
           "zerolinewidth": 2
          }
         }
        },
        "title": {},
        "xaxis": {
         "anchor": "y",
         "domain": [
          0,
          1
         ],
         "gridcolor": "#609a92",
         "title": {
          "text": "Date"
         }
        },
        "yaxis": {
         "anchor": "x",
         "domain": [
          0,
          1
         ],
         "gridcolor": "#609a92",
         "title": {
          "text": "Valeur rééle - valeur prédite"
         }
        }
       }
      }
     },
     "metadata": {},
     "output_type": "display_data"
    }
   ],
   "source": [
    "fig = px.scatter(x=X_test[\"datetime\"], y=np.abs(y_test - y_pred), color=y_test - y_pred > 0)#, color=y_test) # df.loc[X_test.index][\"count\"]\n",
    "fig.update_layout(\n",
    "  yaxis_title=\"Valeur rééle - valeur prédite\", xaxis_title=\"Date\", title=None, paper_bgcolor='rgba(0,0,0,0)',\n",
    "  plot_bgcolor='rgba(0,0,0,0)', xaxis={\"gridcolor\": '#609a92'}, yaxis={\"gridcolor\": '#609a92'},\n",
    "  # coloraxis_colorbar_title=\"Vélo empruntés\")\n",
    "  legend_title_text=\"Prédiction trop basse\")\n",
    "fig.write_image(\"velos.png\", format=\"png\", height=720, width=1280)\n",
    "fig.show()"
   ]
  },
  {
   "cell_type": "code",
   "execution_count": null,
   "metadata": {},
   "outputs": [
    {
     "data": {
      "application/vnd.plotly.v1+json": {
       "config": {
        "plotlyServerURL": "https://plot.ly"
       },
       "data": [
        {
         "alignmentgroup": "True",
         "hovertemplate": "x=%{x}<br>y=%{y}<extra></extra>",
         "legendgroup": "",
         "marker": {
          "color": "#636efa"
         },
         "name": "",
         "notched": false,
         "offsetgroup": "",
         "orientation": "h",
         "showlegend": false,
         "type": "box",
         "x": [
          0.0006321608566776993,
          0.000977846738892152,
          0.007418048811824984,
          0.020107435996065216,
          0.05211255494431719,
          0.06886036278550892,
          0.07267228508836485,
          1.2877662431628192
         ],
         "x0": " ",
         "xaxis": "x",
         "y": [
          "windspeed",
          "holiday",
          "atemp",
          "weather",
          "humidity",
          "temp",
          "workingday",
          "datetime"
         ],
         "y0": " ",
         "yaxis": "y"
        }
       ],
       "layout": {
        "boxmode": "group",
        "legend": {
         "tracegroupgap": 0
        },
        "margin": {
         "t": 60
        },
        "paper_bgcolor": "rgba(0,0,0,0)",
        "plot_bgcolor": "rgba(0,0,0,0)",
        "template": {
         "data": {
          "bar": [
           {
            "error_x": {
             "color": "#2a3f5f"
            },
            "error_y": {
             "color": "#2a3f5f"
            },
            "marker": {
             "line": {
              "color": "#E5ECF6",
              "width": 0.5
             },
             "pattern": {
              "fillmode": "overlay",
              "size": 10,
              "solidity": 0.2
             }
            },
            "type": "bar"
           }
          ],
          "barpolar": [
           {
            "marker": {
             "line": {
              "color": "#E5ECF6",
              "width": 0.5
             },
             "pattern": {
              "fillmode": "overlay",
              "size": 10,
              "solidity": 0.2
             }
            },
            "type": "barpolar"
           }
          ],
          "carpet": [
           {
            "aaxis": {
             "endlinecolor": "#2a3f5f",
             "gridcolor": "white",
             "linecolor": "white",
             "minorgridcolor": "white",
             "startlinecolor": "#2a3f5f"
            },
            "baxis": {
             "endlinecolor": "#2a3f5f",
             "gridcolor": "white",
             "linecolor": "white",
             "minorgridcolor": "white",
             "startlinecolor": "#2a3f5f"
            },
            "type": "carpet"
           }
          ],
          "choropleth": [
           {
            "colorbar": {
             "outlinewidth": 0,
             "ticks": ""
            },
            "type": "choropleth"
           }
          ],
          "contour": [
           {
            "colorbar": {
             "outlinewidth": 0,
             "ticks": ""
            },
            "colorscale": [
             [
              0,
              "#0d0887"
             ],
             [
              0.1111111111111111,
              "#46039f"
             ],
             [
              0.2222222222222222,
              "#7201a8"
             ],
             [
              0.3333333333333333,
              "#9c179e"
             ],
             [
              0.4444444444444444,
              "#bd3786"
             ],
             [
              0.5555555555555556,
              "#d8576b"
             ],
             [
              0.6666666666666666,
              "#ed7953"
             ],
             [
              0.7777777777777778,
              "#fb9f3a"
             ],
             [
              0.8888888888888888,
              "#fdca26"
             ],
             [
              1,
              "#f0f921"
             ]
            ],
            "type": "contour"
           }
          ],
          "contourcarpet": [
           {
            "colorbar": {
             "outlinewidth": 0,
             "ticks": ""
            },
            "type": "contourcarpet"
           }
          ],
          "heatmap": [
           {
            "colorbar": {
             "outlinewidth": 0,
             "ticks": ""
            },
            "colorscale": [
             [
              0,
              "#0d0887"
             ],
             [
              0.1111111111111111,
              "#46039f"
             ],
             [
              0.2222222222222222,
              "#7201a8"
             ],
             [
              0.3333333333333333,
              "#9c179e"
             ],
             [
              0.4444444444444444,
              "#bd3786"
             ],
             [
              0.5555555555555556,
              "#d8576b"
             ],
             [
              0.6666666666666666,
              "#ed7953"
             ],
             [
              0.7777777777777778,
              "#fb9f3a"
             ],
             [
              0.8888888888888888,
              "#fdca26"
             ],
             [
              1,
              "#f0f921"
             ]
            ],
            "type": "heatmap"
           }
          ],
          "heatmapgl": [
           {
            "colorbar": {
             "outlinewidth": 0,
             "ticks": ""
            },
            "colorscale": [
             [
              0,
              "#0d0887"
             ],
             [
              0.1111111111111111,
              "#46039f"
             ],
             [
              0.2222222222222222,
              "#7201a8"
             ],
             [
              0.3333333333333333,
              "#9c179e"
             ],
             [
              0.4444444444444444,
              "#bd3786"
             ],
             [
              0.5555555555555556,
              "#d8576b"
             ],
             [
              0.6666666666666666,
              "#ed7953"
             ],
             [
              0.7777777777777778,
              "#fb9f3a"
             ],
             [
              0.8888888888888888,
              "#fdca26"
             ],
             [
              1,
              "#f0f921"
             ]
            ],
            "type": "heatmapgl"
           }
          ],
          "histogram": [
           {
            "marker": {
             "pattern": {
              "fillmode": "overlay",
              "size": 10,
              "solidity": 0.2
             }
            },
            "type": "histogram"
           }
          ],
          "histogram2d": [
           {
            "colorbar": {
             "outlinewidth": 0,
             "ticks": ""
            },
            "colorscale": [
             [
              0,
              "#0d0887"
             ],
             [
              0.1111111111111111,
              "#46039f"
             ],
             [
              0.2222222222222222,
              "#7201a8"
             ],
             [
              0.3333333333333333,
              "#9c179e"
             ],
             [
              0.4444444444444444,
              "#bd3786"
             ],
             [
              0.5555555555555556,
              "#d8576b"
             ],
             [
              0.6666666666666666,
              "#ed7953"
             ],
             [
              0.7777777777777778,
              "#fb9f3a"
             ],
             [
              0.8888888888888888,
              "#fdca26"
             ],
             [
              1,
              "#f0f921"
             ]
            ],
            "type": "histogram2d"
           }
          ],
          "histogram2dcontour": [
           {
            "colorbar": {
             "outlinewidth": 0,
             "ticks": ""
            },
            "colorscale": [
             [
              0,
              "#0d0887"
             ],
             [
              0.1111111111111111,
              "#46039f"
             ],
             [
              0.2222222222222222,
              "#7201a8"
             ],
             [
              0.3333333333333333,
              "#9c179e"
             ],
             [
              0.4444444444444444,
              "#bd3786"
             ],
             [
              0.5555555555555556,
              "#d8576b"
             ],
             [
              0.6666666666666666,
              "#ed7953"
             ],
             [
              0.7777777777777778,
              "#fb9f3a"
             ],
             [
              0.8888888888888888,
              "#fdca26"
             ],
             [
              1,
              "#f0f921"
             ]
            ],
            "type": "histogram2dcontour"
           }
          ],
          "mesh3d": [
           {
            "colorbar": {
             "outlinewidth": 0,
             "ticks": ""
            },
            "type": "mesh3d"
           }
          ],
          "parcoords": [
           {
            "line": {
             "colorbar": {
              "outlinewidth": 0,
              "ticks": ""
             }
            },
            "type": "parcoords"
           }
          ],
          "pie": [
           {
            "automargin": true,
            "type": "pie"
           }
          ],
          "scatter": [
           {
            "marker": {
             "colorbar": {
              "outlinewidth": 0,
              "ticks": ""
             }
            },
            "type": "scatter"
           }
          ],
          "scatter3d": [
           {
            "line": {
             "colorbar": {
              "outlinewidth": 0,
              "ticks": ""
             }
            },
            "marker": {
             "colorbar": {
              "outlinewidth": 0,
              "ticks": ""
             }
            },
            "type": "scatter3d"
           }
          ],
          "scattercarpet": [
           {
            "marker": {
             "colorbar": {
              "outlinewidth": 0,
              "ticks": ""
             }
            },
            "type": "scattercarpet"
           }
          ],
          "scattergeo": [
           {
            "marker": {
             "colorbar": {
              "outlinewidth": 0,
              "ticks": ""
             }
            },
            "type": "scattergeo"
           }
          ],
          "scattergl": [
           {
            "marker": {
             "colorbar": {
              "outlinewidth": 0,
              "ticks": ""
             }
            },
            "type": "scattergl"
           }
          ],
          "scattermapbox": [
           {
            "marker": {
             "colorbar": {
              "outlinewidth": 0,
              "ticks": ""
             }
            },
            "type": "scattermapbox"
           }
          ],
          "scatterpolar": [
           {
            "marker": {
             "colorbar": {
              "outlinewidth": 0,
              "ticks": ""
             }
            },
            "type": "scatterpolar"
           }
          ],
          "scatterpolargl": [
           {
            "marker": {
             "colorbar": {
              "outlinewidth": 0,
              "ticks": ""
             }
            },
            "type": "scatterpolargl"
           }
          ],
          "scatterternary": [
           {
            "marker": {
             "colorbar": {
              "outlinewidth": 0,
              "ticks": ""
             }
            },
            "type": "scatterternary"
           }
          ],
          "surface": [
           {
            "colorbar": {
             "outlinewidth": 0,
             "ticks": ""
            },
            "colorscale": [
             [
              0,
              "#0d0887"
             ],
             [
              0.1111111111111111,
              "#46039f"
             ],
             [
              0.2222222222222222,
              "#7201a8"
             ],
             [
              0.3333333333333333,
              "#9c179e"
             ],
             [
              0.4444444444444444,
              "#bd3786"
             ],
             [
              0.5555555555555556,
              "#d8576b"
             ],
             [
              0.6666666666666666,
              "#ed7953"
             ],
             [
              0.7777777777777778,
              "#fb9f3a"
             ],
             [
              0.8888888888888888,
              "#fdca26"
             ],
             [
              1,
              "#f0f921"
             ]
            ],
            "type": "surface"
           }
          ],
          "table": [
           {
            "cells": {
             "fill": {
              "color": "#EBF0F8"
             },
             "line": {
              "color": "white"
             }
            },
            "header": {
             "fill": {
              "color": "#C8D4E3"
             },
             "line": {
              "color": "white"
             }
            },
            "type": "table"
           }
          ]
         },
         "layout": {
          "annotationdefaults": {
           "arrowcolor": "#2a3f5f",
           "arrowhead": 0,
           "arrowwidth": 1
          },
          "autotypenumbers": "strict",
          "coloraxis": {
           "colorbar": {
            "outlinewidth": 0,
            "ticks": ""
           }
          },
          "colorscale": {
           "diverging": [
            [
             0,
             "#8e0152"
            ],
            [
             0.1,
             "#c51b7d"
            ],
            [
             0.2,
             "#de77ae"
            ],
            [
             0.3,
             "#f1b6da"
            ],
            [
             0.4,
             "#fde0ef"
            ],
            [
             0.5,
             "#f7f7f7"
            ],
            [
             0.6,
             "#e6f5d0"
            ],
            [
             0.7,
             "#b8e186"
            ],
            [
             0.8,
             "#7fbc41"
            ],
            [
             0.9,
             "#4d9221"
            ],
            [
             1,
             "#276419"
            ]
           ],
           "sequential": [
            [
             0,
             "#0d0887"
            ],
            [
             0.1111111111111111,
             "#46039f"
            ],
            [
             0.2222222222222222,
             "#7201a8"
            ],
            [
             0.3333333333333333,
             "#9c179e"
            ],
            [
             0.4444444444444444,
             "#bd3786"
            ],
            [
             0.5555555555555556,
             "#d8576b"
            ],
            [
             0.6666666666666666,
             "#ed7953"
            ],
            [
             0.7777777777777778,
             "#fb9f3a"
            ],
            [
             0.8888888888888888,
             "#fdca26"
            ],
            [
             1,
             "#f0f921"
            ]
           ],
           "sequentialminus": [
            [
             0,
             "#0d0887"
            ],
            [
             0.1111111111111111,
             "#46039f"
            ],
            [
             0.2222222222222222,
             "#7201a8"
            ],
            [
             0.3333333333333333,
             "#9c179e"
            ],
            [
             0.4444444444444444,
             "#bd3786"
            ],
            [
             0.5555555555555556,
             "#d8576b"
            ],
            [
             0.6666666666666666,
             "#ed7953"
            ],
            [
             0.7777777777777778,
             "#fb9f3a"
            ],
            [
             0.8888888888888888,
             "#fdca26"
            ],
            [
             1,
             "#f0f921"
            ]
           ]
          },
          "colorway": [
           "#636efa",
           "#EF553B",
           "#00cc96",
           "#ab63fa",
           "#FFA15A",
           "#19d3f3",
           "#FF6692",
           "#B6E880",
           "#FF97FF",
           "#FECB52"
          ],
          "font": {
           "color": "#2a3f5f"
          },
          "geo": {
           "bgcolor": "white",
           "lakecolor": "white",
           "landcolor": "#E5ECF6",
           "showlakes": true,
           "showland": true,
           "subunitcolor": "white"
          },
          "hoverlabel": {
           "align": "left"
          },
          "hovermode": "closest",
          "mapbox": {
           "style": "light"
          },
          "paper_bgcolor": "white",
          "plot_bgcolor": "#E5ECF6",
          "polar": {
           "angularaxis": {
            "gridcolor": "white",
            "linecolor": "white",
            "ticks": ""
           },
           "bgcolor": "#E5ECF6",
           "radialaxis": {
            "gridcolor": "white",
            "linecolor": "white",
            "ticks": ""
           }
          },
          "scene": {
           "xaxis": {
            "backgroundcolor": "#E5ECF6",
            "gridcolor": "white",
            "gridwidth": 2,
            "linecolor": "white",
            "showbackground": true,
            "ticks": "",
            "zerolinecolor": "white"
           },
           "yaxis": {
            "backgroundcolor": "#E5ECF6",
            "gridcolor": "white",
            "gridwidth": 2,
            "linecolor": "white",
            "showbackground": true,
            "ticks": "",
            "zerolinecolor": "white"
           },
           "zaxis": {
            "backgroundcolor": "#E5ECF6",
            "gridcolor": "white",
            "gridwidth": 2,
            "linecolor": "white",
            "showbackground": true,
            "ticks": "",
            "zerolinecolor": "white"
           }
          },
          "shapedefaults": {
           "line": {
            "color": "#2a3f5f"
           }
          },
          "ternary": {
           "aaxis": {
            "gridcolor": "white",
            "linecolor": "white",
            "ticks": ""
           },
           "baxis": {
            "gridcolor": "white",
            "linecolor": "white",
            "ticks": ""
           },
           "bgcolor": "#E5ECF6",
           "caxis": {
            "gridcolor": "white",
            "linecolor": "white",
            "ticks": ""
           }
          },
          "title": {
           "x": 0.05
          },
          "xaxis": {
           "automargin": true,
           "gridcolor": "white",
           "linecolor": "white",
           "ticks": "",
           "title": {
            "standoff": 15
           },
           "zerolinecolor": "white",
           "zerolinewidth": 2
          },
          "yaxis": {
           "automargin": true,
           "gridcolor": "white",
           "linecolor": "white",
           "ticks": "",
           "title": {
            "standoff": 15
           },
           "zerolinecolor": "white",
           "zerolinewidth": 2
          }
         }
        },
        "title": {},
        "xaxis": {
         "anchor": "y",
         "domain": [
          0,
          1
         ],
         "gridcolor": "#609a92",
         "title": {}
        },
        "yaxis": {
         "anchor": "x",
         "domain": [
          0,
          1
         ],
         "title": {}
        }
       }
      }
     },
     "metadata": {},
     "output_type": "display_data"
    }
   ],
   "source": [
    "fig = px.box(x=result.importances_mean[sorted_idx].T, y=X_test.columns[sorted_idx])\n",
    "fig.update_layout(xaxis_title=None, yaxis_title=None, title=None, paper_bgcolor='rgba(0,0,0,0)', plot_bgcolor='rgba(0,0,0,0)', xaxis={\"gridcolor\": '#609a92'})\n",
    "fig.show()\n",
    "# fig.write_image(\"oui.png\", format=\"png\", scale=2)"
   ]
  },
  {
   "cell_type": "code",
   "execution_count": null,
   "metadata": {},
   "outputs": [
    {
     "ename": "RuntimeError",
     "evalue": "No active exception to reraise",
     "output_type": "error",
     "traceback": [
      "\u001b[0;31m---------------------------------------------------------------------------\u001b[0m",
      "\u001b[0;31mRuntimeError\u001b[0m                              Traceback (most recent call last)",
      "\u001b[1;32m/Users/rom1/Documents/VSCode/cours/vlille-reg/model.ipynb Cell 30'\u001b[0m in \u001b[0;36m<module>\u001b[0;34m\u001b[0m\n\u001b[0;32m----> <a href='vscode-notebook-cell:/Users/rom1/Documents/VSCode/cours/vlille-reg/model.ipynb#ch0000029?line=0'>1</a>\u001b[0m \u001b[39mraise\u001b[39;00m\n",
      "\u001b[0;31mRuntimeError\u001b[0m: No active exception to reraise"
     ]
    }
   ],
   "source": [
    "raise"
   ]
  },
  {
   "cell_type": "code",
   "execution_count": null,
   "metadata": {},
   "outputs": [
    {
     "name": "stdout",
     "output_type": "stream",
     "text": [
      "(1823,) (0,)\n"
     ]
    }
   ],
   "source": [
    "print(y_pred.shape, y_pred[y_pred < 0].shape)"
   ]
  },
  {
   "cell_type": "markdown",
   "metadata": {},
   "source": [
    "## Save as pickle file"
   ]
  },
  {
   "cell_type": "code",
   "execution_count": null,
   "metadata": {},
   "outputs": [],
   "source": [
    "pickle.dump(model, open(\"data/lightgbm.pkl\", \"wb\"))"
   ]
  },
  {
   "cell_type": "markdown",
   "metadata": {},
   "source": [
    "# Double Model "
   ]
  },
  {
   "cell_type": "markdown",
   "metadata": {},
   "source": [
    "## Registered model"
   ]
  },
  {
   "cell_type": "code",
   "execution_count": null,
   "metadata": {},
   "outputs": [],
   "source": [
    "X = df.drop([\"casual\", \"season\", \"holiday\", \"workingday\", \"count\"], axis=1)\n",
    "\n",
    "X_train = X[~date_mask].drop([\"registered\"], axis=1)\n",
    "y_train = X[~date_mask][\"registered\"]\n",
    "\n",
    "X_test = X[date_mask].drop([\"registered\"], axis=1)\n",
    "y_test = X[date_mask][\"registered\"]"
   ]
  },
  {
   "cell_type": "code",
   "execution_count": null,
   "metadata": {},
   "outputs": [
    {
     "data": {
      "text/plain": [
       "Pipeline(steps=[('preprocessor',\n",
       "                 ColumnTransformer(remainder='passthrough',\n",
       "                                   transformers=[('dateparser', DateParser(),\n",
       "                                                  ['datetime'])])),\n",
       "                ('model', LGBMRegressor())])"
      ]
     },
     "execution_count": 127,
     "metadata": {},
     "output_type": "execute_result"
    }
   ],
   "source": [
    "model_re = Pipeline([(\"preprocessor\", preprocessor), (\"model\", LGBMRegressor())])\n",
    "model_re.fit(X_train, y_train)"
   ]
  },
  {
   "cell_type": "code",
   "execution_count": null,
   "metadata": {},
   "outputs": [
    {
     "name": "stdout",
     "output_type": "stream",
     "text": [
      "MAE: 40.913355042278546\n",
      "RMSE: 62.54841451417858\n",
      "R2: 0.8865507044100843\n"
     ]
    }
   ],
   "source": [
    "y_pred = model_re.predict(X_test)\n",
    "mae, rmse, r2 = eval_metrics(y_test, y_pred)\n",
    "print(f\"MAE: {mae}\\nRMSE: {rmse}\\nR2: {r2}\")"
   ]
  },
  {
   "cell_type": "markdown",
   "metadata": {},
   "source": [
    "## Casual model"
   ]
  },
  {
   "cell_type": "code",
   "execution_count": null,
   "metadata": {},
   "outputs": [],
   "source": [
    "X = df.drop([\"registered\", \"season\", \"holiday\", \"workingday\", \"count\"], axis=1)\n",
    "\n",
    "X_train = X[~date_mask].drop([\"casual\"], axis=1)\n",
    "y_train = X[~date_mask][\"casual\"]\n",
    "\n",
    "X_test = X[date_mask].drop([\"casual\"], axis=1)\n",
    "y_test = X[date_mask][\"casual\"]"
   ]
  },
  {
   "cell_type": "code",
   "execution_count": null,
   "metadata": {},
   "outputs": [
    {
     "data": {
      "text/plain": [
       "Pipeline(steps=[('preprocessor',\n",
       "                 ColumnTransformer(remainder='passthrough',\n",
       "                                   transformers=[('dateparser', DateParser(),\n",
       "                                                  ['datetime'])])),\n",
       "                ('model', LGBMRegressor())])"
      ]
     },
     "execution_count": 130,
     "metadata": {},
     "output_type": "execute_result"
    }
   ],
   "source": [
    "model_ca = Pipeline([(\"preprocessor\", preprocessor), (\"model\", LGBMRegressor())])\n",
    "model_ca.fit(X_train, y_train)"
   ]
  },
  {
   "cell_type": "code",
   "execution_count": null,
   "metadata": {},
   "outputs": [
    {
     "name": "stdout",
     "output_type": "stream",
     "text": [
      "MAE: 11.89284631614057\n",
      "RMSE: 20.410499100928064\n",
      "R2: 0.8616637994138227\n"
     ]
    }
   ],
   "source": [
    "y_pred = model_ca.predict(X_test)\n",
    "mae, rmse, r2 = eval_metrics(y_test, y_pred)\n",
    "print(f\"MAE: {mae}\\nRMSE: {rmse}\\nR2: {r2}\")"
   ]
  },
  {
   "cell_type": "markdown",
   "metadata": {},
   "source": [
    "## Combining both"
   ]
  },
  {
   "cell_type": "code",
   "execution_count": null,
   "metadata": {},
   "outputs": [
    {
     "ename": "RuntimeError",
     "evalue": "No active exception to reraise",
     "output_type": "error",
     "traceback": [
      "\u001b[0;31m---------------------------------------------------------------------------\u001b[0m",
      "\u001b[0;31mRuntimeError\u001b[0m                              Traceback (most recent call last)",
      "\u001b[1;32m/Users/rom1/Documents/VSCode/cours/vlille-reg/model.ipynb Cell 34'\u001b[0m in \u001b[0;36m<module>\u001b[0;34m\u001b[0m\n\u001b[0;32m----> <a href='vscode-notebook-cell:/Users/rom1/Documents/VSCode/cours/vlille-reg/model.ipynb#ch0000035?line=0'>1</a>\u001b[0m \u001b[39mraise\u001b[39;00m\n\u001b[1;32m      <a href='vscode-notebook-cell:/Users/rom1/Documents/VSCode/cours/vlille-reg/model.ipynb#ch0000035?line=1'>2</a>\u001b[0m y_pred \u001b[39m=\u001b[39m clf\u001b[39m.\u001b[39mpredict(X_test)\n\u001b[1;32m      <a href='vscode-notebook-cell:/Users/rom1/Documents/VSCode/cours/vlille-reg/model.ipynb#ch0000035?line=2'>3</a>\u001b[0m mae, rmse, r2 \u001b[39m=\u001b[39m eval_metrics(y_test, y_pred)\n",
      "\u001b[0;31mRuntimeError\u001b[0m: No active exception to reraise"
     ]
    }
   ],
   "source": [
    "raise\n",
    "y_pred = clf.predict(X_test)\n",
    "mae, rmse, r2 = eval_metrics(y_test, y_pred)\n",
    "print(f\"MAE: {mae}\\nRMSE: {rmse}\\nR2: {r2}\")"
   ]
  },
  {
   "cell_type": "code",
   "execution_count": null,
   "metadata": {},
   "outputs": [
    {
     "name": "stdout",
     "output_type": "stream",
     "text": [
      "(1823,) (29,)\n"
     ]
    }
   ],
   "source": [
    "print(y_pred.shape, y_pred[y_pred < 0].shape)"
   ]
  },
  {
   "cell_type": "code",
   "execution_count": null,
   "metadata": {},
   "outputs": [],
   "source": []
  }
 ],
 "metadata": {
  "interpreter": {
   "hash": "b4f38127354bbbf11134e8c14cc17daac7b35e8faaf836cc12d7980bb5480b10"
  },
  "kernelspec": {
   "display_name": "Python 3.10.0 ('datascience')",
   "language": "python",
   "name": "python3"
  },
  "language_info": {
   "codemirror_mode": {
    "name": "ipython",
    "version": 3
   },
   "file_extension": ".py",
   "mimetype": "text/x-python",
   "name": "python",
   "nbconvert_exporter": "python",
   "pygments_lexer": "ipython3",
   "version": "3.10.0"
  },
  "orig_nbformat": 4
 },
 "nbformat": 4,
 "nbformat_minor": 2
}
