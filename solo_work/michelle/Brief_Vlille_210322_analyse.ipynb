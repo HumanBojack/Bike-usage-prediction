{
 "cells": [
  {
   "cell_type": "markdown",
   "id": "a806aaac-143c-43d5-b7b2-813fd8b365c3",
   "metadata": {},
   "source": [
    "![vlille](img/vlille.png \"vlille\")"
   ]
  },
  {
   "cell_type": "markdown",
   "id": "ea8171dc-7dc8-4376-916f-98aad9a01163",
   "metadata": {},
   "source": [
    "Contexte du projet\n",
    "\n",
    "VéLille est une société de bicyclettes en libre service dans la région lilloise\n",
    "\n",
    "La société lance un appel d'offres afin de développer un outil de prédiction du nombre d’utilisateurs de ses vélos en fonction des données météorologiques.\n",
    "\n",
    "Data scientist dans l’entreprise SimplonIA, vous êtes chargé de répondre à cet appel d’offre en développant un outil pour effectuer des prédictions\n",
    "\n",
    "Vous devrez donc entraîner un algorithme de machine learning qui pourra permettre de prédire avec un taux d’erreur minimale le nombre d’utilisateurs par jour. Une fois que vous aurez atteint un taux de précision acceptable vous devrez déployer une application afin d’effectuer des prédictions en fonction de différentes variables.\n",
    "\n",
    "Attention au feature engineering, les modifications que vous effectuerez sur le jeu de données d’entraînement (création de nouvelles variables, réduction de dimensions) devront être effectuées également lors de la prédiction.\n",
    "\n",
    "Les outils:\n",
    "\n",
    "- Utiliser Streamlit ou flask pour développer l’application. (un modèle de streamlit est fourni en lien, il peut être pris ainsi ou amélioré)\n",
    "- Créer un pickle et s’en servir dans une application\n",
    "- Vous avez la possibilité d’utiliser l’algorithme de régression de votre choix (vous pouvez éventuellement vous servir de pycaret pour explorer les pistes les plus prometteuses).\n",
    "- Déployer votre application avec heroku\n",
    "- Collaborer avec github (pensez à utiliser un workflow adapté, comme des branchs basé sur des features) et MLFlow pour tracker la performance de vos algorithmes\n",
    "- Indications pour les tâches de machine learning:\n",
    "\n",
    "- Vous devez prédire la variable \"count\" du jeu de \"train\" de Kaggle.\n",
    "- Vous diviserez ce jeu train en deux. Les données de janvier 2011 à aout 2012 vous servirons de base d'entrainement quand les données de septembre 2012 à décembre 2012 constituerons votre base de test.\n",
    "- Vous choisirez la métrique de régression qui vous semble la plus pertinente d'utilisation.\n",
    "- Le loueur veut faire un forfait en fonction de la météo pour encourager à faire du vélo quand la météo est moins bonne. Il voudrait savoir combien de forfaits faudrait-il proposer? Réaliser un clustering pour répondre à sa question.\n",
    "\n",
    "Bonus\n",
    "\n",
    "- utiliser MLflow déployé sur Azure pour suivre les performances\n",
    "- Plutôt que d’utiliser un pickle, déployer votre modèle sous forme API (mlflow, pycaret ou autre) et appelez là dans votre application."
   ]
  },
  {
   "cell_type": "markdown",
   "id": "a24d2083-798e-4d0b-8c93-8b13cbe826fe",
   "metadata": {},
   "source": [
    "Développer un outil pour effectuer des prédictions en collab sur github\n",
    "⇒ Objectifs : \n",
    "- 1/ Data analyse (nettoyage et analyse univariée et bivariée)\n",
    "- 2/ Division de ‘train’ ⇒ Entrainement : 01/2011 à 08/2012    Test : 09/2012 à 12/2012 \n",
    "- 3/ Choix de la metrique de regression\n",
    "- 4/ Utilisation de pycaret avant ou apres?\n",
    "- 5/ Choix des feature engeneering (creation de nouvelles variables, reduction de dimensions)\n",
    "- 6/ Entrainement du model \n",
    "- 7/ Predire la variable count du jeu de train.csv\n",
    "- 8/ Mettre les differentes versions en commun\n",
    "- 9/ Création d’un pickle\n",
    "- 10/ Developper l’application via Streamlit\n",
    "- 11/ Déployer l’ application avec heroku\n",
    "- 12/ Réaliser un clustering pour répondre à la question combien de forfaits faudrait-il proposer?(Le loueur veut faire un forfait en fonction de la météo pour encourager à faire du vélo quand la météo est moins bonne.)\n",
    "\n",
    "Si le temps nous le permet ⇒\n",
    "\n",
    "- 13/ Bonus ⇒  Déployer le modèle sous forme API (mlflow, pycaret ou autre) et appelez là dans l’application\n",
    "- 14/ Bonus ⇒ Développer l’application via flask/ django\n",
    "- 15/ Bonus ⇒ Déployer l’ application avec heroku"
   ]
  },
  {
   "cell_type": "code",
   "execution_count": 82,
   "id": "32e9c6b3-26b7-4ddd-bf60-8c5d050e8aa0",
   "metadata": {},
   "outputs": [],
   "source": [
    "import pandas as pd\n"
   ]
  },
  {
   "cell_type": "code",
   "execution_count": 83,
   "id": "4d8047d6-452f-4d2a-a2b4-7c758ce6d814",
   "metadata": {},
   "outputs": [],
   "source": [
    "df = pd.read_csv(\"/home/michelle/Documents/DEV_IA/Projet/Brief_machine_learning_Vlille_210322/data/train.csv\")"
   ]
  },
  {
   "cell_type": "code",
   "execution_count": 84,
   "id": "2dc7b8cb-7549-41ab-9c34-14285a6922c2",
   "metadata": {},
   "outputs": [
    {
     "data": {
      "text/html": [
       "<div>\n",
       "<style scoped>\n",
       "    .dataframe tbody tr th:only-of-type {\n",
       "        vertical-align: middle;\n",
       "    }\n",
       "\n",
       "    .dataframe tbody tr th {\n",
       "        vertical-align: top;\n",
       "    }\n",
       "\n",
       "    .dataframe thead th {\n",
       "        text-align: right;\n",
       "    }\n",
       "</style>\n",
       "<table border=\"1\" class=\"dataframe\">\n",
       "  <thead>\n",
       "    <tr style=\"text-align: right;\">\n",
       "      <th></th>\n",
       "      <th>datetime</th>\n",
       "      <th>season</th>\n",
       "      <th>holiday</th>\n",
       "      <th>workingday</th>\n",
       "      <th>weather</th>\n",
       "      <th>temp</th>\n",
       "      <th>atemp</th>\n",
       "      <th>humidity</th>\n",
       "      <th>windspeed</th>\n",
       "      <th>casual</th>\n",
       "      <th>registered</th>\n",
       "      <th>count</th>\n",
       "    </tr>\n",
       "  </thead>\n",
       "  <tbody>\n",
       "    <tr>\n",
       "      <th>1681</th>\n",
       "      <td>2011-04-15 23:00:00</td>\n",
       "      <td>2</td>\n",
       "      <td>1</td>\n",
       "      <td>0</td>\n",
       "      <td>2</td>\n",
       "      <td>14.76</td>\n",
       "      <td>17.425</td>\n",
       "      <td>81</td>\n",
       "      <td>12.9980</td>\n",
       "      <td>8</td>\n",
       "      <td>56</td>\n",
       "      <td>64</td>\n",
       "    </tr>\n",
       "    <tr>\n",
       "      <th>1518</th>\n",
       "      <td>2011-04-09 03:00:00</td>\n",
       "      <td>2</td>\n",
       "      <td>0</td>\n",
       "      <td>0</td>\n",
       "      <td>3</td>\n",
       "      <td>12.30</td>\n",
       "      <td>14.395</td>\n",
       "      <td>100</td>\n",
       "      <td>16.9979</td>\n",
       "      <td>3</td>\n",
       "      <td>11</td>\n",
       "      <td>14</td>\n",
       "    </tr>\n",
       "    <tr>\n",
       "      <th>8956</th>\n",
       "      <td>2012-08-15 13:00:00</td>\n",
       "      <td>3</td>\n",
       "      <td>0</td>\n",
       "      <td>1</td>\n",
       "      <td>2</td>\n",
       "      <td>31.98</td>\n",
       "      <td>35.605</td>\n",
       "      <td>49</td>\n",
       "      <td>12.9980</td>\n",
       "      <td>88</td>\n",
       "      <td>206</td>\n",
       "      <td>294</td>\n",
       "    </tr>\n",
       "    <tr>\n",
       "      <th>5894</th>\n",
       "      <td>2012-02-01 19:00:00</td>\n",
       "      <td>1</td>\n",
       "      <td>0</td>\n",
       "      <td>1</td>\n",
       "      <td>1</td>\n",
       "      <td>22.14</td>\n",
       "      <td>25.760</td>\n",
       "      <td>52</td>\n",
       "      <td>19.0012</td>\n",
       "      <td>20</td>\n",
       "      <td>315</td>\n",
       "      <td>335</td>\n",
       "    </tr>\n",
       "    <tr>\n",
       "      <th>1073</th>\n",
       "      <td>2011-03-09 06:00:00</td>\n",
       "      <td>1</td>\n",
       "      <td>0</td>\n",
       "      <td>1</td>\n",
       "      <td>2</td>\n",
       "      <td>9.84</td>\n",
       "      <td>12.880</td>\n",
       "      <td>85</td>\n",
       "      <td>7.0015</td>\n",
       "      <td>5</td>\n",
       "      <td>44</td>\n",
       "      <td>49</td>\n",
       "    </tr>\n",
       "  </tbody>\n",
       "</table>\n",
       "</div>"
      ],
      "text/plain": [
       "                 datetime  season  holiday  workingday  weather   temp  \\\n",
       "1681  2011-04-15 23:00:00       2        1           0        2  14.76   \n",
       "1518  2011-04-09 03:00:00       2        0           0        3  12.30   \n",
       "8956  2012-08-15 13:00:00       3        0           1        2  31.98   \n",
       "5894  2012-02-01 19:00:00       1        0           1        1  22.14   \n",
       "1073  2011-03-09 06:00:00       1        0           1        2   9.84   \n",
       "\n",
       "       atemp  humidity  windspeed  casual  registered  count  \n",
       "1681  17.425        81    12.9980       8          56     64  \n",
       "1518  14.395       100    16.9979       3          11     14  \n",
       "8956  35.605        49    12.9980      88         206    294  \n",
       "5894  25.760        52    19.0012      20         315    335  \n",
       "1073  12.880        85     7.0015       5          44     49  "
      ]
     },
     "execution_count": 84,
     "metadata": {},
     "output_type": "execute_result"
    }
   ],
   "source": [
    "df.sample(5)"
   ]
  },
  {
   "cell_type": "markdown",
   "id": "34b2ee04-9b8b-4e41-b8f2-1a3937345b56",
   "metadata": {},
   "source": [
    "# 1/ Data analyse \n",
    "- a/ Nettoyage \n",
    "- b/ Analyse univariée et bivariée"
   ]
  },
  {
   "cell_type": "code",
   "execution_count": null,
   "id": "05b363fb-dc33-4867-a0e0-06270db9b8b1",
   "metadata": {},
   "outputs": [],
   "source": []
  },
  {
   "cell_type": "code",
   "execution_count": 85,
   "id": "169d6a0a-1a3e-43fe-86e4-265d3436fe31",
   "metadata": {},
   "outputs": [
    {
     "name": "stdout",
     "output_type": "stream",
     "text": [
      "<class 'pandas.core.frame.DataFrame'>\n",
      "RangeIndex: 10886 entries, 0 to 10885\n",
      "Data columns (total 12 columns):\n",
      " #   Column      Non-Null Count  Dtype  \n",
      "---  ------      --------------  -----  \n",
      " 0   datetime    10886 non-null  object \n",
      " 1   season      10886 non-null  int64  \n",
      " 2   holiday     10886 non-null  int64  \n",
      " 3   workingday  10886 non-null  int64  \n",
      " 4   weather     10886 non-null  int64  \n",
      " 5   temp        10886 non-null  float64\n",
      " 6   atemp       10886 non-null  float64\n",
      " 7   humidity    10886 non-null  int64  \n",
      " 8   windspeed   10886 non-null  float64\n",
      " 9   casual      10886 non-null  int64  \n",
      " 10  registered  10886 non-null  int64  \n",
      " 11  count       10886 non-null  int64  \n",
      "dtypes: float64(3), int64(8), object(1)\n",
      "memory usage: 1020.7+ KB\n"
     ]
    }
   ],
   "source": [
    "df.info()"
   ]
  },
  {
   "cell_type": "markdown",
   "id": "7bf19e11-ad0f-495a-a48c-9b037b68d43f",
   "metadata": {},
   "source": [
    "## a/ Nettoyage"
   ]
  },
  {
   "cell_type": "code",
   "execution_count": 86,
   "id": "4e1fb662-5f99-44cb-88bd-7b0fb8f73d09",
   "metadata": {},
   "outputs": [],
   "source": [
    "# Traitement des types \n",
    "\n",
    "df[\"datetime\"]= df[\"datetime\"].astype(\"datetime64\")"
   ]
  },
  {
   "cell_type": "code",
   "execution_count": 87,
   "id": "f05c58f1-12ac-474f-928b-45f5a0e5d40c",
   "metadata": {},
   "outputs": [
    {
     "data": {
      "text/plain": [
       "datetime      0\n",
       "season        0\n",
       "holiday       0\n",
       "workingday    0\n",
       "weather       0\n",
       "temp          0\n",
       "atemp         0\n",
       "humidity      0\n",
       "windspeed     0\n",
       "casual        0\n",
       "registered    0\n",
       "count         0\n",
       "dtype: int64"
      ]
     },
     "execution_count": 87,
     "metadata": {},
     "output_type": "execute_result"
    }
   ],
   "source": [
    "# Traitement des valeurs nuls\n",
    "\n",
    "df.isna().sum()"
   ]
  },
  {
   "cell_type": "code",
   "execution_count": 88,
   "id": "f6980823-4168-4979-8c7c-b4f7088f8a8d",
   "metadata": {},
   "outputs": [
    {
     "name": "stdout",
     "output_type": "stream",
     "text": [
      "Valeurs manquantes par colonne:\n",
      "datetime      0\n",
      "season        0\n",
      "holiday       0\n",
      "workingday    0\n",
      "weather       0\n",
      "temp          0\n",
      "atemp         0\n",
      "humidity      0\n",
      "windspeed     0\n",
      "casual        0\n",
      "registered    0\n",
      "count         0\n",
      "dtype: int64\n",
      "\n",
      " Valeurs manquantes par ligne:\n",
      "0    0\n",
      "1    0\n",
      "2    0\n",
      "3    0\n",
      "4    0\n",
      "dtype: int64\n"
     ]
    }
   ],
   "source": [
    "# Fonction qui determine si la valeur en parametre est manquante\n",
    "\n",
    "def num_missing(x):\n",
    "    return sum(x.isnull())\n",
    "\n",
    "# Application sur chaque cols\n",
    "\n",
    "print(\"Valeurs manquantes par colonne:\")\n",
    "print(df.apply(num_missing, axis=0))\n",
    "\n",
    "# Application sur chaque rows\n",
    "\n",
    "print(\"\\n Valeurs manquantes par ligne:\")\n",
    "print(df.apply(num_missing, axis=1).head())"
   ]
  },
  {
   "cell_type": "code",
   "execution_count": 89,
   "id": "77c0a5b0-8f5f-44d1-bcb8-a84431c466be",
   "metadata": {},
   "outputs": [
    {
     "data": {
      "text/plain": [
       "0"
      ]
     },
     "execution_count": 89,
     "metadata": {},
     "output_type": "execute_result"
    }
   ],
   "source": [
    "# Traitements des duplicats\n",
    "\n",
    "df.duplicated().sum()"
   ]
  },
  {
   "cell_type": "code",
   "execution_count": 90,
   "id": "69f16821-4173-4e99-b53a-1d57b26cbc6c",
   "metadata": {},
   "outputs": [
    {
     "data": {
      "text/plain": [
       "0"
      ]
     },
     "execution_count": 90,
     "metadata": {},
     "output_type": "execute_result"
    }
   ],
   "source": [
    "df[\"datetime\"].duplicated().sum()"
   ]
  },
  {
   "cell_type": "markdown",
   "id": "9ce5eb45-42b9-4e8c-9cc8-7dd90214dbdd",
   "metadata": {},
   "source": [
    "## b/ Analyse univariée et bivariée\n",
    "\n",
    "- Analyse univariée"
   ]
  },
  {
   "cell_type": "code",
   "execution_count": 91,
   "id": "d6b9956e-1da0-4354-b6cf-c2bae4f3a45e",
   "metadata": {},
   "outputs": [
    {
     "data": {
      "text/html": [
       "<div>\n",
       "<style scoped>\n",
       "    .dataframe tbody tr th:only-of-type {\n",
       "        vertical-align: middle;\n",
       "    }\n",
       "\n",
       "    .dataframe tbody tr th {\n",
       "        vertical-align: top;\n",
       "    }\n",
       "\n",
       "    .dataframe thead th {\n",
       "        text-align: right;\n",
       "    }\n",
       "</style>\n",
       "<table border=\"1\" class=\"dataframe\">\n",
       "  <thead>\n",
       "    <tr style=\"text-align: right;\">\n",
       "      <th></th>\n",
       "      <th>season</th>\n",
       "      <th>holiday</th>\n",
       "      <th>workingday</th>\n",
       "      <th>weather</th>\n",
       "      <th>temp</th>\n",
       "      <th>atemp</th>\n",
       "      <th>humidity</th>\n",
       "      <th>windspeed</th>\n",
       "      <th>casual</th>\n",
       "      <th>registered</th>\n",
       "      <th>count</th>\n",
       "    </tr>\n",
       "  </thead>\n",
       "  <tbody>\n",
       "    <tr>\n",
       "      <th>count</th>\n",
       "      <td>10886.000000</td>\n",
       "      <td>10886.000000</td>\n",
       "      <td>10886.000000</td>\n",
       "      <td>10886.000000</td>\n",
       "      <td>10886.00000</td>\n",
       "      <td>10886.000000</td>\n",
       "      <td>10886.000000</td>\n",
       "      <td>10886.000000</td>\n",
       "      <td>10886.000000</td>\n",
       "      <td>10886.000000</td>\n",
       "      <td>10886.000000</td>\n",
       "    </tr>\n",
       "    <tr>\n",
       "      <th>mean</th>\n",
       "      <td>2.506614</td>\n",
       "      <td>0.028569</td>\n",
       "      <td>0.680875</td>\n",
       "      <td>1.418427</td>\n",
       "      <td>20.23086</td>\n",
       "      <td>23.655084</td>\n",
       "      <td>61.886460</td>\n",
       "      <td>12.799395</td>\n",
       "      <td>36.021955</td>\n",
       "      <td>155.552177</td>\n",
       "      <td>191.574132</td>\n",
       "    </tr>\n",
       "    <tr>\n",
       "      <th>std</th>\n",
       "      <td>1.116174</td>\n",
       "      <td>0.166599</td>\n",
       "      <td>0.466159</td>\n",
       "      <td>0.633839</td>\n",
       "      <td>7.79159</td>\n",
       "      <td>8.474601</td>\n",
       "      <td>19.245033</td>\n",
       "      <td>8.164537</td>\n",
       "      <td>49.960477</td>\n",
       "      <td>151.039033</td>\n",
       "      <td>181.144454</td>\n",
       "    </tr>\n",
       "    <tr>\n",
       "      <th>min</th>\n",
       "      <td>1.000000</td>\n",
       "      <td>0.000000</td>\n",
       "      <td>0.000000</td>\n",
       "      <td>1.000000</td>\n",
       "      <td>0.82000</td>\n",
       "      <td>0.760000</td>\n",
       "      <td>0.000000</td>\n",
       "      <td>0.000000</td>\n",
       "      <td>0.000000</td>\n",
       "      <td>0.000000</td>\n",
       "      <td>1.000000</td>\n",
       "    </tr>\n",
       "    <tr>\n",
       "      <th>25%</th>\n",
       "      <td>2.000000</td>\n",
       "      <td>0.000000</td>\n",
       "      <td>0.000000</td>\n",
       "      <td>1.000000</td>\n",
       "      <td>13.94000</td>\n",
       "      <td>16.665000</td>\n",
       "      <td>47.000000</td>\n",
       "      <td>7.001500</td>\n",
       "      <td>4.000000</td>\n",
       "      <td>36.000000</td>\n",
       "      <td>42.000000</td>\n",
       "    </tr>\n",
       "    <tr>\n",
       "      <th>50%</th>\n",
       "      <td>3.000000</td>\n",
       "      <td>0.000000</td>\n",
       "      <td>1.000000</td>\n",
       "      <td>1.000000</td>\n",
       "      <td>20.50000</td>\n",
       "      <td>24.240000</td>\n",
       "      <td>62.000000</td>\n",
       "      <td>12.998000</td>\n",
       "      <td>17.000000</td>\n",
       "      <td>118.000000</td>\n",
       "      <td>145.000000</td>\n",
       "    </tr>\n",
       "    <tr>\n",
       "      <th>75%</th>\n",
       "      <td>4.000000</td>\n",
       "      <td>0.000000</td>\n",
       "      <td>1.000000</td>\n",
       "      <td>2.000000</td>\n",
       "      <td>26.24000</td>\n",
       "      <td>31.060000</td>\n",
       "      <td>77.000000</td>\n",
       "      <td>16.997900</td>\n",
       "      <td>49.000000</td>\n",
       "      <td>222.000000</td>\n",
       "      <td>284.000000</td>\n",
       "    </tr>\n",
       "    <tr>\n",
       "      <th>max</th>\n",
       "      <td>4.000000</td>\n",
       "      <td>1.000000</td>\n",
       "      <td>1.000000</td>\n",
       "      <td>4.000000</td>\n",
       "      <td>41.00000</td>\n",
       "      <td>45.455000</td>\n",
       "      <td>100.000000</td>\n",
       "      <td>56.996900</td>\n",
       "      <td>367.000000</td>\n",
       "      <td>886.000000</td>\n",
       "      <td>977.000000</td>\n",
       "    </tr>\n",
       "  </tbody>\n",
       "</table>\n",
       "</div>"
      ],
      "text/plain": [
       "             season       holiday    workingday       weather         temp  \\\n",
       "count  10886.000000  10886.000000  10886.000000  10886.000000  10886.00000   \n",
       "mean       2.506614      0.028569      0.680875      1.418427     20.23086   \n",
       "std        1.116174      0.166599      0.466159      0.633839      7.79159   \n",
       "min        1.000000      0.000000      0.000000      1.000000      0.82000   \n",
       "25%        2.000000      0.000000      0.000000      1.000000     13.94000   \n",
       "50%        3.000000      0.000000      1.000000      1.000000     20.50000   \n",
       "75%        4.000000      0.000000      1.000000      2.000000     26.24000   \n",
       "max        4.000000      1.000000      1.000000      4.000000     41.00000   \n",
       "\n",
       "              atemp      humidity     windspeed        casual    registered  \\\n",
       "count  10886.000000  10886.000000  10886.000000  10886.000000  10886.000000   \n",
       "mean      23.655084     61.886460     12.799395     36.021955    155.552177   \n",
       "std        8.474601     19.245033      8.164537     49.960477    151.039033   \n",
       "min        0.760000      0.000000      0.000000      0.000000      0.000000   \n",
       "25%       16.665000     47.000000      7.001500      4.000000     36.000000   \n",
       "50%       24.240000     62.000000     12.998000     17.000000    118.000000   \n",
       "75%       31.060000     77.000000     16.997900     49.000000    222.000000   \n",
       "max       45.455000    100.000000     56.996900    367.000000    886.000000   \n",
       "\n",
       "              count  \n",
       "count  10886.000000  \n",
       "mean     191.574132  \n",
       "std      181.144454  \n",
       "min        1.000000  \n",
       "25%       42.000000  \n",
       "50%      145.000000  \n",
       "75%      284.000000  \n",
       "max      977.000000  "
      ]
     },
     "execution_count": 91,
     "metadata": {},
     "output_type": "execute_result"
    }
   ],
   "source": [
    "# Mesure de tendance centrale (moy, med, mode)\n",
    "\n",
    "df.describe()"
   ]
  },
  {
   "cell_type": "code",
   "execution_count": 113,
   "id": "f11a6243-b295-42c2-89d7-4345dd38efab",
   "metadata": {},
   "outputs": [
    {
     "data": {
      "text/html": [
       "<div>\n",
       "<style scoped>\n",
       "    .dataframe tbody tr th:only-of-type {\n",
       "        vertical-align: middle;\n",
       "    }\n",
       "\n",
       "    .dataframe tbody tr th {\n",
       "        vertical-align: top;\n",
       "    }\n",
       "\n",
       "    .dataframe thead th {\n",
       "        text-align: right;\n",
       "    }\n",
       "</style>\n",
       "<table border=\"1\" class=\"dataframe\">\n",
       "  <thead>\n",
       "    <tr style=\"text-align: right;\">\n",
       "      <th></th>\n",
       "      <th>datetime</th>\n",
       "      <th>season</th>\n",
       "      <th>holiday</th>\n",
       "      <th>workingday</th>\n",
       "      <th>weather</th>\n",
       "      <th>temp</th>\n",
       "      <th>atemp</th>\n",
       "      <th>humidity</th>\n",
       "      <th>windspeed</th>\n",
       "      <th>casual</th>\n",
       "      <th>registered</th>\n",
       "      <th>count</th>\n",
       "    </tr>\n",
       "  </thead>\n",
       "  <tbody>\n",
       "    <tr>\n",
       "      <th>0</th>\n",
       "      <td>2011-01-01</td>\n",
       "      <td>4.0</td>\n",
       "      <td>0.0</td>\n",
       "      <td>1.0</td>\n",
       "      <td>1.0</td>\n",
       "      <td>14.76</td>\n",
       "      <td>31.06</td>\n",
       "      <td>88.0</td>\n",
       "      <td>0.0</td>\n",
       "      <td>0.0</td>\n",
       "      <td>3.0</td>\n",
       "      <td>5.0</td>\n",
       "    </tr>\n",
       "  </tbody>\n",
       "</table>\n",
       "</div>"
      ],
      "text/plain": [
       "    datetime  season  holiday  workingday  weather   temp  atemp  humidity  \\\n",
       "0 2011-01-01     4.0      0.0         1.0      1.0  14.76  31.06      88.0   \n",
       "\n",
       "   windspeed  casual  registered  count  \n",
       "0        0.0     0.0         3.0    5.0  "
      ]
     },
     "execution_count": 113,
     "metadata": {},
     "output_type": "execute_result"
    }
   ],
   "source": [
    "df.mode().head(1)"
   ]
  },
  {
   "cell_type": "markdown",
   "id": "5fc0f898-ea37-46fd-b592-fdb4c0b541ac",
   "metadata": {},
   "source": [
    "## 2/ Division de ‘train’ ⇒ \n",
    "- Entrainement : 01/2011 à 08/2012 \n",
    "- Test : 09/2012 à 12/2012"
   ]
  },
  {
   "cell_type": "markdown",
   "id": "b90d69c3-ab00-405a-ab6a-33c0fc7442e1",
   "metadata": {},
   "source": [
    "# Recherche de datetime == 08/2012\n",
    "\n",
    "print (df.loc[df['datetime'].str.contains('2012-08')])"
   ]
  },
  {
   "cell_type": "code",
   "execution_count": 108,
   "id": "a1ad2e1f-b3df-4dae-b190-18a16bc0bc97",
   "metadata": {},
   "outputs": [],
   "source": [
    "#Split a dataframe based on a date in a datetime column\n",
    "\n",
    "df_train = df.loc[df['datetime'] <= '2012-08-19 23:00:00']\n",
    "df_test = df.loc[df['datetime'] >= '2012-09']"
   ]
  },
  {
   "cell_type": "code",
   "execution_count": 114,
   "id": "45a6907d-c2e0-4492-990a-06fdf3a3cdcb",
   "metadata": {},
   "outputs": [],
   "source": [
    "from sklearn.model_selection import train_test_split\n",
    "\n",
    "X = df_train.drop(columns=['count'])\n",
    "y = df_train['count']\n",
    "\n",
    "#X_train, X_test, y_train, y_test = train_test_split(X, y, test_size=0.2, random_state = 3)"
   ]
  },
  {
   "cell_type": "code",
   "execution_count": null,
   "id": "ad211666-446d-4cfa-8bc0-231f2ba408af",
   "metadata": {},
   "outputs": [],
   "source": []
  }
 ],
 "metadata": {
  "kernelspec": {
   "display_name": "Python 3 (ipykernel)",
   "language": "python",
   "name": "python3"
  },
  "language_info": {
   "codemirror_mode": {
    "name": "ipython",
    "version": 3
   },
   "file_extension": ".py",
   "mimetype": "text/x-python",
   "name": "python",
   "nbconvert_exporter": "python",
   "pygments_lexer": "ipython3",
   "version": "3.9.7"
  }
 },
 "nbformat": 4,
 "nbformat_minor": 5
}
